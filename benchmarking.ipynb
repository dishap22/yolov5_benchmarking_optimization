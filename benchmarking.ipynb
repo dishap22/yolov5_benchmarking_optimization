{
 "cells": [
  {
   "cell_type": "markdown",
   "metadata": {},
   "source": [
    "# Import requirements"
   ]
  },
  {
   "cell_type": "code",
   "execution_count": 37,
   "metadata": {},
   "outputs": [],
   "source": [
    "import time\n",
    "import os\n",
    "import torch\n",
    "import torchvision.transforms as transforms\n",
    "import matplotlib.pyplot as plt\n",
    "from pathlib import Path\n",
    "from PIL import Image\n",
    "from torchinfo import summary\n",
    "from fvcore.nn import FlopCountAnalysis\n",
    "import torch.profiler\n",
    "import cProfile\n",
    "import pstats\n",
    "import io\n",
    "\n",
    "current_dir = os.path.basename(os.getcwd())\n",
    "\n",
    "if current_dir != \"yolov5\":\n",
    "    if os.path.isdir(\"yolov5\"):\n",
    "        os.chdir(\"yolov5\")\n",
    "\n",
    "from models.common import DetectMultiBackend\n",
    "from utils.torch_utils import select_device\n"
   ]
  },
  {
   "cell_type": "markdown",
   "metadata": {},
   "source": [
    "# Load COCO 128 dataset"
   ]
  },
  {
   "cell_type": "code",
   "execution_count": 38,
   "metadata": {},
   "outputs": [
    {
     "name": "stdout",
     "output_type": "stream",
     "text": [
      "Total images: 100\n"
     ]
    }
   ],
   "source": [
    "data_path  = Path(\"../datasets/coco128/images/train2017\")\n",
    "image_files = list(data_path.glob(\"*.jpg\"))[:100]\n",
    "print(f\"Total images: {len(image_files)}\")"
   ]
  },
  {
   "cell_type": "markdown",
   "metadata": {},
   "source": [
    "# Load YOLOv5 models"
   ]
  },
  {
   "cell_type": "code",
   "execution_count": 39,
   "metadata": {},
   "outputs": [
    {
     "name": "stderr",
     "output_type": "stream",
     "text": [
      "YOLOv5 🚀 v7.0-411-gf4d8a84c Python-3.11.11 torch-2.6.0+cu124 CUDA:0 (NVIDIA GeForce RTX 3060 Laptop GPU, 5938MiB)\n",
      "\n",
      "Fusing layers... \n",
      "YOLOv5n summary: 213 layers, 1867405 parameters, 0 gradients, 4.5 GFLOPs\n"
     ]
    },
    {
     "name": "stdout",
     "output_type": "stream",
     "text": [
      "Using device: cuda:0\n"
     ]
    },
    {
     "name": "stderr",
     "output_type": "stream",
     "text": [
      "Fusing layers... \n",
      "YOLOv5s summary: 213 layers, 7225885 parameters, 0 gradients, 16.4 GFLOPs\n",
      "Fusing layers... \n",
      "YOLOv5m summary: 290 layers, 21172173 parameters, 0 gradients, 48.9 GFLOPs\n",
      "Fusing layers... \n",
      "YOLOv5l summary: 367 layers, 46533693 parameters, 0 gradients, 109.0 GFLOPs\n",
      "Fusing layers... \n",
      "YOLOv5x summary: 444 layers, 86705005 parameters, 0 gradients, 205.5 GFLOPs\n"
     ]
    }
   ],
   "source": [
    "device = select_device(\"0\" if torch.cuda.is_available() else \"cpu\")\n",
    "print(f\"Using device: {device}\")\n",
    "\n",
    "models  = {\n",
    "    'yolov5n': DetectMultiBackend('yolov5n.pt', device=device),\n",
    "    'yolov5s': DetectMultiBackend('yolov5s.pt', device=device),\n",
    "    'yolov5m': DetectMultiBackend('yolov5m.pt', device=device),\n",
    "    'yolov5l': DetectMultiBackend('yolov5l.pt', device=device),\n",
    "    'yolov5x': DetectMultiBackend('yolov5x.pt', device=device),\n",
    "}"
   ]
  },
  {
   "cell_type": "markdown",
   "metadata": {},
   "source": [
    "# Run Inference and Benchmark Performance"
   ]
  },
  {
   "cell_type": "code",
   "execution_count": 40,
   "metadata": {},
   "outputs": [
    {
     "name": "stderr",
     "output_type": "stream",
     "text": [
      "Unsupported operator aten::silu_ encountered 57 time(s)\n",
      "Unsupported operator aten::add encountered 10 time(s)\n",
      "Unsupported operator aten::max_pool2d encountered 3 time(s)\n",
      "Unsupported operator aten::mul encountered 22 time(s)\n",
      "Unsupported operator aten::sigmoid encountered 3 time(s)\n",
      "Unsupported operator aten::pow encountered 3 time(s)\n",
      "Unsupported operator aten::silu_ encountered 57 time(s)\n",
      "Unsupported operator aten::add encountered 10 time(s)\n",
      "Unsupported operator aten::max_pool2d encountered 3 time(s)\n",
      "Unsupported operator aten::mul encountered 22 time(s)\n",
      "Unsupported operator aten::sigmoid encountered 3 time(s)\n",
      "Unsupported operator aten::pow encountered 3 time(s)\n",
      "Unsupported operator aten::silu_ encountered 79 time(s)\n",
      "Unsupported operator aten::add encountered 17 time(s)\n",
      "Unsupported operator aten::max_pool2d encountered 3 time(s)\n",
      "Unsupported operator aten::mul encountered 22 time(s)\n",
      "Unsupported operator aten::sigmoid encountered 3 time(s)\n",
      "Unsupported operator aten::pow encountered 3 time(s)\n",
      "Unsupported operator aten::silu_ encountered 101 time(s)\n",
      "Unsupported operator aten::add encountered 24 time(s)\n",
      "Unsupported operator aten::max_pool2d encountered 3 time(s)\n",
      "Unsupported operator aten::mul encountered 22 time(s)\n",
      "Unsupported operator aten::sigmoid encountered 3 time(s)\n",
      "Unsupported operator aten::pow encountered 3 time(s)\n",
      "Unsupported operator aten::silu_ encountered 123 time(s)\n",
      "Unsupported operator aten::add encountered 31 time(s)\n",
      "Unsupported operator aten::max_pool2d encountered 3 time(s)\n",
      "Unsupported operator aten::mul encountered 22 time(s)\n",
      "Unsupported operator aten::sigmoid encountered 3 time(s)\n",
      "Unsupported operator aten::pow encountered 3 time(s)\n"
     ]
    }
   ],
   "source": [
    "transform = transforms.Compose([\n",
    "    transforms.ToTensor(),\n",
    "    transforms.Resize((640, 640))\n",
    "])\n",
    "\n",
    "\n",
    "latencies = {}\n",
    "fps_values = {}\n",
    "gflops_dict = {}\n",
    "params_dict = {}\n",
    "utilization_dict = {}\n",
    "model_size_dict = {}\n",
    "per_layer_gflops_dict = {}\n",
    "oi_dict = {}\n",
    "bound_type_dict = {}\n",
    "timing_results = []\n",
    "profile_outputs = {}\n",
    "\n",
    "PEAK_GFLOPS = 410 # GFLOPS\n",
    "PEAK_BANDWIDTH = 28.1 # GB/s\n",
    "\n",
    "if device != 'cpu:sk':  # GPU mode\n",
    "    PEAK_GFLOPS = 10940  # RTX 3060 Laptop\n",
    "    PEAK_BANDWIDTH = 336\n",
    "\n",
    "for model_name, model in models.items():\n",
    "\n",
    "    model = model.to(device).eval()\n",
    "    dummy = torch.randn(1, 3, 640, 640).to(device)\n",
    "    for _ in range(3):\n",
    "        with torch.no_grad():\n",
    "            _ = model(dummy)\n",
    "\n",
    "    def profile_model_inference(model, image_files, transform, device):\n",
    "        total_time = 0\n",
    "        for img_path in image_files:\n",
    "            img = Image.open(img_path).convert('RGB')\n",
    "            img = transform(img).unsqueeze(0).to(device)\n",
    "\n",
    "            start_time = time.time()\n",
    "            with torch.no_grad():\n",
    "                _ = model(img)\n",
    "            end_time = time.time()\n",
    "\n",
    "            total_time += (end_time - start_time)\n",
    "        return total_time\n",
    "\n",
    "    # cProfile for profiling\n",
    "    pr = cProfile.Profile()\n",
    "    pr.enable()\n",
    "    total_time = profile_model_inference(model, image_files, transform, device)\n",
    "    pr.disable()\n",
    "\n",
    "    s = io.StringIO()\n",
    "    ps = pstats.Stats(pr, stream=s).strip_dirs().sort_stats('tottime')\n",
    "    ps.print_stats(15)\n",
    "\n",
    "    profile_outputs[model_name] = s.getvalue()\n",
    "\n",
    "    avg_latency = (total_time / len(image_files)) * 1000  # Convert to ms\n",
    "    avg_fps = len(image_files) / total_time  # Compute FPS\n",
    "\n",
    "    latencies[model_name] = avg_latency\n",
    "    fps_values[model_name] = avg_fps\n",
    "    timing_results.append((model_name, avg_latency, avg_fps))\n",
    "\n",
    "    # model parameters\n",
    "    info = summary(model, input_size=(1, 3, 640, 640), verbose=0)\n",
    "    total_params = info.total_params\n",
    "    params_m = total_params / 1e6\n",
    "    model_size_mb = total_params * 4 / (1024 ** 2)\n",
    "\n",
    "    params_dict[model_name] = params_m\n",
    "    model_size_dict[model_name] = model_size_mb\n",
    "\n",
    "    # FLOPs\n",
    "    input_tensor = torch.randn(1, 3, 640, 640).to(device)\n",
    "    flops = FlopCountAnalysis(model, input_tensor)\n",
    "    total_flops = flops.total()\n",
    "    gflops = total_flops / 1e9\n",
    "    gflops_dict[model_name] = gflops\n",
    "\n",
    "\n",
    "    # Utilization\n",
    "    actual_gflops_per_second = gflops / (avg_latency / 1000)\n",
    "    utilization = (actual_gflops_per_second / PEAK_GFLOPS) * 100\n",
    "    utilization_dict[model_name] = utilization\n",
    "\n",
    "    # Operational Intensity\n",
    "    input_size_bytes = 3 * 640 * 640 * 4  # RGB image, float32\n",
    "    activation_estimate = input_size_bytes * 3\n",
    "    memory_accessed = total_params * 4 + activation_estimate\n",
    "    oi = total_flops / memory_accessed\n",
    "    peak_oi = PEAK_GFLOPS / PEAK_BANDWIDTH\n",
    "\n",
    "    oi_dict[model_name] = oi\n",
    "    bound_type = \"Compute Bound\" if oi > peak_oi else \"Memory Bound\"\n",
    "    bound_type_dict[model_name] = bound_type\n",
    "\n",
    "    # Per-layer GFLOPs\n",
    "    layer_flops = flops.by_module()\n",
    "    layer_gflops = {k: v / 1e9 for k, v in layer_flops.items()}\n",
    "    per_layer_gflops_dict[model_name] = layer_gflops"
   ]
  },
  {
   "cell_type": "markdown",
   "metadata": {},
   "source": [
    "# Benchmarking Results"
   ]
  },
  {
   "cell_type": "code",
   "execution_count": 41,
   "metadata": {},
   "outputs": [
    {
     "name": "stdout",
     "output_type": "stream",
     "text": [
      "_______________________________________________\n",
      "Model                  Latency (ms)        FPS\n",
      "_______________________________________________\n",
      "yolov5n                    6.57 ms      152.22\n",
      "yolov5s                   17.07 ms       58.59\n",
      "yolov5m                    8.93 ms      111.99\n",
      "yolov5l                    9.57 ms      104.46\n",
      "yolov5x                   11.08 ms       90.27\n",
      "_______________________________________________\n"
     ]
    }
   ],
   "source": [
    "print(\"_______________________________________________\")\n",
    "print(\"Model                  Latency (ms)        FPS\")\n",
    "print(\"_______________________________________________\")\n",
    "for model_name, latency, fps in timing_results:\n",
    "    print(f\"{model_name:<16} {latency:>14.2f} ms    {fps:>8.2f}\")\n",
    "print(\"_______________________________________________\")"
   ]
  },
  {
   "cell_type": "markdown",
   "metadata": {},
   "source": [
    "# Visualization"
   ]
  },
  {
   "cell_type": "code",
   "execution_count": 42,
   "metadata": {},
   "outputs": [
    {
     "data": {
      "image/png": "[encoded data removed]",
      "text/plain": [
       "<Figure size 1000x500 with 1 Axes>"
      ]
     },
     "metadata": {},
     "output_type": "display_data"
    },
    {
     "data": {
      "image/png": "[encoded data removed]",
      "text/plain": [
       "<Figure size 1000x500 with 1 Axes>"
      ]
     },
     "metadata": {},
     "output_type": "display_data"
    }
   ],
   "source": [
    "%matplotlib inline\n",
    "\n",
    "# Plot Latency\n",
    "plt.figure(figsize=(10, 5))\n",
    "plt.bar(latencies.keys(), latencies.values(), color='blue')\n",
    "plt.xlabel('Model')\n",
    "plt.ylabel('Latency (ms)')\n",
    "plt.title('YOLOv5 Model Latency')\n",
    "plt.show()\n",
    "\n",
    "# Plot FPS\n",
    "plt.figure(figsize=(10, 5))\n",
    "plt.bar(fps_values.keys(), fps_values.values(), color='red')\n",
    "plt.xlabel('Model')\n",
    "plt.ylabel('Frames Per Second (FPS)')\n",
    "plt.title('YOLOv5 Model FPS')\n",
    "plt.show()\n"
   ]
  },
  {
   "cell_type": "markdown",
   "metadata": {},
   "source": [
    "# Accuracy Analysis"
   ]
  },
  {
   "cell_type": "code",
   "execution_count": 43,
   "metadata": {},
   "outputs": [
    {
     "name": "stdout",
     "output_type": "stream",
     "text": [
      "\u001b[34m\u001b[1mval: \u001b[0mdata=/home/dishapant/Desktop/spp/yolov5_benchmarking_optimization/yolov5/data/coco128.yaml, weights=['yolov5n.pt'], batch_size=32, imgsz=640, conf_thres=0.001, iou_thres=0.65, max_det=300, task=val, device=, workers=8, single_cls=False, augment=False, verbose=False, save_txt=False, save_hybrid=False, save_conf=False, save_json=False, project=runs/val, name=exp, exist_ok=False, half=False, dnn=False\n",
      "YOLOv5 🚀 v7.0-411-gf4d8a84c Python-3.11.11 torch-2.6.0+cu124 CUDA:0 (NVIDIA GeForce RTX 3060 Laptop GPU, 5938MiB)\n",
      "\n",
      "Fusing layers... \n",
      "YOLOv5n summary: 213 layers, 1867405 parameters, 0 gradients, 4.5 GFLOPs\n",
      "\u001b[34m\u001b[1mval: \u001b[0mScanning /home/dishapant/Desktop/spp/yolov5_benchmarking_optimization/datas\u001b[0m\n",
      "                 Class     Images  Instances          P          R      mAP50   \n",
      "                   all        128        929      0.629      0.478      0.541      0.349\n",
      "Speed: 0.3ms pre-process, 7.9ms inference, 4.6ms NMS per image at shape (32, 3, 640, 640)\n",
      "Results saved to \u001b[1mruns/val/exp37\u001b[0m\n"
     ]
    }
   ],
   "source": [
    "# For YOLOv5n\n",
    "!python val.py --weights yolov5n.pt --data coco128.yaml --img 640 --iou 0.65 --task val"
   ]
  },
  {
   "cell_type": "code",
   "execution_count": 44,
   "metadata": {},
   "outputs": [
    {
     "name": "stdout",
     "output_type": "stream",
     "text": [
      "\u001b[34m\u001b[1mval: \u001b[0mdata=/home/dishapant/Desktop/spp/yolov5_benchmarking_optimization/yolov5/data/coco128.yaml, weights=['yolov5s.pt'], batch_size=32, imgsz=640, conf_thres=0.001, iou_thres=0.65, max_det=300, task=val, device=, workers=8, single_cls=False, augment=False, verbose=False, save_txt=False, save_hybrid=False, save_conf=False, save_json=False, project=runs/val, name=exp, exist_ok=False, half=False, dnn=False\n",
      "YOLOv5 🚀 v7.0-411-gf4d8a84c Python-3.11.11 torch-2.6.0+cu124 CUDA:0 (NVIDIA GeForce RTX 3060 Laptop GPU, 5938MiB)\n",
      "\n",
      "Fusing layers... \n",
      "YOLOv5s summary: 213 layers, 7225885 parameters, 0 gradients, 16.4 GFLOPs\n",
      "\u001b[34m\u001b[1mval: \u001b[0mScanning /home/dishapant/Desktop/spp/yolov5_benchmarking_optimization/datas\u001b[0m\n",
      "                 Class     Images  Instances          P          R      mAP50   \n",
      "                   all        128        929       0.69      0.623      0.702       0.48\n",
      "Speed: 0.4ms pre-process, 14.8ms inference, 4.9ms NMS per image at shape (32, 3, 640, 640)\n",
      "Results saved to \u001b[1mruns/val/exp38\u001b[0m\n"
     ]
    }
   ],
   "source": [
    "# For YOLOv5s\n",
    "!python val.py --weights yolov5s.pt --data coco128.yaml --img 640 --iou 0.65 --task val"
   ]
  },
  {
   "cell_type": "code",
   "execution_count": 45,
   "metadata": {},
   "outputs": [
    {
     "name": "stdout",
     "output_type": "stream",
     "text": [
      "\u001b[34m\u001b[1mval: \u001b[0mdata=/home/dishapant/Desktop/spp/yolov5_benchmarking_optimization/yolov5/data/coco128.yaml, weights=['yolov5m.pt'], batch_size=32, imgsz=640, conf_thres=0.001, iou_thres=0.65, max_det=300, task=val, device=, workers=8, single_cls=False, augment=False, verbose=False, save_txt=False, save_hybrid=False, save_conf=False, save_json=False, project=runs/val, name=exp, exist_ok=False, half=False, dnn=False\n",
      "YOLOv5 🚀 v7.0-411-gf4d8a84c Python-3.11.11 torch-2.6.0+cu124 CUDA:0 (NVIDIA GeForce RTX 3060 Laptop GPU, 5938MiB)\n",
      "\n",
      "Fusing layers... \n",
      "YOLOv5m summary: 290 layers, 21172173 parameters, 0 gradients, 48.9 GFLOPs\n",
      "\u001b[34m\u001b[1mval: \u001b[0mScanning /home/dishapant/Desktop/spp/yolov5_benchmarking_optimization/datas\u001b[0m\n",
      "                 Class     Images  Instances          P          R      mAP50   \n",
      "                   all        128        929      0.736      0.694      0.773      0.553\n",
      "Speed: 0.6ms pre-process, 18.5ms inference, 4.5ms NMS per image at shape (32, 3, 640, 640)\n",
      "Results saved to \u001b[1mruns/val/exp39\u001b[0m\n"
     ]
    }
   ],
   "source": [
    "# For YOLOv5m\n",
    "!python val.py --weights yolov5m.pt --data coco128.yaml --img 640 --iou 0.65 --task val"
   ]
  },
  {
   "cell_type": "code",
   "execution_count": 46,
   "metadata": {},
   "outputs": [
    {
     "name": "stdout",
     "output_type": "stream",
     "text": [
      "\u001b[34m\u001b[1mval: \u001b[0mdata=/home/dishapant/Desktop/spp/yolov5_benchmarking_optimization/yolov5/data/coco128.yaml, weights=['yolov5l.pt'], batch_size=32, imgsz=640, conf_thres=0.001, iou_thres=0.65, max_det=300, task=val, device=, workers=8, single_cls=False, augment=False, verbose=False, save_txt=False, save_hybrid=False, save_conf=False, save_json=False, project=runs/val, name=exp, exist_ok=False, half=False, dnn=False\n",
      "YOLOv5 🚀 v7.0-411-gf4d8a84c Python-3.11.11 torch-2.6.0+cu124 CUDA:0 (NVIDIA GeForce RTX 3060 Laptop GPU, 5938MiB)\n",
      "\n",
      "Fusing layers... \n",
      "YOLOv5l summary: 367 layers, 46533693 parameters, 0 gradients, 109.0 GFLOPs\n",
      "\u001b[34m\u001b[1mval: \u001b[0mScanning /home/dishapant/Desktop/spp/yolov5_benchmarking_optimization/datas\u001b[0m\n",
      "                 Class     Images  Instances          P          R      mAP50   \n",
      "                   all        128        929      0.795      0.694      0.811      0.602\n",
      "Speed: 0.5ms pre-process, 21.8ms inference, 3.6ms NMS per image at shape (32, 3, 640, 640)\n",
      "Results saved to \u001b[1mruns/val/exp40\u001b[0m\n"
     ]
    }
   ],
   "source": [
    "# For YOLOv5l\n",
    "!python val.py --weights yolov5l.pt --data coco128.yaml --img 640 --iou 0.65 --task val"
   ]
  },
  {
   "cell_type": "code",
   "execution_count": 47,
   "metadata": {},
   "outputs": [
    {
     "name": "stdout",
     "output_type": "stream",
     "text": [
      "\u001b[34m\u001b[1mval: \u001b[0mdata=/home/dishapant/Desktop/spp/yolov5_benchmarking_optimization/yolov5/data/coco128.yaml, weights=['yolov5x.pt'], batch_size=32, imgsz=640, conf_thres=0.001, iou_thres=0.65, max_det=300, task=val, device=, workers=8, single_cls=False, augment=False, verbose=False, save_txt=False, save_hybrid=False, save_conf=False, save_json=False, project=runs/val, name=exp, exist_ok=False, half=False, dnn=False\n",
      "YOLOv5 🚀 v7.0-411-gf4d8a84c Python-3.11.11 torch-2.6.0+cu124 CUDA:0 (NVIDIA GeForce RTX 3060 Laptop GPU, 5938MiB)\n",
      "\n",
      "Fusing layers... \n",
      "YOLOv5x summary: 444 layers, 86705005 parameters, 0 gradients, 205.5 GFLOPs\n",
      "\u001b[34m\u001b[1mval: \u001b[0mScanning /home/dishapant/Desktop/spp/yolov5_benchmarking_optimization/datas\u001b[0m\n",
      "                 Class     Images  Instances          P          R      mAP50   \n",
      "                   all        128        929      0.773      0.753      0.824       0.63\n",
      "Speed: 0.7ms pre-process, 53.8ms inference, 3.8ms NMS per image at shape (32, 3, 640, 640)\n",
      "Results saved to \u001b[1mruns/val/exp41\u001b[0m\n"
     ]
    }
   ],
   "source": [
    "# For YOLOv5x\n",
    "!python val.py --weights yolov5x.pt --data coco128.yaml --img 640 --iou 0.65 --task val"
   ]
  },
  {
   "cell_type": "markdown",
   "metadata": {},
   "source": [
    "# Roofline Analysis Information"
   ]
  },
  {
   "cell_type": "code",
   "execution_count": 48,
   "metadata": {},
   "outputs": [
    {
     "name": "stdout",
     "output_type": "stream",
     "text": [
      "\n",
      "\n",
      "===========================================================================\n",
      "Model      Params (M)  Size (MB)   GFLOPs   Utilization (%)   Bound Type\n",
      "===========================================================================\n",
      "yolov5n          1.87       7.12     2.23             3.11     Compute Bound\n",
      "yolov5s          7.23      27.56     8.22             4.40     Compute Bound\n",
      "yolov5m         21.17      80.77    24.44            25.02     Compute Bound\n",
      "yolov5l         46.53     177.51    54.50            52.04     Compute Bound\n",
      "yolov5x         86.71     330.75   102.73            84.76     Compute Bound\n",
      "===========================================================================\n"
     ]
    }
   ],
   "source": [
    "print(\"\\n\")\n",
    "print(\"===========================================================================\")\n",
    "print(\"Model      Params (M)  Size (MB)   GFLOPs   Utilization (%)   Bound Type\")\n",
    "print(\"===========================================================================\")\n",
    "\n",
    "for model_name in models.keys():\n",
    "    params_m = params_dict[model_name]\n",
    "    model_size = model_size_dict[model_name]\n",
    "    gflops = gflops_dict[model_name]\n",
    "    utilization = utilization_dict[model_name]\n",
    "    bound_type = bound_type_dict[model_name]\n",
    "\n",
    "    print(f\"{model_name:<10} {params_m:>10.2f}  {model_size:>9.2f}  {gflops:>7.2f}  \"\n",
    "          f\"{utilization:>15.2f}     {bound_type}\")\n",
    "\n",
    "print(\"===========================================================================\")\n"
   ]
  },
  {
   "cell_type": "markdown",
   "metadata": {},
   "source": [
    "# Per-Layer Analysis"
   ]
  },
  {
   "cell_type": "code",
   "execution_count": 49,
   "metadata": {},
   "outputs": [],
   "source": [
    "per_layer_utilization_dict = {}\n",
    "highest_util_layers = {}\n",
    "lowest_util_layers = {}\n",
    "\n",
    "for model_name in models.keys():\n",
    "    model_util = utilization_dict[model_name]\n",
    "    model_total_gflops = gflops_dict[model_name]\n",
    "    per_layer_gflops = per_layer_gflops_dict[model_name]\n",
    "\n",
    "    # Compute per-layer utilization approx.\n",
    "    per_layer_util = {}\n",
    "    for layer, layer_gflops in per_layer_gflops.items():\n",
    "        if layer.strip() == \"\" or layer.strip() in {\"model\", \"model.model\"}:\n",
    "            continue  # Skip root / aggregate layers\n",
    "        layer_util = (layer_gflops / model_total_gflops) * model_util\n",
    "        per_layer_util[layer] = layer_util\n",
    "\n",
    "    per_layer_utilization_dict[model_name] = per_layer_util\n",
    "\n",
    "    # Sort layers\n",
    "    sorted_layers = sorted(per_layer_util.items(), key=lambda x: x[1], reverse=True)\n",
    "\n",
    "    # Save top and bottom 3 layers\n",
    "    highest_util_layers[model_name] = sorted_layers[:3]\n",
    "    lowest_util_layers[model_name] = sorted_layers[-3:]\n"
   ]
  },
  {
   "cell_type": "code",
   "execution_count": 50,
   "metadata": {},
   "outputs": [
    {
     "name": "stdout",
     "output_type": "stream",
     "text": [
      "\n",
      "===================================================================\n",
      "Per-Layer Utilization Summary\n",
      "===================================================================\n",
      "\n",
      "Model: yolov5n\n",
      "Highest Utilization Layers:\n",
      "    model.model.6                           : 0.35%\n",
      "    model.model.6.m                         : 0.27%\n",
      "    model.model.4                           : 0.26%\n",
      "Lowest Utilization Layers:\n",
      "    model.model.23.cv3.act                  : 0.00%\n",
      "    model.model.23.m.0.cv1.act              : 0.00%\n",
      "    model.model.23.m.0.cv2.act              : 0.00%\n",
      "\n",
      "Model: yolov5s\n",
      "Highest Utilization Layers:\n",
      "    model.model.6                           : 0.53%\n",
      "    model.model.6.m                         : 0.42%\n",
      "    model.model.4                           : 0.39%\n",
      "Lowest Utilization Layers:\n",
      "    model.model.23.cv3.act                  : 0.00%\n",
      "    model.model.23.m.0.cv1.act              : 0.00%\n",
      "    model.model.23.m.0.cv2.act              : 0.00%\n",
      "\n",
      "Model: yolov5m\n",
      "Highest Utilization Layers:\n",
      "    model.model.6                           : 4.11%\n",
      "    model.model.6.m                         : 3.62%\n",
      "    model.model.4                           : 2.90%\n",
      "Lowest Utilization Layers:\n",
      "    model.model.23.m.0.cv2.act              : 0.00%\n",
      "    model.model.23.m.1.cv1.act              : 0.00%\n",
      "    model.model.23.m.1.cv2.act              : 0.00%\n",
      "\n",
      "Model: yolov5l\n",
      "Highest Utilization Layers:\n",
      "    model.model.6                           : 9.81%\n",
      "    model.model.6.m                         : 9.01%\n",
      "    model.model.4                           : 6.81%\n",
      "Lowest Utilization Layers:\n",
      "    model.model.23.m.1.cv2.act              : 0.00%\n",
      "    model.model.23.m.2.cv1.act              : 0.00%\n",
      "    model.model.23.m.2.cv2.act              : 0.00%\n",
      "\n",
      "Model: yolov5x\n",
      "Highest Utilization Layers:\n",
      "    model.model.6                           : 17.30%\n",
      "    model.model.6.m                         : 16.22%\n",
      "    model.model.4                           : 11.90%\n",
      "Lowest Utilization Layers:\n",
      "    model.model.23.m.2.cv2.act              : 0.00%\n",
      "    model.model.23.m.3.cv1.act              : 0.00%\n",
      "    model.model.23.m.3.cv2.act              : 0.00%\n",
      "===================================================================\n"
     ]
    }
   ],
   "source": [
    "print(\"\\n===================================================================\")\n",
    "print(\"Per-Layer Utilization Summary\")\n",
    "print(\"===================================================================\")\n",
    "\n",
    "for model_name in models.keys():\n",
    "    print(f\"\\nModel: {model_name}\")\n",
    "\n",
    "    print(\"Highest Utilization Layers:\")\n",
    "    for layer, util in highest_util_layers[model_name]:\n",
    "        print(f\"    {layer:<40}: {util:.2f}%\")\n",
    "\n",
    "    print(\"Lowest Utilization Layers:\")\n",
    "    for layer, util in lowest_util_layers[model_name]:\n",
    "        print(f\"    {layer:<40}: {util:.2f}%\")\n",
    "print(\"===================================================================\")"
   ]
  },
  {
   "cell_type": "markdown",
   "metadata": {},
   "source": [
    "# cProfile Profiling results"
   ]
  },
  {
   "cell_type": "code",
   "execution_count": 51,
   "metadata": {},
   "outputs": [
    {
     "name": "stdout",
     "output_type": "stream",
     "text": [
      "\n",
      "=== cProfile for yolov5n ===\n",
      "         209792 function calls (166592 primitive calls) in 1.042 seconds\n",
      "\n",
      "   Ordered by: internal time\n",
      "   List reduced from 195 to 15 due to restriction <15>\n",
      "\n",
      "   ncalls  tottime  percall  cumtime  percall filename:lineno(function)\n",
      "     6000    0.290    0.000    0.290    0.000 {built-in method torch.conv2d}\n",
      "      128    0.097    0.001    0.097    0.001 {method 'decode' of 'ImagingDecoder' objects}\n",
      "      200    0.070    0.000    0.070    0.000 {method 'to' of 'torch._C.TensorBase' objects}\n",
      "      100    0.068    0.001    0.068    0.001 {built-in method torch._C._nn._upsample_bilinear2d_aa}\n",
      "21500/200    0.051    0.000    0.732    0.004 module.py:1743(_call_impl)\n",
      "     5700    0.042    0.000    0.042    0.000 {built-in method torch._C._nn.silu_}\n",
      "     1700    0.031    0.000    0.031    0.000 {built-in method torch.cat}\n",
      "21500/200    0.030    0.000    0.733    0.004 module.py:1735(_wrapped_call_impl)\n",
      "      100    0.027    0.000    0.078    0.001 yolo.py:92(forward)\n",
      "    29700    0.026    0.000    0.026    0.000 module.py:1915(__getattr__)\n",
      "      400    0.026    0.000    0.026    0.000 {method 'contiguous' of 'torch._C.TensorBase' objects}\n",
      "     5700    0.019    0.000    0.441    0.000 common.py:89(forward_fuse)\n",
      "      100    0.016    0.000    0.016    0.000 {method 'div' of 'torch._C.TensorBase' objects}\n",
      "     1100    0.016    0.000    0.197    0.000 common.py:177(forward)\n",
      "     6000    0.013    0.000    0.319    0.000 conv.py:553(forward)\n",
      "\n",
      "\n",
      "\n",
      "\n",
      "=== cProfile for yolov5s ===\n",
      "         209592 function calls (166392 primitive calls) in 2.114 seconds\n",
      "\n",
      "   Ordered by: internal time\n",
      "   List reduced from 193 to 15 due to restriction <15>\n",
      "\n",
      "   ncalls  tottime  percall  cumtime  percall filename:lineno(function)\n",
      "     6000    0.818    0.000    0.818    0.000 {built-in method torch.conv2d}\n",
      "     5700    0.125    0.000    0.125    0.000 {built-in method torch._C._nn.silu_}\n",
      "21500/200    0.119    0.000    1.781    0.009 module.py:1743(_call_impl)\n",
      "      128    0.106    0.001    0.106    0.001 {method 'decode' of 'ImagingDecoder' objects}\n",
      "21500/200    0.075    0.000    1.782    0.009 module.py:1735(_wrapped_call_impl)\n",
      "      200    0.071    0.000    0.071    0.000 {method 'to' of 'torch._C.TensorBase' objects}\n",
      "      100    0.068    0.001    0.068    0.001 {built-in method torch._C._nn._upsample_bilinear2d_aa}\n",
      "     1700    0.066    0.000    0.066    0.000 {built-in method torch.cat}\n",
      "    29700    0.063    0.000    0.063    0.000 module.py:1915(__getattr__)\n",
      "     1100    0.060    0.000    0.668    0.001 common.py:177(forward)\n",
      "     5700    0.058    0.000    1.253    0.000 common.py:89(forward_fuse)\n",
      "      100    0.043    0.000    0.123    0.001 yolo.py:92(forward)\n",
      "     6000    0.037    0.000    0.894    0.000 conv.py:553(forward)\n",
      "    21700    0.036    0.000    0.036    0.000 {built-in method torch._C._get_tracing_state}\n",
      "      800    0.030    0.000    1.255    0.002 common.py:245(forward)\n",
      "\n",
      "\n",
      "\n",
      "\n",
      "=== cProfile for yolov5m ===\n",
      "         262392 function calls (203792 primitive calls) in 3.410 seconds\n",
      "\n",
      "   Ordered by: internal time\n",
      "   List reduced from 193 to 15 due to restriction <15>\n",
      "\n",
      "   ncalls  tottime  percall  cumtime  percall filename:lineno(function)\n",
      "      200    2.162    0.011    2.162    0.011 {method 'to' of 'torch._C.TensorBase' objects}\n",
      "     8200    0.421    0.000    0.421    0.000 {built-in method torch.conv2d}\n",
      "      128    0.105    0.001    0.105    0.001 {method 'decode' of 'ImagingDecoder' objects}\n",
      "      100    0.083    0.001    0.083    0.001 {built-in method torch._C._nn._upsample_bilinear2d_aa}\n",
      "29200/200    0.067    0.000    0.982    0.005 module.py:1743(_call_impl)\n",
      "     7900    0.057    0.000    0.057    0.000 {built-in method torch._C._nn.silu_}\n",
      "29200/200    0.041    0.000    0.983    0.005 module.py:1735(_wrapped_call_impl)\n",
      "     1700    0.035    0.000    0.035    0.000 {built-in method torch.cat}\n",
      "    40700    0.035    0.000    0.035    0.000 module.py:1915(__getattr__)\n",
      "      100    0.031    0.000    0.090    0.001 yolo.py:92(forward)\n",
      "      400    0.028    0.000    0.028    0.000 {method 'contiguous' of 'torch._C.TensorBase' objects}\n",
      "     2200    0.026    0.000    0.378    0.000 common.py:177(forward)\n",
      "     7900    0.025    0.000    0.628    0.000 common.py:89(forward_fuse)\n",
      "      100    0.017    0.000    0.017    0.000 {method 'div' of 'torch._C.TensorBase' objects}\n",
      "    29400    0.017    0.000    0.017    0.000 {built-in method torch._C._get_tracing_state}\n",
      "\n",
      "\n",
      "\n",
      "\n",
      "=== cProfile for yolov5l ===\n",
      "         315212 function calls (241212 primitive calls) in 3.853 seconds\n",
      "\n",
      "   Ordered by: internal time\n",
      "   List reduced from 200 to 15 due to restriction <15>\n",
      "\n",
      "   ncalls  tottime  percall  cumtime  percall filename:lineno(function)\n",
      "      200    2.567    0.013    2.567    0.013 {method 'to' of 'torch._C.TensorBase' objects}\n",
      "    10400    0.457    0.000    0.457    0.000 {built-in method torch.conv2d}\n",
      "      128    0.092    0.001    0.092    0.001 {method 'decode' of 'ImagingDecoder' objects}\n",
      "      100    0.082    0.001    0.082    0.001 {built-in method torch._C._nn._upsample_bilinear2d_aa}\n",
      "36900/200    0.074    0.000    1.044    0.005 module.py:1743(_call_impl)\n",
      "    10100    0.064    0.000    0.064    0.000 {built-in method torch._C._nn.silu_}\n",
      "36900/200    0.045    0.000    1.045    0.005 module.py:1735(_wrapped_call_impl)\n",
      "    51700    0.039    0.000    0.039    0.000 module.py:1915(__getattr__)\n",
      "     3300    0.034    0.000    0.496    0.000 common.py:177(forward)\n",
      "     1700    0.032    0.000    0.032    0.000 {built-in method torch.cat}\n",
      "      400    0.029    0.000    0.029    0.000 {method 'contiguous' of 'torch._C.TensorBase' objects}\n",
      "      100    0.029    0.000    0.083    0.001 yolo.py:92(forward)\n",
      "    10100    0.028    0.000    0.695    0.000 common.py:89(forward_fuse)\n",
      "    10400    0.019    0.000    0.501    0.000 conv.py:553(forward)\n",
      "    37100    0.018    0.000    0.018    0.000 {built-in method torch._C._get_tracing_state}\n",
      "\n",
      "\n",
      "\n",
      "\n",
      "=== cProfile for yolov5x ===\n",
      "         367992 function calls (278592 primitive calls) in 7.762 seconds\n",
      "\n",
      "   Ordered by: internal time\n",
      "   List reduced from 193 to 15 due to restriction <15>\n",
      "\n",
      "   ncalls  tottime  percall  cumtime  percall filename:lineno(function)\n",
      "      200    6.322    0.032    6.322    0.032 {method 'to' of 'torch._C.TensorBase' objects}\n",
      "    12600    0.537    0.000    0.537    0.000 {built-in method torch.conv2d}\n",
      "      128    0.096    0.001    0.096    0.001 {method 'decode' of 'ImagingDecoder' objects}\n",
      "44600/200    0.087    0.000    1.187    0.006 module.py:1743(_call_impl)\n",
      "    12300    0.076    0.000    0.076    0.000 {built-in method torch._C._nn.silu_}\n",
      "      100    0.074    0.001    0.074    0.001 {built-in method torch._C._nn._upsample_bilinear2d_aa}\n",
      "44600/200    0.053    0.000    1.188    0.006 module.py:1735(_wrapped_call_impl)\n",
      "    62700    0.047    0.000    0.047    0.000 module.py:1915(__getattr__)\n",
      "     4400    0.044    0.000    0.639    0.000 common.py:177(forward)\n",
      "    12300    0.034    0.000    0.823    0.000 common.py:89(forward_fuse)\n",
      "     1700    0.032    0.000    0.032    0.000 {built-in method torch.cat}\n",
      "      400    0.030    0.000    0.030    0.000 {method 'contiguous' of 'torch._C.TensorBase' objects}\n",
      "      100    0.027    0.000    0.079    0.001 yolo.py:92(forward)\n",
      "    12600    0.022    0.000    0.589    0.000 conv.py:553(forward)\n",
      "    44800    0.021    0.000    0.021    0.000 {built-in method torch._C._get_tracing_state}\n",
      "\n",
      "\n",
      "\n",
      "\n",
      "========================================\n"
     ]
    }
   ],
   "source": [
    "for model_name, stats in profile_outputs.items():\n",
    "    print(f\"\\n=== cProfile for {model_name} ===\")\n",
    "    print(stats)\n",
    "print(\"\\n========================================\")"
   ]
  }
 ],
 "metadata": {
  "kernelspec": {
   "display_name": "yolo-benchmark",
   "language": "python",
   "name": "python3"
  },
  "language_info": {
   "codemirror_mode": {
    "name": "ipython",
    "version": 3
   },
   "file_extension": ".py",
   "mimetype": "text/x-python",
   "name": "python",
   "nbconvert_exporter": "python",
   "pygments_lexer": "ipython3",
   "version": "3.11.11"
  }
 },
 "nbformat": 4,
 "nbformat_minor": 2
}
