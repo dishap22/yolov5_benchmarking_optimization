{
 "cells": [
  {
   "cell_type": "markdown",
   "metadata": {},
   "source": [
    "# Import requirements"
   ]
  },
  {
   "cell_type": "code",
   "execution_count": 2,
   "metadata": {},
   "outputs": [],
   "source": [
    "import time\n",
    "import os\n",
    "import torch\n",
    "import torchvision.transforms as transforms\n",
    "import matplotlib.pyplot as plt\n",
    "from pathlib import Path\n",
    "from PIL import Image\n",
    "from torchinfo import summary\n",
    "from fvcore.nn import FlopCountAnalysis\n",
    "import torch.profiler\n",
    "import cProfile\n",
    "import pstats\n",
    "import io\n",
    "from torch.quantization import quantize_dynamic\n",
    "import onnx\n",
    "import numpy as np\n",
    "import onnxruntime as ort\n",
    "\n",
    "current_dir = os.path.basename(os.getcwd())\n",
    "\n",
    "if current_dir != \"yolov5\":\n",
    "    if os.path.isdir(\"yolov5\"):\n",
    "        os.chdir(\"yolov5\")\n",
    "\n",
    "from models.common import DetectMultiBackend\n",
    "from utils.torch_utils import select_device\n",
    "from utils.general import non_max_suppression, scale_boxes\n",
    "from utils.augmentations import letterbox\n"
   ]
  },
  {
   "cell_type": "markdown",
   "metadata": {},
   "source": [
    "# Load COCO 128 dataset"
   ]
  },
  {
   "cell_type": "code",
   "execution_count": 3,
   "metadata": {},
   "outputs": [
    {
     "name": "stdout",
     "output_type": "stream",
     "text": [
      "Total images: 100\n"
     ]
    }
   ],
   "source": [
    "data_path  = Path(\"../datasets/coco128/images/train2017\")\n",
    "image_files = list(data_path.glob(\"*.jpg\"))[:100]\n",
    "print(f\"Total images: {len(image_files)}\")"
   ]
  },
  {
   "cell_type": "markdown",
   "metadata": {},
   "source": [
    "# Load YOLOv5 models"
   ]
  },
  {
   "cell_type": "code",
   "execution_count": 4,
   "metadata": {},
   "outputs": [
    {
     "name": "stderr",
     "output_type": "stream",
     "text": [
      "YOLOv5 🚀 v7.0-411-gf4d8a84c Python-3.11.11 torch-2.6.0+cu124 CPU\n",
      "\n"
     ]
    },
    {
     "name": "stdout",
     "output_type": "stream",
     "text": [
      "Using device: cpu\n"
     ]
    },
    {
     "name": "stderr",
     "output_type": "stream",
     "text": [
      "Fusing layers... \n",
      "YOLOv5n summary: 213 layers, 1867405 parameters, 0 gradients, 4.5 GFLOPs\n",
      "Fusing layers... \n",
      "YOLOv5s summary: 213 layers, 7225885 parameters, 0 gradients, 16.4 GFLOPs\n",
      "Fusing layers... \n",
      "YOLOv5m summary: 290 layers, 21172173 parameters, 0 gradients, 48.9 GFLOPs\n",
      "Fusing layers... \n",
      "YOLOv5l summary: 367 layers, 46533693 parameters, 0 gradients, 109.0 GFLOPs\n",
      "Fusing layers... \n",
      "YOLOv5x summary: 444 layers, 86705005 parameters, 0 gradients, 205.5 GFLOPs\n"
     ]
    }
   ],
   "source": [
    "device = select_device(\"cpu\")\n",
    "print(f\"Using device: {device}\")\n",
    "\n",
    "models  = {\n",
    "    'yolov5n': DetectMultiBackend('yolov5n.pt', device=device),\n",
    "    'yolov5s': DetectMultiBackend('yolov5s.pt', device=device),\n",
    "    'yolov5m': DetectMultiBackend('yolov5m.pt', device=device),\n",
    "    'yolov5l': DetectMultiBackend('yolov5l.pt', device=device),\n",
    "    'yolov5x': DetectMultiBackend('yolov5x.pt', device=device),\n",
    "}"
   ]
  },
  {
   "cell_type": "markdown",
   "metadata": {},
   "source": [
    "# Pipeline, benchmarking and stagewise time breakdown"
   ]
  },
  {
   "cell_type": "code",
   "execution_count": 5,
   "metadata": {},
   "outputs": [
    {
     "name": "stdout",
     "output_type": "stream",
     "text": [
      "\n",
      "--- Running yolov5n ---\n"
     ]
    },
    {
     "name": "stderr",
     "output_type": "stream",
     "text": [
      "Unsupported operator aten::silu_ encountered 57 time(s)\n",
      "Unsupported operator aten::add encountered 10 time(s)\n",
      "Unsupported operator aten::max_pool2d encountered 3 time(s)\n",
      "Unsupported operator aten::mul encountered 22 time(s)\n",
      "Unsupported operator aten::sigmoid encountered 3 time(s)\n",
      "Unsupported operator aten::pow encountered 3 time(s)\n"
     ]
    },
    {
     "name": "stdout",
     "output_type": "stream",
     "text": [
      "\n",
      "--- Running yolov5s ---\n"
     ]
    },
    {
     "name": "stderr",
     "output_type": "stream",
     "text": [
      "Unsupported operator aten::silu_ encountered 57 time(s)\n",
      "Unsupported operator aten::add encountered 10 time(s)\n",
      "Unsupported operator aten::max_pool2d encountered 3 time(s)\n",
      "Unsupported operator aten::mul encountered 22 time(s)\n",
      "Unsupported operator aten::sigmoid encountered 3 time(s)\n",
      "Unsupported operator aten::pow encountered 3 time(s)\n"
     ]
    },
    {
     "name": "stdout",
     "output_type": "stream",
     "text": [
      "\n",
      "--- Running yolov5m ---\n"
     ]
    },
    {
     "name": "stderr",
     "output_type": "stream",
     "text": [
      "Unsupported operator aten::silu_ encountered 79 time(s)\n",
      "Unsupported operator aten::add encountered 17 time(s)\n",
      "Unsupported operator aten::max_pool2d encountered 3 time(s)\n",
      "Unsupported operator aten::mul encountered 22 time(s)\n",
      "Unsupported operator aten::sigmoid encountered 3 time(s)\n",
      "Unsupported operator aten::pow encountered 3 time(s)\n"
     ]
    },
    {
     "name": "stdout",
     "output_type": "stream",
     "text": [
      "\n",
      "--- Running yolov5l ---\n"
     ]
    },
    {
     "name": "stderr",
     "output_type": "stream",
     "text": [
      "Unsupported operator aten::silu_ encountered 101 time(s)\n",
      "Unsupported operator aten::add encountered 24 time(s)\n",
      "Unsupported operator aten::max_pool2d encountered 3 time(s)\n",
      "Unsupported operator aten::mul encountered 22 time(s)\n",
      "Unsupported operator aten::sigmoid encountered 3 time(s)\n",
      "Unsupported operator aten::pow encountered 3 time(s)\n"
     ]
    },
    {
     "name": "stdout",
     "output_type": "stream",
     "text": [
      "\n",
      "--- Running yolov5x ---\n"
     ]
    },
    {
     "name": "stderr",
     "output_type": "stream",
     "text": [
      "Unsupported operator aten::silu_ encountered 123 time(s)\n",
      "Unsupported operator aten::add encountered 31 time(s)\n",
      "Unsupported operator aten::max_pool2d encountered 3 time(s)\n",
      "Unsupported operator aten::mul encountered 22 time(s)\n",
      "Unsupported operator aten::sigmoid encountered 3 time(s)\n",
      "Unsupported operator aten::pow encountered 3 time(s)\n"
     ]
    }
   ],
   "source": [
    "transform = transforms.Compose([\n",
    "    transforms.ToTensor(),\n",
    "    transforms.Resize((640, 640))\n",
    "])\n",
    "\n",
    "\n",
    "latencies = {}\n",
    "fps_values = {}\n",
    "gflops_dict = {}\n",
    "params_dict = {}\n",
    "utilization_dict = {}\n",
    "model_size_dict = {}\n",
    "per_layer_gflops_dict = {}\n",
    "oi_dict = {}\n",
    "bound_type_dict = {}\n",
    "timing_results = []\n",
    "profile_outputs = {}\n",
    "profiler_tables = {}\n",
    "\n",
    "detection_results = {}\n",
    "component_breakdowns = {}\n",
    "\n",
    "\n",
    "loading_time = 0\n",
    "preprocessing_time = 0\n",
    "inference_time = 0\n",
    "postprocessing_time = 0\n",
    "\n",
    "PEAK_GFLOPS = 410 # GFLOPS\n",
    "PEAK_BANDWIDTH = 28.1 # GB/s\n",
    "\n",
    "for model_name, model in models.items():\n",
    "    print(f\"\\n--- Running {model_name} ---\")\n",
    "    model = model.to(device).eval()\n",
    "    dummy = torch.randn(1, 3, 640, 640).to(device)\n",
    "    for _ in range(3):\n",
    "        with torch.no_grad():\n",
    "            _ = model(dummy)\n",
    "\n",
    "    def profile_model_inference(model, image_files, transform, device):\n",
    "        total_time = 0\n",
    "        local_loading = 0\n",
    "        local_pre = 0\n",
    "        local_inf = 0\n",
    "        local_post = 0\n",
    "        model_detections = {}\n",
    "\n",
    "        with torch.profiler.profile(\n",
    "            activities=[\n",
    "                torch.profiler.ProfilerActivity.CPU\n",
    "            ],\n",
    "            record_shapes=True,\n",
    "            profile_memory=True,\n",
    "            with_stack=False\n",
    "        ) as prof:\n",
    "\n",
    "            for img_path in image_files:\n",
    "                image_name = img_path.name\n",
    "\n",
    "                # Loading\n",
    "                start = time.time()\n",
    "                original_img = Image.open(img_path).convert('RGB')\n",
    "                local_loading += (time.time() - start)\n",
    "\n",
    "                # Preprocessing\n",
    "                start = time.time()\n",
    "                img = transform(original_img).unsqueeze(0).to(device)\n",
    "                local_pre += (time.time() - start)\n",
    "\n",
    "                # Inference\n",
    "                start_inf = time.time()\n",
    "                with torch.no_grad():\n",
    "                    pred = model(img)\n",
    "                inf_time = time.time() - start_inf\n",
    "                local_inf += inf_time\n",
    "                total_time += inf_time\n",
    "\n",
    "                # Postprocessing\n",
    "                start = time.time()\n",
    "                detections = non_max_suppression(pred, conf_thres=0.25, iou_thres=0.45)[0]\n",
    "                result_list = []\n",
    "\n",
    "                if detections is not None:\n",
    "                    detections = detections.cpu().numpy()\n",
    "                    for det in detections:\n",
    "                        x1, y1, x2, y2, conf, cls = det\n",
    "                        result_list.append({\n",
    "                            \"bbox\": [float(x1), float(y1), float(x2), float(y2)],\n",
    "                            \"confidence\": float(conf),\n",
    "                            \"class_id\": int(cls)\n",
    "                        })\n",
    "\n",
    "                model_detections[image_name] = result_list\n",
    "                local_post += (time.time() - start)\n",
    "\n",
    "                prof.step()\n",
    "\n",
    "        return total_time, prof.key_averages().table(sort_by=\"cpu_time_total\", row_limit=10), \\\n",
    "            local_loading, local_pre, local_inf, local_post, model_detections\n",
    "\n",
    "\n",
    "    # cProfile for profiling\n",
    "    pr = cProfile.Profile()\n",
    "    pr.enable()\n",
    "    total_time, prof_table, l_time, pre_time, inf_time, post_time, detections = profile_model_inference(model, image_files, transform, device)\n",
    "\n",
    "    # Save detection results\n",
    "    detection_results[model_name] = detections\n",
    "\n",
    "    # Save timing breakdowns\n",
    "    total_parts = l_time + pre_time + inf_time + post_time\n",
    "    component_breakdowns[model_name] = {\n",
    "        'Loading': 100 * l_time / total_parts,\n",
    "        'Preprocessing': 100 * pre_time / total_parts,\n",
    "        'Inference': 100 * inf_time / total_parts,\n",
    "        'Postprocessing': 100 * post_time / total_parts\n",
    "    }\n",
    "\n",
    "    pr.disable()\n",
    "\n",
    "    s = io.StringIO()\n",
    "    ps = pstats.Stats(pr, stream=s).strip_dirs().sort_stats('tottime')\n",
    "    ps.print_stats(15)\n",
    "\n",
    "    profile_outputs[model_name] = s.getvalue()\n",
    "\n",
    "    # pytorch profiler\n",
    "    profiler_tables[model_name] = prof_table\n",
    "\n",
    "    avg_latency = (total_time / len(image_files)) * 1000  # Convert to ms\n",
    "    avg_fps = len(image_files) / total_time  # Compute FPS\n",
    "\n",
    "    latencies[model_name] = avg_latency\n",
    "    fps_values[model_name] = avg_fps\n",
    "    timing_results.append((model_name, avg_latency, avg_fps))\n",
    "\n",
    "    # model parameters\n",
    "    info = summary(model, input_size=(1, 3, 640, 640), verbose=0)\n",
    "    total_params = info.total_params\n",
    "    params_m = total_params / 1e6\n",
    "    model_size_mb = total_params * 4 / (1024 ** 2)\n",
    "\n",
    "    params_dict[model_name] = params_m\n",
    "    model_size_dict[model_name] = model_size_mb\n",
    "\n",
    "    # FLOPs\n",
    "    input_tensor = torch.randn(1, 3, 640, 640).to(device)\n",
    "    flops = FlopCountAnalysis(model, input_tensor)\n",
    "    total_flops = flops.total()\n",
    "    gflops = total_flops / 1e9\n",
    "    gflops_dict[model_name] = gflops\n",
    "\n",
    "\n",
    "    # Utilization\n",
    "    actual_gflops_per_second = gflops / (avg_latency / 1000)\n",
    "    utilization = (actual_gflops_per_second / PEAK_GFLOPS) * 100\n",
    "    utilization_dict[model_name] = utilization\n",
    "\n",
    "    # Operational Intensity\n",
    "    input_size_bytes = 3 * 640 * 640 * 4  # RGB image, float32\n",
    "    activation_estimate = input_size_bytes * 3\n",
    "    memory_accessed = total_params * 4 + activation_estimate\n",
    "    oi = total_flops / memory_accessed\n",
    "    peak_oi = PEAK_GFLOPS / PEAK_BANDWIDTH\n",
    "\n",
    "    oi_dict[model_name] = oi\n",
    "    bound_type = \"Compute Bound\" if oi > peak_oi else \"Memory Bound\"\n",
    "    bound_type_dict[model_name] = bound_type\n",
    "\n",
    "    # Per-layer GFLOPs\n",
    "    layer_flops = flops.by_module()\n",
    "    layer_gflops = {k: v / 1e9 for k, v in layer_flops.items()}\n",
    "    per_layer_gflops_dict[model_name] = layer_gflops"
   ]
  },
  {
   "cell_type": "code",
   "execution_count": 22,
   "metadata": {},
   "outputs": [
    {
     "name": "stdout",
     "output_type": "stream",
     "text": [
      "\n",
      "=== Pipeline Time Breakdown (%) ===\n",
      "\n",
      "Model: yolov5n\n",
      "        Loading: 5.57%\n",
      "  Preprocessing: 4.01%\n",
      "      Inference: 87.46%\n",
      " Postprocessing: 2.96%\n",
      "\n",
      "Model: yolov5s\n",
      "        Loading: 3.24%\n",
      "  Preprocessing: 2.15%\n",
      "      Inference: 92.93%\n",
      " Postprocessing: 1.68%\n",
      "\n",
      "Model: yolov5m\n",
      "        Loading: 1.75%\n",
      "  Preprocessing: 1.01%\n",
      "      Inference: 96.45%\n",
      " Postprocessing: 0.78%\n",
      "\n",
      "Model: yolov5l\n",
      "        Loading: 1.02%\n",
      "  Preprocessing: 0.52%\n",
      "      Inference: 98.03%\n",
      " Postprocessing: 0.43%\n",
      "\n",
      "Model: yolov5x\n",
      "        Loading: 0.57%\n",
      "  Preprocessing: 0.32%\n",
      "      Inference: 98.85%\n",
      " Postprocessing: 0.26%\n"
     ]
    },
    {
     "data": {
      "image/png": "[encoded data removed]",
      "text/plain": [
       "<Figure size 1000x600 with 1 Axes>"
      ]
     },
     "metadata": {},
     "output_type": "display_data"
    }
   ],
   "source": [
    "print(\"\\n=== Pipeline Time Breakdown (%) ===\")\n",
    "for model_name, breakdown in component_breakdowns.items():\n",
    "    print(f\"\\nModel: {model_name}\")\n",
    "    for stage, perc in breakdown.items():\n",
    "        print(f\"{stage:>15}: {perc:.2f}%\")\n",
    "\n",
    "%matplotlib inline\n",
    "\n",
    "# Extract breakdowns\n",
    "stages = [\"Loading\", \"Preprocessing\", \"Inference\", \"Postprocessing\"]\n",
    "model_names = list(component_breakdowns.keys())\n",
    "\n",
    "# Build data per stage\n",
    "stage_values = {stage: [] for stage in stages}\n",
    "for model in model_names:\n",
    "    for stage in stages:\n",
    "        stage_values[stage].append(component_breakdowns[model][stage])\n",
    "\n",
    "# Plotting\n",
    "fig, ax = plt.subplots(figsize=(10, 6))\n",
    "\n",
    "bottoms = np.zeros(len(model_names))\n",
    "colors = ['#ff9999', '#66b3ff', '#99ff99', '#ffcc99']\n",
    "\n",
    "for i, stage in enumerate(stages):\n",
    "    ax.bar(model_names, stage_values[stage], bottom=bottoms, label=stage, color=colors[i])\n",
    "    bottoms += stage_values[stage]\n",
    "\n",
    "ax.set_title(\"Pipeline Time Breakdown (%) per Model\")\n",
    "ax.set_ylabel(\"Percentage\")\n",
    "ax.set_xlabel(\"Model\")\n",
    "ax.legend()\n",
    "plt.xticks(rotation=45)\n",
    "plt.tight_layout()\n",
    "plt.show()\n"
   ]
  },
  {
   "cell_type": "markdown",
   "metadata": {},
   "source": [
    "# Benchmarking Results"
   ]
  },
  {
   "cell_type": "code",
   "execution_count": 7,
   "metadata": {},
   "outputs": [
    {
     "name": "stdout",
     "output_type": "stream",
     "text": [
      "_______________________________________________\n",
      "Model                  Latency (ms)        FPS\n",
      "_______________________________________________\n",
      "yolov5n                   32.14 ms       31.11\n",
      "yolov5s                   65.71 ms       15.22\n",
      "yolov5m                  140.50 ms        7.12\n",
      "yolov5l                  249.42 ms        4.01\n",
      "yolov5x                  413.54 ms        2.42\n",
      "_______________________________________________\n"
     ]
    }
   ],
   "source": [
    "print(\"_______________________________________________\")\n",
    "print(\"Model                  Latency (ms)        FPS\")\n",
    "print(\"_______________________________________________\")\n",
    "for model_name, latency, fps in timing_results:\n",
    "    print(f\"{model_name:<16} {latency:>14.2f} ms    {fps:>8.2f}\")\n",
    "print(\"_______________________________________________\")"
   ]
  },
  {
   "cell_type": "code",
   "execution_count": 8,
   "metadata": {},
   "outputs": [
    {
     "data": {
      "image/png": "[encoded data removed]",
      "text/plain": [
       "<Figure size 1000x500 with 1 Axes>"
      ]
     },
     "metadata": {},
     "output_type": "display_data"
    },
    {
     "data": {
      "image/png": "[encoded data removed]",
      "text/plain": [
       "<Figure size 1000x500 with 1 Axes>"
      ]
     },
     "metadata": {},
     "output_type": "display_data"
    }
   ],
   "source": [
    "%matplotlib inline\n",
    "\n",
    "# Plot Latency\n",
    "plt.figure(figsize=(10, 5))\n",
    "plt.bar(latencies.keys(), latencies.values(), color='blue')\n",
    "plt.xlabel('Model')\n",
    "plt.ylabel('Latency (ms)')\n",
    "plt.title('YOLOv5 Model Latency')\n",
    "plt.show()\n",
    "\n",
    "# Plot FPS\n",
    "plt.figure(figsize=(10, 5))\n",
    "plt.bar(fps_values.keys(), fps_values.values(), color='red')\n",
    "plt.xlabel('Model')\n",
    "plt.ylabel('Frames Per Second (FPS)')\n",
    "plt.title('YOLOv5 Model FPS')\n",
    "plt.show()\n"
   ]
  },
  {
   "cell_type": "markdown",
   "metadata": {},
   "source": [
    "# Accuracy Analysis"
   ]
  },
  {
   "cell_type": "code",
   "execution_count": null,
   "metadata": {},
   "outputs": [
    {
     "name": "stdout",
     "output_type": "stream",
     "text": [
      "\u001b[34m\u001b[1mval: \u001b[0mdata=/home/dishapant/Desktop/spp/yolov5_benchmarking_optimization/yolov5/data/coco128.yaml, weights=['yolov5n.pt'], batch_size=32, imgsz=640, conf_thres=0.001, iou_thres=0.65, max_det=300, task=val, device=, workers=8, single_cls=False, augment=False, verbose=False, save_txt=False, save_hybrid=False, save_conf=False, save_json=False, project=runs/val, name=exp, exist_ok=False, half=False, dnn=False\n",
      "YOLOv5 🚀 v7.0-411-gf4d8a84c Python-3.11.11 torch-2.6.0+cu124 CPU\n",
      "\n",
      "Fusing layers... \n",
      "YOLOv5n summary: 213 layers, 1867405 parameters, 0 gradients, 4.5 GFLOPs\n",
      "\u001b[34m\u001b[1mval: \u001b[0mScanning /home/dishapant/Desktop/spp/yolov5_benchmarking_optimization/datas\u001b[0m\n",
      "                 Class     Images  Instances          P          R      mAP50   \n",
      "                   all        128        929      0.629      0.478      0.541       0.35\n",
      "Speed: 1.0ms pre-process, 41.2ms inference, 4.0ms NMS per image at shape (32, 3, 640, 640)\n",
      "Results saved to \u001b[1mruns/val/exp82\u001b[0m\n"
     ]
    }
   ],
   "source": [
    "# uncomment and run to evaluate the models\n",
    "# !python val.py --weights yolov5n.pt --data coco128.yaml --img 640 --iou 0.65 --task val\n",
    "# !python val.py --weights yolov5s.pt --data coco128.yaml --img 640 --iou 0.65 --task val\n",
    "# !python val.py --weights yolov5m.pt --data coco128.yaml --img 640 --iou 0.65 --task val\n",
    "# !python val.py --weights yolov5l.pt --data coco128.yaml --img 640 --iou 0.65 --task val\n",
    "# !python val.py --weights yolov5x.pt --data coco128.yaml --img 640 --iou 0.65 --task val"
   ]
  },
  {
   "cell_type": "markdown",
   "metadata": {},
   "source": [
    "# Roofline Analysis Information"
   ]
  },
  {
   "cell_type": "code",
   "execution_count": 14,
   "metadata": {},
   "outputs": [
    {
     "name": "stdout",
     "output_type": "stream",
     "text": [
      "\n",
      "\n",
      "===========================================================================\n",
      "Model      Params (M)  Size (MB)   GFLOPs   Utilization (%)   Bound Type\n",
      "===========================================================================\n",
      "yolov5n          1.87       7.12     2.23            16.96     Compute Bound\n",
      "yolov5s          7.23      27.56     8.22            30.50     Compute Bound\n",
      "yolov5m         21.17      80.77    24.44            42.42     Compute Bound\n",
      "yolov5l         46.53     177.51    54.50            53.29     Compute Bound\n",
      "yolov5x         86.71     330.75   102.73            60.59     Compute Bound\n",
      "===========================================================================\n"
     ]
    }
   ],
   "source": [
    "print(\"\\n\")\n",
    "print(\"===========================================================================\")\n",
    "print(\"Model      Params (M)  Size (MB)   GFLOPs   Utilization (%)   Bound Type\")\n",
    "print(\"===========================================================================\")\n",
    "\n",
    "for model_name in models.keys():\n",
    "    params_m = params_dict[model_name]\n",
    "    model_size = model_size_dict[model_name]\n",
    "    gflops = gflops_dict[model_name]\n",
    "    utilization = utilization_dict[model_name]\n",
    "    bound_type = bound_type_dict[model_name]\n",
    "\n",
    "    print(f\"{model_name:<10} {params_m:>10.2f}  {model_size:>9.2f}  {gflops:>7.2f}  \"\n",
    "          f\"{utilization:>15.2f}     {bound_type}\")\n",
    "\n",
    "print(\"===========================================================================\")\n"
   ]
  },
  {
   "cell_type": "markdown",
   "metadata": {},
   "source": [
    "# Per-Layer Analysis"
   ]
  },
  {
   "cell_type": "code",
   "execution_count": 15,
   "metadata": {},
   "outputs": [],
   "source": [
    "per_layer_utilization_dict = {}\n",
    "highest_util_layers = {}\n",
    "lowest_util_layers = {}\n",
    "\n",
    "for model_name in models.keys():\n",
    "    model_util = utilization_dict[model_name]\n",
    "    model_total_gflops = gflops_dict[model_name]\n",
    "    per_layer_gflops = per_layer_gflops_dict[model_name]\n",
    "\n",
    "    # Compute per-layer utilization approx.\n",
    "    per_layer_util = {}\n",
    "    for layer, layer_gflops in per_layer_gflops.items():\n",
    "        if layer.strip() == \"\" or layer.strip() in {\"model\", \"model.model\"}:\n",
    "            continue  # Skip root / aggregate layers\n",
    "        layer_util = (layer_gflops / model_total_gflops) * model_util\n",
    "        per_layer_util[layer] = layer_util\n",
    "\n",
    "    per_layer_utilization_dict[model_name] = per_layer_util\n",
    "\n",
    "    # Sort layers\n",
    "    sorted_layers = sorted(per_layer_util.items(), key=lambda x: x[1], reverse=True)\n",
    "\n",
    "    # Save top and bottom 3 layers\n",
    "    highest_util_layers[model_name] = sorted_layers[:3]\n",
    "    lowest_util_layers[model_name] = sorted_layers[-3:]\n"
   ]
  },
  {
   "cell_type": "code",
   "execution_count": 16,
   "metadata": {},
   "outputs": [
    {
     "name": "stdout",
     "output_type": "stream",
     "text": [
      "\n",
      "===================================================================\n",
      "Per-Layer Utilization Summary\n",
      "===================================================================\n",
      "\n",
      "Model: yolov5n\n",
      "Highest Utilization Layers:\n",
      "    model.model.6                           : 1.89%\n",
      "    model.model.6.m                         : 1.49%\n",
      "    model.model.4                           : 1.39%\n",
      "Lowest Utilization Layers:\n",
      "    model.model.23.cv3.act                  : 0.00%\n",
      "    model.model.23.m.0.cv1.act              : 0.00%\n",
      "    model.model.23.m.0.cv2.act              : 0.00%\n",
      "\n",
      "Model: yolov5s\n",
      "Highest Utilization Layers:\n",
      "    model.model.6                           : 3.70%\n",
      "    model.model.6.m                         : 2.92%\n",
      "    model.model.4                           : 2.72%\n",
      "Lowest Utilization Layers:\n",
      "    model.model.23.cv3.act                  : 0.00%\n",
      "    model.model.23.m.0.cv1.act              : 0.00%\n",
      "    model.model.23.m.0.cv2.act              : 0.00%\n",
      "\n",
      "Model: yolov5m\n",
      "Highest Utilization Layers:\n",
      "    model.model.6                           : 6.96%\n",
      "    model.model.6.m                         : 6.14%\n",
      "    model.model.4                           : 4.91%\n",
      "Lowest Utilization Layers:\n",
      "    model.model.23.m.0.cv2.act              : 0.00%\n",
      "    model.model.23.m.1.cv1.act              : 0.00%\n",
      "    model.model.23.m.1.cv2.act              : 0.00%\n",
      "\n",
      "Model: yolov5l\n",
      "Highest Utilization Layers:\n",
      "    model.model.6                           : 10.05%\n",
      "    model.model.6.m                         : 9.23%\n",
      "    model.model.4                           : 6.97%\n",
      "Lowest Utilization Layers:\n",
      "    model.model.23.m.1.cv2.act              : 0.00%\n",
      "    model.model.23.m.2.cv1.act              : 0.00%\n",
      "    model.model.23.m.2.cv2.act              : 0.00%\n",
      "\n",
      "Model: yolov5x\n",
      "Highest Utilization Layers:\n",
      "    model.model.6                           : 12.37%\n",
      "    model.model.6.m                         : 11.60%\n",
      "    model.model.4                           : 8.50%\n",
      "Lowest Utilization Layers:\n",
      "    model.model.23.m.2.cv2.act              : 0.00%\n",
      "    model.model.23.m.3.cv1.act              : 0.00%\n",
      "    model.model.23.m.3.cv2.act              : 0.00%\n",
      "===================================================================\n"
     ]
    }
   ],
   "source": [
    "print(\"\\n===================================================================\")\n",
    "print(\"Per-Layer Utilization Summary\")\n",
    "print(\"===================================================================\")\n",
    "\n",
    "for model_name in models.keys():\n",
    "    print(f\"\\nModel: {model_name}\")\n",
    "\n",
    "    print(\"Highest Utilization Layers:\")\n",
    "    for layer, util in highest_util_layers[model_name]:\n",
    "        print(f\"    {layer:<40}: {util:.2f}%\")\n",
    "\n",
    "    print(\"Lowest Utilization Layers:\")\n",
    "    for layer, util in lowest_util_layers[model_name]:\n",
    "        print(f\"    {layer:<40}: {util:.2f}%\")\n",
    "print(\"===================================================================\")"
   ]
  },
  {
   "cell_type": "markdown",
   "metadata": {},
   "source": [
    "# cProfile Profiling results"
   ]
  },
  {
   "cell_type": "code",
   "execution_count": 17,
   "metadata": {},
   "outputs": [
    {
     "name": "stdout",
     "output_type": "stream",
     "text": [
      "\n",
      "=== cProfile for yolov5n ===\n",
      "         11568142 function calls (10913825 primitive calls) in 15.538 seconds\n",
      "\n",
      "   Ordered by: internal time\n",
      "   List reduced from 558 to 15 due to restriction <15>\n",
      "\n",
      "   ncalls  tottime  percall  cumtime  percall filename:lineno(function)\n",
      "        1    2.476    2.476    7.703    7.703 profiler.py:525(_parse_kineto_results)\n",
      "     6000    2.074    0.000    2.074    0.000 {built-in method torch.conv2d}\n",
      "        1    1.526    1.526    1.526    1.526 {built-in method torch._C._autograd._disable_profiler}\n",
      "        3    0.516    0.172    0.516    0.172 {built-in method torch._C._autograd.events}\n",
      "   116816    0.510    0.000    0.511    0.000 profiler.py:697(<lambda>)\n",
      "   100636    0.414    0.000    0.416    0.000 profiler.py:595(<listcomp>)\n",
      "   222972    0.373    0.000    0.456    0.000 profiler.py:545(_device_memory_usage)\n",
      "   647216    0.363    0.000    0.363    0.000 {built-in method torch._C._autograd.device_type}\n",
      "   100636    0.360    0.000    0.362    0.000 {built-in method torch._C._autograd.concrete_inputs}\n",
      "   744420    0.302    0.000    0.302    0.000 {built-in method torch._C._autograd.name}\n",
      "   116429    0.283    0.000    1.218    0.000 profiler_util.py:674(add)\n",
      "        1    0.276    0.276    0.354    0.354 profiler.py:529(<listcomp>)\n",
      "     1794    0.274    0.000    0.274    0.000 {built-in method torch.cat}\n",
      "   306826    0.273    0.000    0.324    0.000 profiler_util.py:561(cpu_time_total)\n",
      "   222972    0.250    0.000    0.409    0.000 profiler.py:537(_cpu_memory_usage)\n",
      "\n",
      "\n",
      "\n",
      "\n",
      "========================================\n",
      "\n",
      "=== cProfile for yolov5s ===\n",
      "         11676007 function calls (11016281 primitive calls) in 20.760 seconds\n",
      "\n",
      "   Ordered by: internal time\n",
      "   List reduced from 369 to 15 due to restriction <15>\n",
      "\n",
      "   ncalls  tottime  percall  cumtime  percall filename:lineno(function)\n",
      "     6000    4.856    0.001    4.856    0.001 {built-in method torch.conv2d}\n",
      "        1    2.732    2.732    9.141    9.141 profiler.py:525(_parse_kineto_results)\n",
      "   118037    2.331    0.000    2.357    0.000 profiler_util.py:446(__init__)\n",
      "        1    1.531    1.531    1.531    1.531 {built-in method torch._C._autograd._disable_profiler}\n",
      "        3    0.463    0.154    0.463    0.154 {built-in method torch._C._autograd.events}\n",
      "   223943    0.459    0.000    0.567    0.000 profiler.py:545(_device_memory_usage)\n",
      "   651320    0.384    0.000    0.384    0.000 {built-in method torch._C._autograd.device_type}\n",
      "     5700    0.376    0.000    0.376    0.000 {built-in method torch._C._nn.silu_}\n",
      "     1797    0.351    0.000    0.351    0.000 {built-in method torch.cat}\n",
      "   751561    0.335    0.000    0.335    0.000 {built-in method torch._C._autograd.name}\n",
      "   310061    0.329    0.000    0.386    0.000 profiler_util.py:561(cpu_time_total)\n",
      "   117642    0.315    0.000    1.394    0.000 profiler_util.py:674(add)\n",
      "   223943    0.285    0.000    0.481    0.000 profiler.py:537(_cpu_memory_usage)\n",
      "   117642    0.270    0.000    0.302    0.000 profiler_util.py:317(get_key)\n",
      "      300    0.243    0.001    0.243    0.001 {built-in method torch.max_pool2d}\n",
      "\n",
      "\n",
      "\n",
      "\n",
      "========================================\n",
      "\n",
      "=== cProfile for yolov5m ===\n",
      "         14210934 function calls (13391734 primitive calls) in 31.506 seconds\n",
      "\n",
      "   Ordered by: internal time\n",
      "   List reduced from 369 to 15 due to restriction <15>\n",
      "\n",
      "   ncalls  tottime  percall  cumtime  percall filename:lineno(function)\n",
      "     8200   11.524    0.001   11.524    0.001 {built-in method torch.conv2d}\n",
      "        1    2.711    2.711   11.411   11.411 profiler.py:525(_parse_kineto_results)\n",
      "        1    1.817    1.817    1.817    1.817 {built-in method torch._C._autograd._disable_profiler}\n",
      "   122311    1.793    0.000    1.797    0.000 {built-in method torch._C._autograd.concrete_inputs}\n",
      "   291431    1.075    0.000    1.314    0.000 profiler.py:537(_cpu_memory_usage)\n",
      "   122311    0.891    0.000    0.894    0.000 {built-in method torch._C._autograd.shapes}\n",
      "     7900    0.667    0.000    0.667    0.000 {built-in method torch._C._nn.silu_}\n",
      "        3    0.572    0.191    0.572    0.191 {built-in method torch._C._autograd.events}\n",
      "   291431    0.554    0.000    0.687    0.000 profiler.py:545(_device_memory_usage)\n",
      "     1797    0.486    0.000    0.486    0.000 {built-in method torch.cat}\n",
      "   827484    0.464    0.000    0.464    0.000 {built-in method torch._C._autograd.device_type}\n",
      "   914571    0.394    0.000    0.394    0.000 {built-in method torch._C._autograd.name}\n",
      "   372521    0.382    0.000    0.449    0.000 profiler_util.py:561(cpu_time_total)\n",
      "   122311    0.362    0.000    0.364    0.000 profiler.py:595(<listcomp>)\n",
      "   141137    0.361    0.000    1.604    0.000 profiler_util.py:674(add)\n",
      "\n",
      "\n",
      "\n",
      "\n",
      "========================================\n",
      "\n",
      "=== cProfile for yolov5l ===\n",
      "         16716480 function calls (15739226 primitive calls) in 45.042 seconds\n",
      "\n",
      "   Ordered by: internal time\n",
      "   List reduced from 369 to 15 due to restriction <15>\n",
      "\n",
      "   ncalls  tottime  percall  cumtime  percall filename:lineno(function)\n",
      "    10400   21.535    0.002   21.535    0.002 {built-in method torch.conv2d}\n",
      "        1    3.001    3.001   13.360   13.360 profiler.py:525(_parse_kineto_results)\n",
      "        1    2.133    2.133    2.133    2.133 {built-in method torch._C._autograd._disable_profiler}\n",
      "        1    2.060    2.060    2.138    2.138 profiler_util.py:737(__init__)\n",
      "   142614    1.045    0.000    1.048    0.000 {built-in method torch._C._autograd.concrete_inputs}\n",
      "    10100    1.013    0.000    1.013    0.000 {built-in method torch._C._nn.silu_}\n",
      "   164701    0.803    0.000    0.804    0.000 profiler.py:697(<lambda>)\n",
      "   164701    0.759    0.000    0.793    0.000 profiler_util.py:446(__init__)\n",
      "        3    0.683    0.228    0.683    0.228 {built-in method torch._C._autograd.events}\n",
      "   358669    0.676    0.000    0.837    0.000 profiler.py:545(_device_memory_usage)\n",
      "     1796    0.577    0.000    0.577    0.000 {built-in method torch.cat}\n",
      "  1002566    0.558    0.000    0.558    0.000 {built-in method torch._C._autograd.device_type}\n",
      "  1075657    0.459    0.000    0.459    0.000 {built-in method torch._C._autograd.name}\n",
      "      300    0.436    0.001    0.436    0.001 {built-in method torch.max_pool2d}\n",
      "   434121    0.435    0.000    0.511    0.000 profiler_util.py:561(cpu_time_total)\n",
      "\n",
      "\n",
      "\n",
      "\n",
      "========================================\n",
      "\n",
      "=== cProfile for yolov5x ===\n",
      "         19261932 function calls (18124760 primitive calls) in 64.817 seconds\n",
      "\n",
      "   Ordered by: internal time\n",
      "   List reduced from 369 to 15 due to restriction <15>\n",
      "\n",
      "   ncalls  tottime  percall  cumtime  percall filename:lineno(function)\n",
      "    12600   36.851    0.003   36.851    0.003 {built-in method torch.conv2d}\n",
      "        1    6.077    6.077   14.869   14.869 profiler.py:525(_parse_kineto_results)\n",
      "        1    2.566    2.566    2.566    2.566 {built-in method torch._C._autograd._disable_profiler}\n",
      "   188326    2.112    0.000    2.147    0.000 profiler_util.py:446(__init__)\n",
      "    12300    1.413    0.000    1.413    0.000 {built-in method torch._C._nn.silu_}\n",
      "   188326    1.002    0.000    1.004    0.000 profiler_util.py:115(<lambda>)\n",
      "        3    0.850    0.283    0.850    0.283 {built-in method torch._C._autograd.events}\n",
      "   426228    0.799    0.000    0.991    0.000 profiler.py:545(_device_memory_usage)\n",
      "     1797    0.700    0.000    0.700    0.000 {built-in method torch.cat}\n",
      "  1179078    0.662    0.000    0.662    0.000 {built-in method torch._C._autograd.device_type}\n",
      "     4400    0.631    0.000   25.454    0.006 common.py:177(forward)\n",
      "  1239364    0.529    0.000    0.529    0.000 {built-in method torch._C._autograd.name}\n",
      "      300    0.519    0.002    0.519    0.002 {built-in method torch.max_pool2d}\n",
      "   426228    0.499    0.000    0.843    0.000 profiler.py:537(_cpu_memory_usage)\n",
      "   496900    0.495    0.000    0.583    0.000 profiler_util.py:561(cpu_time_total)\n",
      "\n",
      "\n",
      "\n",
      "\n",
      "========================================\n"
     ]
    }
   ],
   "source": [
    "for model_name, stats in profile_outputs.items():\n",
    "    print(f\"\\n=== cProfile for {model_name} ===\")\n",
    "    print(stats)\n",
    "    print(\"\\n========================================\")"
   ]
  },
  {
   "cell_type": "markdown",
   "metadata": {},
   "source": [
    "# Pytorch Profiler Results"
   ]
  },
  {
   "cell_type": "code",
   "execution_count": 18,
   "metadata": {},
   "outputs": [
    {
     "name": "stdout",
     "output_type": "stream",
     "text": [
      "Profiler for yolov5n:\n",
      "\n",
      "---------------------------------  ------------  ------------  ------------  ------------  ------------  ------------  ------------  ------------  \n",
      "                             Name    Self CPU %      Self CPU   CPU total %     CPU total  CPU time avg       CPU Mem  Self CPU Mem    # of Calls  \n",
      "---------------------------------  ------------  ------------  ------------  ------------  ------------  ------------  ------------  ------------  \n",
      "                     aten::conv2d         0.68%      20.060ms        68.29%        2.025s     337.473us       5.20 Gb           0 b          6000  \n",
      "                aten::convolution         0.92%      27.317ms        67.61%        2.005s     334.130us       5.20 Gb           0 b          6000  \n",
      "               aten::_convolution         1.17%      34.564ms        66.69%        1.977s     329.577us       5.20 Gb           0 b          6000  \n",
      "         aten::mkldnn_convolution        64.07%        1.900s        65.52%        1.943s     323.816us       5.20 Gb           0 b          6000  \n",
      "                        aten::cat         8.05%     238.733ms         8.71%     258.214ms     143.932us       3.16 Gb       3.16 Gb          1794  \n",
      "                      aten::silu_         7.27%     215.654ms         7.27%     215.654ms      37.834us           0 b           0 b          5700  \n",
      "                 aten::max_pool2d         0.04%       1.069ms         3.95%     117.143ms     390.477us      60.55 Mb    -113.28 Mb           300  \n",
      "    aten::max_pool2d_with_indices         3.91%     116.074ms         3.91%     116.074ms     386.913us     175.78 Mb     175.78 Mb           300  \n",
      "                      aten::copy_         3.18%      94.213ms         3.18%      94.213ms      26.864us           0 b           0 b          3507  \n",
      "                 aten::contiguous         0.07%       2.009ms         2.69%      79.877ms      84.616us     996.50 Mb           0 b           944  \n",
      "---------------------------------  ------------  ------------  ------------  ------------  ------------  ------------  ------------  ------------  \n",
      "Self CPU time total: 2.965s\n",
      "\n",
      "--------------------------------------------------------------------------------\n",
      "Profiler for yolov5s:\n",
      "\n",
      "---------------------------------  ------------  ------------  ------------  ------------  ------------  ------------  ------------  ------------  \n",
      "                             Name    Self CPU %      Self CPU   CPU total %     CPU total  CPU time avg       CPU Mem  Self CPU Mem    # of Calls  \n",
      "---------------------------------  ------------  ------------  ------------  ------------  ------------  ------------  ------------  ------------  \n",
      "                     aten::conv2d         0.51%      31.292ms        77.84%        4.777s     796.105us       9.61 Gb           0 b          6000  \n",
      "                aten::convolution         0.67%      41.148ms        77.33%        4.745s     790.890us       9.61 Gb           0 b          6000  \n",
      "               aten::_convolution         0.81%      49.874ms        76.66%        4.704s     784.032us       9.61 Gb           0 b          6000  \n",
      "         aten::mkldnn_convolution        74.61%        4.579s        75.85%        4.654s     775.720us       9.61 Gb           0 b          6000  \n",
      "                      aten::silu_         5.72%     350.878ms         5.72%     350.878ms      61.557us           0 b           0 b          5700  \n",
      "                        aten::cat         4.93%     302.379ms         5.36%     328.664ms     182.896us       4.72 Gb       4.72 Gb          1797  \n",
      "                 aten::max_pool2d         0.02%       1.501ms         3.92%     240.424ms     801.413us     118.75 Mb    -231.25 Mb           300  \n",
      "    aten::max_pool2d_with_indices         3.89%     238.923ms         3.89%     238.923ms     796.411us     351.56 Mb     351.56 Mb           300  \n",
      "                      aten::copy_         2.27%     139.033ms         2.27%     139.033ms      38.417us           0 b           0 b          3619  \n",
      "                 aten::contiguous         0.03%       1.976ms         1.80%     110.380ms     112.633us       1.07 Gb           0 b           980  \n",
      "---------------------------------  ------------  ------------  ------------  ------------  ------------  ------------  ------------  ------------  \n",
      "Self CPU time total: 6.136s\n",
      "\n",
      "--------------------------------------------------------------------------------\n",
      "Profiler for yolov5m:\n",
      "\n",
      "---------------------------------  ------------  ------------  ------------  ------------  ------------  ------------  ------------  ------------  \n",
      "                             Name    Self CPU %      Self CPU   CPU total %     CPU total  CPU time avg       CPU Mem  Self CPU Mem    # of Calls  \n",
      "---------------------------------  ------------  ------------  ------------  ------------  ------------  ------------  ------------  ------------  \n",
      "                     aten::conv2d         0.42%      55.912ms        85.42%       11.395s       1.390ms      17.68 Gb           0 b          8200  \n",
      "                aten::convolution         0.49%      65.188ms        85.00%       11.340s       1.383ms      17.68 Gb           0 b          8200  \n",
      "               aten::_convolution         0.56%      74.306ms        84.51%       11.274s       1.375ms      17.68 Gb           0 b          8200  \n",
      "         aten::mkldnn_convolution        82.79%       11.045s        83.95%       11.200s       1.366ms      17.68 Gb           0 b          8200  \n",
      "                      aten::silu_         4.70%     626.789ms         4.70%     626.789ms      79.340us           0 b           0 b          7900  \n",
      "                        aten::cat         3.24%     432.779ms         3.46%     461.251ms     256.679us       6.29 Gb       6.29 Gb          1797  \n",
      "                 aten::max_pool2d         0.02%       2.198ms         2.56%     341.992ms       1.140ms     175.78 Mb    -351.56 Mb           300  \n",
      "    aten::max_pool2d_with_indices         2.55%     339.794ms         2.55%     339.794ms       1.133ms     527.34 Mb     527.34 Mb           300  \n",
      "                      aten::copy_         0.96%     128.460ms         0.96%     128.460ms      35.408us           0 b           0 b          3628  \n",
      "                        aten::add         0.91%     121.595ms         0.91%     121.595ms      61.103us       2.65 Gb       2.65 Gb          1990  \n",
      "---------------------------------  ------------  ------------  ------------  ------------  ------------  ------------  ------------  ------------  \n",
      "Self CPU time total: 13.341s\n",
      "\n",
      "--------------------------------------------------------------------------------\n",
      "Profiler for yolov5l:\n",
      "\n",
      "---------------------------------  ------------  ------------  ------------  ------------  ------------  ------------  ------------  ------------  \n",
      "                             Name    Self CPU %      Self CPU   CPU total %     CPU total  CPU time avg       CPU Mem  Self CPU Mem    # of Calls  \n",
      "---------------------------------  ------------  ------------  ------------  ------------  ------------  ------------  ------------  ------------  \n",
      "                     aten::conv2d         0.32%      75.937ms        89.01%       21.364s       2.054ms      28.19 Gb           0 b         10400  \n",
      "                aten::convolution         0.36%      87.455ms        88.69%       21.288s       2.047ms      28.19 Gb           0 b         10400  \n",
      "               aten::_convolution         0.41%      97.544ms        88.33%       21.201s       2.039ms      28.19 Gb           0 b         10400  \n",
      "         aten::mkldnn_convolution        86.95%       20.869s        87.92%       21.103s       2.029ms      28.19 Gb           0 b         10400  \n",
      "                      aten::silu_         4.00%     959.553ms         4.00%     959.553ms      95.005us           0 b           0 b         10100  \n",
      "                        aten::cat         2.19%     525.811ms         2.30%     552.396ms     307.570us       7.85 Gb       7.85 Gb          1796  \n",
      "                 aten::max_pool2d         0.01%       1.802ms         1.80%     432.120ms       1.440ms     234.38 Mb    -468.75 Mb           300  \n",
      "    aten::max_pool2d_with_indices         1.79%     430.317ms         1.79%     430.317ms       1.434ms     703.12 Mb     703.12 Mb           300  \n",
      "                        aten::add         1.20%     288.050ms         1.20%     288.050ms     107.201us       5.28 Gb       5.28 Gb          2687  \n",
      "                      aten::empty         0.73%     174.365ms         0.73%     174.365ms       7.413us      29.49 Gb      29.49 Gb         23523  \n",
      "---------------------------------  ------------  ------------  ------------  ------------  ------------  ------------  ------------  ------------  \n",
      "Self CPU time total: 24.002s\n",
      "\n",
      "--------------------------------------------------------------------------------\n",
      "Profiler for yolov5x:\n",
      "\n",
      "---------------------------------  ------------  ------------  ------------  ------------  ------------  ------------  ------------  ------------  \n",
      "                             Name    Self CPU %      Self CPU   CPU total %     CPU total  CPU time avg       CPU Mem  Self CPU Mem    # of Calls  \n",
      "---------------------------------  ------------  ------------  ------------  ------------  ------------  ------------  ------------  ------------  \n",
      "                     aten::conv2d         0.27%     107.747ms        91.37%       36.617s       2.906ms      41.14 Gb           0 b         12600  \n",
      "                aten::convolution         0.29%     117.400ms        91.10%       36.510s       2.898ms      41.14 Gb           0 b         12600  \n",
      "               aten::_convolution         0.32%     127.874ms        90.81%       36.392s       2.888ms      41.14 Gb           0 b         12600  \n",
      "         aten::mkldnn_convolution        89.53%       35.880s        90.49%       36.264s       2.878ms      41.14 Gb           0 b         12600  \n",
      "                      aten::silu_         3.35%        1.341s         3.35%        1.341s     109.040us           0 b           0 b         12300  \n",
      "                        aten::cat         1.61%     645.393ms         1.68%     672.864ms     374.437us       9.42 Gb       9.42 Gb          1797  \n",
      "                        aten::add         1.33%     534.396ms         1.33%     534.396ms     157.639us       8.79 Gb       8.79 Gb          3390  \n",
      "                 aten::max_pool2d         0.01%       2.062ms         1.29%     515.041ms       1.717ms     292.97 Mb    -585.94 Mb           300  \n",
      "    aten::max_pool2d_with_indices         1.28%     512.979ms         1.28%     512.979ms       1.710ms     878.91 Mb     878.91 Mb           300  \n",
      "                      aten::empty         0.75%     300.142ms         0.75%     300.142ms      10.745us      42.53 Gb      42.53 Gb         27933  \n",
      "---------------------------------  ------------  ------------  ------------  ------------  ------------  ------------  ------------  ------------  \n",
      "Self CPU time total: 40.077s\n",
      "\n",
      "--------------------------------------------------------------------------------\n"
     ]
    }
   ],
   "source": [
    "for model_name, prof_table in profiler_tables.items():\n",
    "    print(f\"Profiler for {model_name}:\\n\")\n",
    "    print(prof_table)\n",
    "    print(\"-\" * 80)\n",
    "\n"
   ]
  },
  {
   "cell_type": "markdown",
   "metadata": {},
   "source": [
    "# Optimizations"
   ]
  },
  {
   "cell_type": "markdown",
   "metadata": {},
   "source": [
    "## Mixed Precision"
   ]
  },
  {
   "cell_type": "code",
   "execution_count": 19,
   "metadata": {},
   "outputs": [
    {
     "name": "stdout",
     "output_type": "stream",
     "text": [
      "\n",
      "--- Optimizing yolov5n with Quantization + ONNX + Batching ---\n"
     ]
    },
    {
     "name": "stderr",
     "output_type": "stream",
     "text": [
      "/home/dishapant/Desktop/spp/yolov5_benchmarking_optimization/yolov5/models/common.py:700: TracerWarning: Converting a tensor to a Python boolean might cause the trace to be incorrect. We can't record the data flow of Python values, so this value will be treated as a constant in the future. This means that the trace might not generalize to other inputs!\n",
      "  y = self.model(im, augment=augment, visualize=visualize) if augment or visualize else self.model(im)\n",
      "/home/dishapant/Desktop/spp/yolov5_benchmarking_optimization/yolov5/models/yolo.py:101: TracerWarning: Converting a tensor to a Python boolean might cause the trace to be incorrect. We can't record the data flow of Python values, so this value will be treated as a constant in the future. This means that the trace might not generalize to other inputs!\n",
      "  if self.dynamic or self.grid[i].shape[2:4] != x[i].shape[2:4]:\n",
      "Unsupported operator aten::silu_ encountered 57 time(s)\n",
      "Unsupported operator aten::add encountered 10 time(s)\n",
      "Unsupported operator aten::max_pool2d encountered 3 time(s)\n",
      "Unsupported operator aten::mul encountered 22 time(s)\n",
      "Unsupported operator aten::sigmoid encountered 3 time(s)\n",
      "Unsupported operator aten::pow encountered 3 time(s)\n",
      "/home/dishapant/Desktop/spp/yolov5_benchmarking_optimization/yolov5/models/common.py:700: TracerWarning: Converting a tensor to a Python boolean might cause the trace to be incorrect. We can't record the data flow of Python values, so this value will be treated as a constant in the future. This means that the trace might not generalize to other inputs!\n",
      "  y = self.model(im, augment=augment, visualize=visualize) if augment or visualize else self.model(im)\n",
      "/home/dishapant/Desktop/spp/yolov5_benchmarking_optimization/yolov5/models/yolo.py:101: TracerWarning: Converting a tensor to a Python boolean might cause the trace to be incorrect. We can't record the data flow of Python values, so this value will be treated as a constant in the future. This means that the trace might not generalize to other inputs!\n",
      "  if self.dynamic or self.grid[i].shape[2:4] != x[i].shape[2:4]:\n"
     ]
    },
    {
     "name": "stdout",
     "output_type": "stream",
     "text": [
      "\n",
      "--- Optimizing yolov5s with Quantization + ONNX + Batching ---\n"
     ]
    },
    {
     "name": "stderr",
     "output_type": "stream",
     "text": [
      "Unsupported operator aten::silu_ encountered 57 time(s)\n",
      "Unsupported operator aten::add encountered 10 time(s)\n",
      "Unsupported operator aten::max_pool2d encountered 3 time(s)\n",
      "Unsupported operator aten::mul encountered 22 time(s)\n",
      "Unsupported operator aten::sigmoid encountered 3 time(s)\n",
      "Unsupported operator aten::pow encountered 3 time(s)\n",
      "/home/dishapant/Desktop/spp/yolov5_benchmarking_optimization/yolov5/models/common.py:700: TracerWarning: Converting a tensor to a Python boolean might cause the trace to be incorrect. We can't record the data flow of Python values, so this value will be treated as a constant in the future. This means that the trace might not generalize to other inputs!\n",
      "  y = self.model(im, augment=augment, visualize=visualize) if augment or visualize else self.model(im)\n"
     ]
    },
    {
     "name": "stdout",
     "output_type": "stream",
     "text": [
      "\n",
      "--- Optimizing yolov5m with Quantization + ONNX + Batching ---\n"
     ]
    },
    {
     "name": "stderr",
     "output_type": "stream",
     "text": [
      "/home/dishapant/Desktop/spp/yolov5_benchmarking_optimization/yolov5/models/yolo.py:101: TracerWarning: Converting a tensor to a Python boolean might cause the trace to be incorrect. We can't record the data flow of Python values, so this value will be treated as a constant in the future. This means that the trace might not generalize to other inputs!\n",
      "  if self.dynamic or self.grid[i].shape[2:4] != x[i].shape[2:4]:\n",
      "Unsupported operator aten::silu_ encountered 79 time(s)\n",
      "Unsupported operator aten::add encountered 17 time(s)\n",
      "Unsupported operator aten::max_pool2d encountered 3 time(s)\n",
      "Unsupported operator aten::mul encountered 22 time(s)\n",
      "Unsupported operator aten::sigmoid encountered 3 time(s)\n",
      "Unsupported operator aten::pow encountered 3 time(s)\n",
      "/home/dishapant/Desktop/spp/yolov5_benchmarking_optimization/yolov5/models/common.py:700: TracerWarning: Converting a tensor to a Python boolean might cause the trace to be incorrect. We can't record the data flow of Python values, so this value will be treated as a constant in the future. This means that the trace might not generalize to other inputs!\n",
      "  y = self.model(im, augment=augment, visualize=visualize) if augment or visualize else self.model(im)\n"
     ]
    },
    {
     "name": "stdout",
     "output_type": "stream",
     "text": [
      "\n",
      "--- Optimizing yolov5l with Quantization + ONNX + Batching ---\n"
     ]
    },
    {
     "name": "stderr",
     "output_type": "stream",
     "text": [
      "/home/dishapant/Desktop/spp/yolov5_benchmarking_optimization/yolov5/models/yolo.py:101: TracerWarning: Converting a tensor to a Python boolean might cause the trace to be incorrect. We can't record the data flow of Python values, so this value will be treated as a constant in the future. This means that the trace might not generalize to other inputs!\n",
      "  if self.dynamic or self.grid[i].shape[2:4] != x[i].shape[2:4]:\n",
      "Unsupported operator aten::silu_ encountered 101 time(s)\n",
      "Unsupported operator aten::add encountered 24 time(s)\n",
      "Unsupported operator aten::max_pool2d encountered 3 time(s)\n",
      "Unsupported operator aten::mul encountered 22 time(s)\n",
      "Unsupported operator aten::sigmoid encountered 3 time(s)\n",
      "Unsupported operator aten::pow encountered 3 time(s)\n",
      "/home/dishapant/Desktop/spp/yolov5_benchmarking_optimization/yolov5/models/common.py:700: TracerWarning: Converting a tensor to a Python boolean might cause the trace to be incorrect. We can't record the data flow of Python values, so this value will be treated as a constant in the future. This means that the trace might not generalize to other inputs!\n",
      "  y = self.model(im, augment=augment, visualize=visualize) if augment or visualize else self.model(im)\n"
     ]
    },
    {
     "name": "stdout",
     "output_type": "stream",
     "text": [
      "\n",
      "--- Optimizing yolov5x with Quantization + ONNX + Batching ---\n"
     ]
    },
    {
     "name": "stderr",
     "output_type": "stream",
     "text": [
      "/home/dishapant/Desktop/spp/yolov5_benchmarking_optimization/yolov5/models/yolo.py:101: TracerWarning: Converting a tensor to a Python boolean might cause the trace to be incorrect. We can't record the data flow of Python values, so this value will be treated as a constant in the future. This means that the trace might not generalize to other inputs!\n",
      "  if self.dynamic or self.grid[i].shape[2:4] != x[i].shape[2:4]:\n",
      "Unsupported operator aten::silu_ encountered 123 time(s)\n",
      "Unsupported operator aten::add encountered 31 time(s)\n",
      "Unsupported operator aten::max_pool2d encountered 3 time(s)\n",
      "Unsupported operator aten::mul encountered 22 time(s)\n",
      "Unsupported operator aten::sigmoid encountered 3 time(s)\n",
      "Unsupported operator aten::pow encountered 3 time(s)\n"
     ]
    }
   ],
   "source": [
    "results = {}\n",
    "batch_size = 4\n",
    "\n",
    "for model_name, model in models.items():\n",
    "    print(f\"\\n--- Optimizing {model_name} with Quantization + ONNX + Batching ---\")\n",
    "\n",
    "    # 1. Quantize model (Dynamic INT8)\n",
    "    quantized_model = quantize_dynamic(model.to(device).eval(), {torch.nn.Linear}, dtype=torch.qint8)\n",
    "\n",
    "    # 2. Export to ONNX\n",
    "    dummy = torch.randn(1, 3, 640, 640).to(device)\n",
    "    onnx_path = f\"{model_name}_quant.onnx\"\n",
    "    torch.onnx.export(\n",
    "        quantized_model,\n",
    "        dummy,\n",
    "        onnx_path,\n",
    "        input_names=[\"input\"],\n",
    "        output_names=[\"output\"],\n",
    "        opset_version=12,\n",
    "        dynamic_axes={\"input\": {0: \"batch_size\"}, \"output\": {0: \"batch_size\"}},\n",
    "        verbose=False\n",
    "    )\n",
    "\n",
    "    # 3. Inference with ONNX Runtime\n",
    "    ort_session = ort.InferenceSession(onnx_path, providers=[\"CPUExecutionProvider\"])\n",
    "\n",
    "    # Load and batch images\n",
    "    images = []\n",
    "    for img_path in image_files:\n",
    "        img = Image.open(img_path).convert('RGB')\n",
    "        tensor = transform(img).numpy()\n",
    "        images.append(tensor)\n",
    "    all_batches = [images[i:i+batch_size] for i in range(0, len(images), batch_size)]\n",
    "\n",
    "    total_time = 0\n",
    "    for batch in all_batches:\n",
    "        input_batch = np.stack(batch, axis=0).astype(np.float32)  # ONNX uses FP32 input\n",
    "        start = time.time()\n",
    "        _ = ort_session.run(None, {\"input\": input_batch})\n",
    "        end = time.time()\n",
    "        total_time += (end - start)\n",
    "\n",
    "    total_images = len(images)\n",
    "    avg_latency = (total_time / total_images) * 1000\n",
    "    avg_fps = total_images / total_time\n",
    "\n",
    "    # Model summary\n",
    "    info = summary(\n",
    "        model,\n",
    "        input_size=(1, 3, 640, 640),\n",
    "        dtypes=[torch.float],\n",
    "        device=device,\n",
    "        verbose=0\n",
    "    )\n",
    "    total_params = info.total_params\n",
    "    params_m = total_params / 1e6\n",
    "    model_size_mb = total_params * 4 / (1024 ** 2)\n",
    "\n",
    "    # FLOPs\n",
    "    input_tensor = torch.randn(1, 3, 640, 640).to(device)\n",
    "    flops = FlopCountAnalysis(model, input_tensor)\n",
    "    total_flops = flops.total()\n",
    "    gflops = total_flops / 1e9\n",
    "\n",
    "    # Utilization\n",
    "    actual_gflops_per_second = gflops / (avg_latency / 1000)\n",
    "    utilization = (actual_gflops_per_second / PEAK_GFLOPS) * 100\n",
    "\n",
    "    # OI (Operational Intensity)\n",
    "    input_size_bytes = 3 * 640 * 640 * 4  # FP32 = 4 bytes\n",
    "    activation_estimate = input_size_bytes * 3\n",
    "    memory_accessed = total_params * 4 + activation_estimate  # INT8 model, but input is FP32\n",
    "    oi = total_flops / memory_accessed\n",
    "    peak_oi = PEAK_GFLOPS / PEAK_BANDWIDTH\n",
    "    bound_type = \"Compute Bound\" if oi > peak_oi else \"Memory Bound\"\n",
    "\n",
    "    results[model_name] = {\n",
    "        \"Latency (ms)\": avg_latency,\n",
    "        \"FPS\": avg_fps,\n",
    "        \"Params (M)\": params_m,\n",
    "        \"Model Size (MB)\": model_size_mb,\n",
    "        \"GFLOPs\": gflops,\n",
    "        \"Utilization (%)\": utilization,\n",
    "        \"Operational Intensity\": oi,\n",
    "        \"Bound Type\": bound_type,\n",
    "    }"
   ]
  },
  {
   "cell_type": "code",
   "execution_count": 20,
   "metadata": {},
   "outputs": [
    {
     "name": "stdout",
     "output_type": "stream",
     "text": [
      "====================================================================================================\n",
      "Model        Latency (ms)        FPS   Params (M)    Size (MB)     GFLOPs    Utilization (%)     Bound Type\n",
      "====================================================================================================\n",
      "yolov5n             19.75      50.63         1.87         7.12       2.23              27.60  Compute Bound\n",
      "yolov5s             51.54      19.40         7.23        27.56       8.22              38.89  Compute Bound\n",
      "yolov5m            130.26       7.68        21.17        80.77      24.44              45.76  Compute Bound\n",
      "yolov5l            242.73       4.12        46.53       177.51      54.50              54.76  Compute Bound\n",
      "yolov5x            421.28       2.37        86.71       330.75     102.73              59.47  Compute Bound\n",
      "====================================================================================================\n"
     ]
    }
   ],
   "source": [
    "print(\"=\" * 100)\n",
    "print(f\"{'Model':<10} {'Latency (ms)':>14} {'FPS':>10} {'Params (M)':>12} {'Size (MB)':>12} {'GFLOPs':>10} {'Utilization (%)':>18} {'Bound Type':>14}\")\n",
    "print(\"=\" * 100)\n",
    "\n",
    "for model_name, stats in results.items():\n",
    "    print(f\"{model_name:<10} \"\n",
    "          f\"{stats['Latency (ms)']:>14.2f} \"\n",
    "          f\"{stats['FPS']:>10.2f} \"\n",
    "          f\"{stats['Params (M)']:>12.2f} \"\n",
    "          f\"{stats['Model Size (MB)']:>12.2f} \"\n",
    "          f\"{stats['GFLOPs']:>10.2f} \"\n",
    "          f\"{stats['Utilization (%)']:>18.2f} \"\n",
    "          f\"{stats['Bound Type']:>14}\")\n",
    "\n",
    "print(\"=\" * 100)\n"
   ]
  }
 ],
 "metadata": {
  "kernelspec": {
   "display_name": "yolo-benchmark",
   "language": "python",
   "name": "python3"
  },
  "language_info": {
   "codemirror_mode": {
    "name": "ipython",
    "version": 3
   },
   "file_extension": ".py",
   "mimetype": "text/x-python",
   "name": "python",
   "nbconvert_exporter": "python",
   "pygments_lexer": "ipython3",
   "version": "3.11.11"
  }
 },
 "nbformat": 4,
 "nbformat_minor": 2
}
