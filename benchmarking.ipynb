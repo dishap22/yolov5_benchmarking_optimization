{
 "cells": [
  {
   "cell_type": "markdown",
   "metadata": {},
   "source": [
    "# Import requirements"
   ]
  },
  {
   "cell_type": "code",
   "execution_count": null,
   "metadata": {},
   "outputs": [
    {
     "ename": "ImportError",
     "evalue": "cannot import name 'logger' from 'fvcore.nn.jit_handles' (/home/dishapant/miniconda3/envs/yolo-benchmark/lib/python3.11/site-packages/fvcore/nn/jit_handles.py)",
     "output_type": "error",
     "traceback": [
      "\u001b[0;31m---------------------------------------------------------------------------\u001b[0m",
      "\u001b[0;31mImportError\u001b[0m                               Traceback (most recent call last)",
      "Cell \u001b[0;32mIn[19], line 11\u001b[0m\n\u001b[1;32m      9\u001b[0m \u001b[38;5;28;01mfrom\u001b[39;00m\u001b[38;5;250m \u001b[39m\u001b[38;5;21;01mtorchinfo\u001b[39;00m\u001b[38;5;250m \u001b[39m\u001b[38;5;28;01mimport\u001b[39;00m summary\n\u001b[1;32m     10\u001b[0m \u001b[38;5;28;01mfrom\u001b[39;00m\u001b[38;5;250m \u001b[39m\u001b[38;5;21;01mfvcore\u001b[39;00m\u001b[38;5;21;01m.\u001b[39;00m\u001b[38;5;21;01mnn\u001b[39;00m\u001b[38;5;250m \u001b[39m\u001b[38;5;28;01mimport\u001b[39;00m FlopCountAnalysis\n\u001b[0;32m---> 11\u001b[0m \u001b[38;5;28;01mfrom\u001b[39;00m\u001b[38;5;250m \u001b[39m\u001b[38;5;21;01mfvcore\u001b[39;00m\u001b[38;5;21;01m.\u001b[39;00m\u001b[38;5;21;01mnn\u001b[39;00m\u001b[38;5;21;01m.\u001b[39;00m\u001b[38;5;21;01mjit_handles\u001b[39;00m\u001b[38;5;250m \u001b[39m\u001b[38;5;28;01mimport\u001b[39;00m logger \u001b[38;5;28;01mas\u001b[39;00m fvcore_logger\n\u001b[1;32m     13\u001b[0m fvcore_logger\u001b[38;5;241m.\u001b[39msetLevel(logging\u001b[38;5;241m.\u001b[39mERROR)\n\u001b[1;32m     15\u001b[0m current_dir \u001b[38;5;241m=\u001b[39m os\u001b[38;5;241m.\u001b[39mpath\u001b[38;5;241m.\u001b[39mbasename(os\u001b[38;5;241m.\u001b[39mgetcwd())\n",
      "\u001b[0;31mImportError\u001b[0m: cannot import name 'logger' from 'fvcore.nn.jit_handles' (/home/dishapant/miniconda3/envs/yolo-benchmark/lib/python3.11/site-packages/fvcore/nn/jit_handles.py)"
     ]
    }
   ],
   "source": [
    "import time\n",
    "import os\n",
    "import torch\n",
    "import torchvision.transforms as transforms\n",
    "import matplotlib.pyplot as plt\n",
    "from pathlib import Path\n",
    "from PIL import Image\n",
    "from torchinfo import summary\n",
    "from fvcore.nn import FlopCountAnalysis\n",
    "\n",
    "current_dir = os.path.basename(os.getcwd())\n",
    "\n",
    "if current_dir != \"yolov5\":\n",
    "    if os.path.isdir(\"yolov5\"):\n",
    "        os.chdir(\"yolov5\")\n",
    "\n",
    "from models.common import DetectMultiBackend\n",
    "from utils.torch_utils import select_device\n"
   ]
  },
  {
   "cell_type": "markdown",
   "metadata": {},
   "source": [
    "# Load COCO 128 dataset"
   ]
  },
  {
   "cell_type": "code",
   "execution_count": 3,
   "metadata": {},
   "outputs": [
    {
     "name": "stdout",
     "output_type": "stream",
     "text": [
      "Total images: 100\n"
     ]
    }
   ],
   "source": [
    "data_path  = Path(\"../datasets/coco128/images/train2017\")\n",
    "image_files = list(data_path.glob(\"*.jpg\"))[:100]\n",
    "print(f\"Total images: {len(image_files)}\")"
   ]
  },
  {
   "cell_type": "markdown",
   "metadata": {},
   "source": [
    "# Load YOLOv5 models"
   ]
  },
  {
   "cell_type": "code",
   "execution_count": null,
   "metadata": {},
   "outputs": [
    {
     "name": "stderr",
     "output_type": "stream",
     "text": [
      "YOLOv5 🚀 v7.0-411-gf4d8a84c Python-3.11.11 torch-2.6.0+cu124 CPU\n",
      "\n"
     ]
    },
    {
     "name": "stderr",
     "output_type": "stream",
     "text": [
      "Fusing layers... \n",
      "YOLOv5n summary: 213 layers, 1867405 parameters, 0 gradients, 4.5 GFLOPs\n",
      "Fusing layers... \n"
     ]
    },
    {
     "name": "stdout",
     "output_type": "stream",
     "text": [
      "cpu\n"
     ]
    },
    {
     "name": "stderr",
     "output_type": "stream",
     "text": [
      "YOLOv5s summary: 213 layers, 7225885 parameters, 0 gradients, 16.4 GFLOPs\n",
      "Fusing layers... \n",
      "YOLOv5m summary: 290 layers, 21172173 parameters, 0 gradients, 48.9 GFLOPs\n",
      "Fusing layers... \n",
      "YOLOv5l summary: 367 layers, 46533693 parameters, 0 gradients, 109.0 GFLOPs\n",
      "Fusing layers... \n",
      "YOLOv5x summary: 444 layers, 86705005 parameters, 0 gradients, 205.5 GFLOPs\n"
     ]
    }
   ],
   "source": [
    "device = select_device(\"cuda\" if torch.cuda.is_available() else \"cpu\")\n",
    "\n",
    "models  = {\n",
    "    'yolov5n': DetectMultiBackend('yolov5n.pt', device=device),\n",
    "    'yolov5s': DetectMultiBackend('yolov5s.pt', device=device),\n",
    "    'yolov5m': DetectMultiBackend('yolov5m.pt', device=device),\n",
    "    'yolov5l': DetectMultiBackend('yolov5l.pt', device=device),\n",
    "    'yolov5x': DetectMultiBackend('yolov5x.pt', device=device),\n",
    "}"
   ]
  },
  {
   "cell_type": "markdown",
   "metadata": {},
   "source": [
    "# Run Inference and Benchmark Performance"
   ]
  },
  {
   "cell_type": "code",
   "execution_count": 45,
   "metadata": {},
   "outputs": [
    {
     "name": "stderr",
     "output_type": "stream",
     "text": [
      "Unsupported operator aten::silu_ encountered 57 time(s)\n",
      "Unsupported operator aten::add encountered 10 time(s)\n",
      "Unsupported operator aten::max_pool2d encountered 3 time(s)\n",
      "Unsupported operator aten::mul encountered 22 time(s)\n",
      "Unsupported operator aten::sigmoid encountered 3 time(s)\n",
      "Unsupported operator aten::pow encountered 3 time(s)\n",
      "Unsupported operator aten::silu_ encountered 57 time(s)\n",
      "Unsupported operator aten::add encountered 10 time(s)\n",
      "Unsupported operator aten::max_pool2d encountered 3 time(s)\n",
      "Unsupported operator aten::mul encountered 22 time(s)\n",
      "Unsupported operator aten::sigmoid encountered 3 time(s)\n",
      "Unsupported operator aten::pow encountered 3 time(s)\n",
      "Unsupported operator aten::silu_ encountered 79 time(s)\n",
      "Unsupported operator aten::add encountered 17 time(s)\n",
      "Unsupported operator aten::max_pool2d encountered 3 time(s)\n",
      "Unsupported operator aten::mul encountered 22 time(s)\n",
      "Unsupported operator aten::sigmoid encountered 3 time(s)\n",
      "Unsupported operator aten::pow encountered 3 time(s)\n",
      "Unsupported operator aten::silu_ encountered 101 time(s)\n",
      "Unsupported operator aten::add encountered 24 time(s)\n",
      "Unsupported operator aten::max_pool2d encountered 3 time(s)\n",
      "Unsupported operator aten::mul encountered 22 time(s)\n",
      "Unsupported operator aten::sigmoid encountered 3 time(s)\n",
      "Unsupported operator aten::pow encountered 3 time(s)\n",
      "Unsupported operator aten::silu_ encountered 123 time(s)\n",
      "Unsupported operator aten::add encountered 31 time(s)\n",
      "Unsupported operator aten::max_pool2d encountered 3 time(s)\n",
      "Unsupported operator aten::mul encountered 22 time(s)\n",
      "Unsupported operator aten::sigmoid encountered 3 time(s)\n",
      "Unsupported operator aten::pow encountered 3 time(s)\n"
     ]
    }
   ],
   "source": [
    "transform = transforms.Compose([\n",
    "    transforms.ToTensor(),\n",
    "    transforms.Resize((640, 640))\n",
    "])\n",
    "\n",
    "\n",
    "latencies = {}\n",
    "fps_values = {}\n",
    "gflops_dict = {}\n",
    "params_dict = {}\n",
    "utilization_dict = {}\n",
    "model_size_dict = {}\n",
    "per_layer_gflops_dict = {}\n",
    "oi_dict = {}\n",
    "bound_type_dict = {}\n",
    "timing_results = []\n",
    "\n",
    "PEAK_GFLOPS = 410 # GFLOPS\n",
    "PEAK_BANDWIDTH = 28.1 # GB/s\n",
    "\n",
    "for model_name, model in models.items():\n",
    "\n",
    "    model = model.to(device).eval()\n",
    "    dummy = torch.randn(1, 3, 640, 640).to(device)\n",
    "    for _ in range(3):\n",
    "        with torch.no_grad():\n",
    "            _ = model(dummy)\n",
    "\n",
    "    total_time = 0\n",
    "\n",
    "    for img_path in image_files:\n",
    "        img = Image.open(img_path).convert('RGB')  # Open and convert to RGB\n",
    "        img = transform(img).unsqueeze(0).to(device)  # Apply transforms, add batch dimension, move to device\n",
    "\n",
    "        start_time = time.time()\n",
    "        with torch.no_grad():\n",
    "            _ = model(img)\n",
    "        end_time = time.time()\n",
    "\n",
    "        total_time += (end_time - start_time)\n",
    "\n",
    "    avg_latency = (total_time / len(image_files)) * 1000  # Convert to ms\n",
    "    avg_fps = len(image_files) / total_time  # Compute FPS\n",
    "\n",
    "    latencies[model_name] = avg_latency\n",
    "    fps_values[model_name] = avg_fps\n",
    "    timing_results.append((model_name, avg_latency, avg_fps))\n",
    "\n",
    "    # model parameters\n",
    "    info = summary(model, input_size=(1, 3, 640, 640), verbose=0)\n",
    "    total_params = info.total_params\n",
    "    params_m = total_params / 1e6\n",
    "    model_size_mb = total_params * 4 / (1024 ** 2)\n",
    "\n",
    "    params_dict[model_name] = params_m\n",
    "    model_size_dict[model_name] = model_size_mb\n",
    "\n",
    "    # FLOPs\n",
    "    input_tensor = torch.randn(1, 3, 640, 640).to(device)\n",
    "    flops = FlopCountAnalysis(model, input_tensor)\n",
    "    total_flops = flops.total()\n",
    "    gflops = total_flops / 1e9\n",
    "    gflops_dict[model_name] = gflops\n",
    "\n",
    "\n",
    "    # Utilization\n",
    "    actual_gflops_per_second = gflops / (avg_latency / 1000)\n",
    "    utilization = (actual_gflops_per_second / PEAK_GFLOPS) * 100\n",
    "    utilization_dict[model_name] = utilization\n",
    "\n",
    "    # Operational Intensity\n",
    "    input_size_bytes = 3 * 640 * 640 * 4  # RGB image, float32\n",
    "    activation_estimate = input_size_bytes * 3\n",
    "    memory_accessed = total_params * 4 + activation_estimate\n",
    "    oi = total_flops / memory_accessed\n",
    "    peak_oi = PEAK_GFLOPS / PEAK_BANDWIDTH\n",
    "\n",
    "    oi_dict[model_name] = oi\n",
    "    bound_type = \"Compute Bound\" if oi > peak_oi else \"Memory Bound\"\n",
    "    bound_type_dict[model_name] = bound_type\n",
    "\n",
    "    # Per-layer GFLOPs\n",
    "    layer_flops = flops.by_module()\n",
    "    layer_gflops = {k: v / 1e9 for k, v in layer_flops.items()}\n",
    "    per_layer_gflops_dict[model_name] = layer_gflops"
   ]
  },
  {
   "cell_type": "markdown",
   "metadata": {},
   "source": [
    "# Benchmarking Results"
   ]
  },
  {
   "cell_type": "code",
   "execution_count": 46,
   "metadata": {},
   "outputs": [
    {
     "name": "stdout",
     "output_type": "stream",
     "text": [
      "_______________________________________________\n",
      "Model                  Latency (ms)        FPS\n",
      "_______________________________________________\n",
      "yolov5n                   27.37 ms       36.54\n",
      "yolov5s                   56.33 ms       17.75\n",
      "yolov5m                  126.00 ms        7.94\n",
      "yolov5l                  237.89 ms        4.20\n",
      "yolov5x                  415.73 ms        2.41\n",
      "_______________________________________________\n"
     ]
    }
   ],
   "source": [
    "print(\"_______________________________________________\")\n",
    "print(\"Model                  Latency (ms)        FPS\")\n",
    "print(\"_______________________________________________\")\n",
    "for model_name, latency, fps in timing_results:\n",
    "    print(f\"{model_name:<16} {latency:>14.2f} ms    {fps:>8.2f}\")\n",
    "print(\"_______________________________________________\")"
   ]
  },
  {
   "cell_type": "markdown",
   "metadata": {},
   "source": [
    "# Visualization"
   ]
  },
  {
   "cell_type": "code",
   "execution_count": 47,
   "metadata": {},
   "outputs": [
    {
     "data": {
      "image/png": "[encoded data removed]",
      "text/plain": [
       "<Figure size 1000x500 with 1 Axes>"
      ]
     },
     "metadata": {},
     "output_type": "display_data"
    },
    {
     "data": {
      "image/png": "[encoded data removed]",
      "text/plain": [
       "<Figure size 1000x500 with 1 Axes>"
      ]
     },
     "metadata": {},
     "output_type": "display_data"
    }
   ],
   "source": [
    "%matplotlib inline\n",
    "\n",
    "# Plot Latency\n",
    "plt.figure(figsize=(10, 5))\n",
    "plt.bar(latencies.keys(), latencies.values(), color='blue')\n",
    "plt.xlabel('Model')\n",
    "plt.ylabel('Latency (ms)')\n",
    "plt.title('YOLOv5 Model Latency')\n",
    "plt.show()\n",
    "\n",
    "# Plot FPS\n",
    "plt.figure(figsize=(10, 5))\n",
    "plt.bar(fps_values.keys(), fps_values.values(), color='red')\n",
    "plt.xlabel('Model')\n",
    "plt.ylabel('Frames Per Second (FPS)')\n",
    "plt.title('YOLOv5 Model FPS')\n",
    "plt.show()\n"
   ]
  },
  {
   "cell_type": "markdown",
   "metadata": {},
   "source": [
    "# Accuracy Analysis"
   ]
  },
  {
   "cell_type": "code",
   "execution_count": 7,
   "metadata": {},
   "outputs": [
    {
     "name": "stdout",
     "output_type": "stream",
     "text": [
      "\u001b[34m\u001b[1mval: \u001b[0mdata=/home/dishapant/Desktop/spp/yolov5_benchmarking_optimization/yolov5/data/coco128.yaml, weights=['yolov5n.pt'], batch_size=32, imgsz=640, conf_thres=0.001, iou_thres=0.65, max_det=300, task=val, device=, workers=8, single_cls=False, augment=False, verbose=False, save_txt=False, save_hybrid=False, save_conf=False, save_json=False, project=runs/val, name=exp, exist_ok=False, half=False, dnn=False\n",
      "YOLOv5 🚀 v7.0-411-gf4d8a84c Python-3.11.11 torch-2.6.0+cu124 CPU\n",
      "\n",
      "Fusing layers... \n",
      "YOLOv5n summary: 213 layers, 1867405 parameters, 0 gradients, 4.5 GFLOPs\n",
      "\u001b[34m\u001b[1mval: \u001b[0mScanning /home/dishapant/Desktop/spp/yolov5_benchmarking_optimization/datas\u001b[0m\n",
      "                 Class     Images  Instances          P          R      mAP50   \n",
      "                   all        128        929      0.629      0.478      0.541       0.35\n",
      "Speed: 0.9ms pre-process, 41.9ms inference, 4.1ms NMS per image at shape (32, 3, 640, 640)\n",
      "Results saved to \u001b[1mruns/val/exp22\u001b[0m\n"
     ]
    }
   ],
   "source": [
    "# For YOLOv5n\n",
    "!python val.py --weights yolov5n.pt --data coco128.yaml --img 640 --iou 0.65 --task val"
   ]
  },
  {
   "cell_type": "code",
   "execution_count": 8,
   "metadata": {},
   "outputs": [
    {
     "name": "stdout",
     "output_type": "stream",
     "text": [
      "\u001b[34m\u001b[1mval: \u001b[0mdata=/home/dishapant/Desktop/spp/yolov5_benchmarking_optimization/yolov5/data/coco128.yaml, weights=['yolov5s.pt'], batch_size=32, imgsz=640, conf_thres=0.001, iou_thres=0.65, max_det=300, task=val, device=, workers=8, single_cls=False, augment=False, verbose=False, save_txt=False, save_hybrid=False, save_conf=False, save_json=False, project=runs/val, name=exp, exist_ok=False, half=False, dnn=False\n",
      "YOLOv5 🚀 v7.0-411-gf4d8a84c Python-3.11.11 torch-2.6.0+cu124 CPU\n",
      "\n",
      "Fusing layers... \n",
      "YOLOv5s summary: 213 layers, 7225885 parameters, 0 gradients, 16.4 GFLOPs\n",
      "\u001b[34m\u001b[1mval: \u001b[0mScanning /home/dishapant/Desktop/spp/yolov5_benchmarking_optimization/datas\u001b[0m\n",
      "                 Class     Images  Instances          P          R      mAP50   \n",
      "                   all        128        929      0.691      0.623      0.706       0.48\n",
      "Speed: 0.9ms pre-process, 81.7ms inference, 2.4ms NMS per image at shape (32, 3, 640, 640)\n",
      "Results saved to \u001b[1mruns/val/exp23\u001b[0m\n"
     ]
    }
   ],
   "source": [
    "# For YOLOv5s\n",
    "!python val.py --weights yolov5s.pt --data coco128.yaml --img 640 --iou 0.65 --task val"
   ]
  },
  {
   "cell_type": "code",
   "execution_count": 9,
   "metadata": {},
   "outputs": [
    {
     "name": "stdout",
     "output_type": "stream",
     "text": [
      "\u001b[34m\u001b[1mval: \u001b[0mdata=/home/dishapant/Desktop/spp/yolov5_benchmarking_optimization/yolov5/data/coco128.yaml, weights=['yolov5m.pt'], batch_size=32, imgsz=640, conf_thres=0.001, iou_thres=0.65, max_det=300, task=val, device=, workers=8, single_cls=False, augment=False, verbose=False, save_txt=False, save_hybrid=False, save_conf=False, save_json=False, project=runs/val, name=exp, exist_ok=False, half=False, dnn=False\n",
      "YOLOv5 🚀 v7.0-411-gf4d8a84c Python-3.11.11 torch-2.6.0+cu124 CPU\n",
      "\n",
      "Fusing layers... \n",
      "YOLOv5m summary: 290 layers, 21172173 parameters, 0 gradients, 48.9 GFLOPs\n",
      "\u001b[34m\u001b[1mval: \u001b[0mScanning /home/dishapant/Desktop/spp/yolov5_benchmarking_optimization/datas\u001b[0m\n",
      "                 Class     Images  Instances          P          R      mAP50   \n",
      "                   all        128        929      0.735      0.694      0.773      0.553\n",
      "Speed: 1.0ms pre-process, 177.7ms inference, 2.0ms NMS per image at shape (32, 3, 640, 640)\n",
      "Results saved to \u001b[1mruns/val/exp24\u001b[0m\n"
     ]
    }
   ],
   "source": [
    "# For YOLOv5m\n",
    "!python val.py --weights yolov5m.pt --data coco128.yaml --img 640 --iou 0.65 --task val"
   ]
  },
  {
   "cell_type": "code",
   "execution_count": 10,
   "metadata": {},
   "outputs": [
    {
     "name": "stdout",
     "output_type": "stream",
     "text": [
      "\u001b[34m\u001b[1mval: \u001b[0mdata=/home/dishapant/Desktop/spp/yolov5_benchmarking_optimization/yolov5/data/coco128.yaml, weights=['yolov5l.pt'], batch_size=32, imgsz=640, conf_thres=0.001, iou_thres=0.65, max_det=300, task=val, device=, workers=8, single_cls=False, augment=False, verbose=False, save_txt=False, save_hybrid=False, save_conf=False, save_json=False, project=runs/val, name=exp, exist_ok=False, half=False, dnn=False\n",
      "YOLOv5 🚀 v7.0-411-gf4d8a84c Python-3.11.11 torch-2.6.0+cu124 CPU\n",
      "\n",
      "Fusing layers... \n",
      "YOLOv5l summary: 367 layers, 46533693 parameters, 0 gradients, 109.0 GFLOPs\n",
      "\u001b[34m\u001b[1mval: \u001b[0mScanning /home/dishapant/Desktop/spp/yolov5_benchmarking_optimization/datas\u001b[0m\n",
      "                 Class     Images  Instances          P          R      mAP50   \n",
      "                   all        128        929      0.795      0.694      0.811      0.602\n",
      "Speed: 0.9ms pre-process, 303.7ms inference, 1.7ms NMS per image at shape (32, 3, 640, 640)\n",
      "Results saved to \u001b[1mruns/val/exp25\u001b[0m\n"
     ]
    }
   ],
   "source": [
    "# For YOLOv5l\n",
    "!python val.py --weights yolov5l.pt --data coco128.yaml --img 640 --iou 0.65 --task val"
   ]
  },
  {
   "cell_type": "code",
   "execution_count": 11,
   "metadata": {},
   "outputs": [
    {
     "name": "stdout",
     "output_type": "stream",
     "text": [
      "\u001b[34m\u001b[1mval: \u001b[0mdata=/home/dishapant/Desktop/spp/yolov5_benchmarking_optimization/yolov5/data/coco128.yaml, weights=['yolov5x.pt'], batch_size=32, imgsz=640, conf_thres=0.001, iou_thres=0.65, max_det=300, task=val, device=, workers=8, single_cls=False, augment=False, verbose=False, save_txt=False, save_hybrid=False, save_conf=False, save_json=False, project=runs/val, name=exp, exist_ok=False, half=False, dnn=False\n",
      "YOLOv5 🚀 v7.0-411-gf4d8a84c Python-3.11.11 torch-2.6.0+cu124 CPU\n",
      "\n",
      "Fusing layers... \n",
      "YOLOv5x summary: 444 layers, 86705005 parameters, 0 gradients, 205.5 GFLOPs\n",
      "\u001b[34m\u001b[1mval: \u001b[0mScanning /home/dishapant/Desktop/spp/yolov5_benchmarking_optimization/datas\u001b[0m\n",
      "                 Class     Images  Instances          P          R      mAP50   \n",
      "                   all        128        929      0.773      0.753      0.824       0.63\n",
      "Speed: 1.1ms pre-process, 483.9ms inference, 1.6ms NMS per image at shape (32, 3, 640, 640)\n",
      "Results saved to \u001b[1mruns/val/exp26\u001b[0m\n"
     ]
    }
   ],
   "source": [
    "# For YOLOv5x\n",
    "!python val.py --weights yolov5x.pt --data coco128.yaml --img 640 --iou 0.65 --task val"
   ]
  },
  {
   "cell_type": "markdown",
   "metadata": {},
   "source": [
    "# Roofline Analysis Information"
   ]
  },
  {
   "cell_type": "code",
   "execution_count": 48,
   "metadata": {},
   "outputs": [
    {
     "name": "stdout",
     "output_type": "stream",
     "text": [
      "\n",
      "\n",
      "===========================================================================\n",
      "Model      Params (M)  Size (MB)   GFLOPs   Utilization (%)   Bound Type\n",
      "===========================================================================\n",
      "yolov5n          1.87       7.12     2.23            19.91     Compute Bound\n",
      "yolov5s          7.23      27.56     8.22            35.58     Compute Bound\n",
      "yolov5m         21.17      80.77    24.44            47.31     Compute Bound\n",
      "yolov5l         46.53     177.51    54.50            55.88     Compute Bound\n",
      "yolov5x         86.71     330.75   102.73            60.27     Compute Bound\n",
      "===========================================================================\n"
     ]
    }
   ],
   "source": [
    "print(\"\\n\")\n",
    "print(\"===========================================================================\")\n",
    "print(\"Model      Params (M)  Size (MB)   GFLOPs   Utilization (%)   Bound Type\")\n",
    "print(\"===========================================================================\")\n",
    "\n",
    "for model_name in models.keys():\n",
    "    params_m = params_dict[model_name]\n",
    "    model_size = model_size_dict[model_name]\n",
    "    gflops = gflops_dict[model_name]\n",
    "    utilization = utilization_dict[model_name]\n",
    "    bound_type = bound_type_dict[model_name]\n",
    "\n",
    "    print(f\"{model_name:<10} {params_m:>10.2f}  {model_size:>9.2f}  {gflops:>7.2f}  \"\n",
    "          f\"{utilization:>15.2f}     {bound_type}\")\n",
    "\n",
    "print(\"===========================================================================\")\n"
   ]
  },
  {
   "cell_type": "markdown",
   "metadata": {},
   "source": [
    "# Per-Layer Analysis"
   ]
  },
  {
   "cell_type": "code",
   "execution_count": 49,
   "metadata": {},
   "outputs": [],
   "source": [
    "per_layer_utilization_dict = {}\n",
    "highest_util_layers = {}\n",
    "lowest_util_layers = {}\n",
    "\n",
    "for model_name in models.keys():\n",
    "    model_util = utilization_dict[model_name]\n",
    "    model_total_gflops = gflops_dict[model_name]\n",
    "    per_layer_gflops = per_layer_gflops_dict[model_name]\n",
    "\n",
    "    # Compute per-layer utilization approx.\n",
    "    per_layer_util = {}\n",
    "    for layer, layer_gflops in per_layer_gflops.items():\n",
    "        if layer.strip() == \"\" or layer.strip() in {\"model\", \"model.model\"}:\n",
    "            continue  # Skip root / aggregate layers\n",
    "        layer_util = (layer_gflops / model_total_gflops) * model_util\n",
    "        per_layer_util[layer] = layer_util\n",
    "\n",
    "    per_layer_utilization_dict[model_name] = per_layer_util\n",
    "\n",
    "    # Sort layers\n",
    "    sorted_layers = sorted(per_layer_util.items(), key=lambda x: x[1], reverse=True)\n",
    "\n",
    "    # Save top and bottom 3 layers\n",
    "    highest_util_layers[model_name] = sorted_layers[:3]\n",
    "    lowest_util_layers[model_name] = sorted_layers[-3:]\n"
   ]
  },
  {
   "cell_type": "code",
   "execution_count": 50,
   "metadata": {},
   "outputs": [
    {
     "name": "stdout",
     "output_type": "stream",
     "text": [
      "\n",
      "===================================================================\n",
      "Per-Layer Utilization Summary\n",
      "===================================================================\n",
      "\n",
      "🔍 Model: yolov5n\n",
      "Highest Utilization Layers:\n",
      "    model.model.6                           : 2.22%\n",
      "    model.model.6.m                         : 1.75%\n",
      "    model.model.4                           : 1.64%\n",
      "Lowest Utilization Layers:\n",
      "    model.model.23.cv3.act                  : 0.00%\n",
      "    model.model.23.m.0.cv1.act              : 0.00%\n",
      "    model.model.23.m.0.cv2.act              : 0.00%\n",
      "\n",
      "🔍 Model: yolov5s\n",
      "Highest Utilization Layers:\n",
      "    model.model.6                           : 4.31%\n",
      "    model.model.6.m                         : 3.41%\n",
      "    model.model.4                           : 3.18%\n",
      "Lowest Utilization Layers:\n",
      "    model.model.23.cv3.act                  : 0.00%\n",
      "    model.model.23.m.0.cv1.act              : 0.00%\n",
      "    model.model.23.m.0.cv2.act              : 0.00%\n",
      "\n",
      "🔍 Model: yolov5m\n",
      "Highest Utilization Layers:\n",
      "    model.model.6                           : 7.76%\n",
      "    model.model.6.m                         : 6.85%\n",
      "    model.model.4                           : 5.48%\n",
      "Lowest Utilization Layers:\n",
      "    model.model.23.m.0.cv2.act              : 0.00%\n",
      "    model.model.23.m.1.cv1.act              : 0.00%\n",
      "    model.model.23.m.1.cv2.act              : 0.00%\n",
      "\n",
      "🔍 Model: yolov5l\n",
      "Highest Utilization Layers:\n",
      "    model.model.6                           : 10.54%\n",
      "    model.model.6.m                         : 9.68%\n",
      "    model.model.4                           : 7.31%\n",
      "Lowest Utilization Layers:\n",
      "    model.model.23.m.1.cv2.act              : 0.00%\n",
      "    model.model.23.m.2.cv1.act              : 0.00%\n",
      "    model.model.23.m.2.cv2.act              : 0.00%\n",
      "\n",
      "🔍 Model: yolov5x\n",
      "Highest Utilization Layers:\n",
      "    model.model.6                           : 12.30%\n",
      "    model.model.6.m                         : 11.53%\n",
      "    model.model.4                           : 8.46%\n",
      "Lowest Utilization Layers:\n",
      "    model.model.23.m.2.cv2.act              : 0.00%\n",
      "    model.model.23.m.3.cv1.act              : 0.00%\n",
      "    model.model.23.m.3.cv2.act              : 0.00%\n",
      "===================================================================\n"
     ]
    }
   ],
   "source": [
    "print(\"\\n===================================================================\")\n",
    "print(\"Per-Layer Utilization Summary\")\n",
    "print(\"===================================================================\")\n",
    "\n",
    "for model_name in models.keys():\n",
    "    print(f\"\\n🔍 Model: {model_name}\")\n",
    "\n",
    "    print(\"Highest Utilization Layers:\")\n",
    "    for layer, util in highest_util_layers[model_name]:\n",
    "        print(f\"    {layer:<40}: {util:.2f}%\")\n",
    "\n",
    "    print(\"Lowest Utilization Layers:\")\n",
    "    for layer, util in lowest_util_layers[model_name]:\n",
    "        print(f\"    {layer:<40}: {util:.2f}%\")\n",
    "print(\"===================================================================\")"
   ]
  }
 ],
 "metadata": {
  "kernelspec": {
   "display_name": "yolo-benchmark",
   "language": "python",
   "name": "python3"
  },
  "language_info": {
   "codemirror_mode": {
    "name": "ipython",
    "version": 3
   },
   "file_extension": ".py",
   "mimetype": "text/x-python",
   "name": "python",
   "nbconvert_exporter": "python",
   "pygments_lexer": "ipython3",
   "version": "3.11.11"
  }
 },
 "nbformat": 4,
 "nbformat_minor": 2
}
