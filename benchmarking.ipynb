{
 "cells": [
  {
   "cell_type": "markdown",
   "metadata": {},
   "source": [
    "# Import requirements"
   ]
  },
  {
   "cell_type": "code",
   "execution_count": 1,
   "metadata": {},
   "outputs": [],
   "source": [
    "import time\n",
    "import os\n",
    "import torch\n",
    "import torchvision.transforms as transforms\n",
    "import matplotlib.pyplot as plt\n",
    "from pathlib import Path\n",
    "from PIL import Image\n",
    "from torchinfo import summary\n",
    "from fvcore.nn import FlopCountAnalysis\n",
    "import torch.profiler\n",
    "import cProfile\n",
    "import pstats\n",
    "import io\n",
    "\n",
    "current_dir = os.path.basename(os.getcwd())\n",
    "\n",
    "if current_dir != \"yolov5\":\n",
    "    if os.path.isdir(\"yolov5\"):\n",
    "        os.chdir(\"yolov5\")\n",
    "\n",
    "from models.common import DetectMultiBackend\n",
    "from utils.torch_utils import select_device\n"
   ]
  },
  {
   "cell_type": "markdown",
   "metadata": {},
   "source": [
    "# Load COCO 128 dataset"
   ]
  },
  {
   "cell_type": "code",
   "execution_count": 3,
   "metadata": {},
   "outputs": [
    {
     "name": "stdout",
     "output_type": "stream",
     "text": [
      "Total images: 100\n"
     ]
    }
   ],
   "source": [
    "data_path  = Path(\"../datasets/coco128/images/train2017\")\n",
    "image_files = list(data_path.glob(\"*.jpg\"))[:100]\n",
    "print(f\"Total images: {len(image_files)}\")"
   ]
  },
  {
   "cell_type": "markdown",
   "metadata": {},
   "source": [
    "# Load YOLOv5 models"
   ]
  },
  {
   "cell_type": "code",
   "execution_count": 4,
   "metadata": {},
   "outputs": [
    {
     "name": "stderr",
     "output_type": "stream",
     "text": [
      "YOLOv5 🚀 v7.0-411-gf4d8a84c Python-3.11.11 torch-2.6.0+cu124 CUDA:0 (NVIDIA GeForce RTX 3060 Laptop GPU, 5938MiB)\n",
      "\n"
     ]
    },
    {
     "name": "stdout",
     "output_type": "stream",
     "text": [
      "Using device: cuda:0\n"
     ]
    },
    {
     "name": "stderr",
     "output_type": "stream",
     "text": [
      "Fusing layers... \n",
      "YOLOv5n summary: 213 layers, 1867405 parameters, 0 gradients, 4.5 GFLOPs\n",
      "Fusing layers... \n",
      "YOLOv5s summary: 213 layers, 7225885 parameters, 0 gradients, 16.4 GFLOPs\n",
      "Fusing layers... \n",
      "YOLOv5m summary: 290 layers, 21172173 parameters, 0 gradients, 48.9 GFLOPs\n",
      "Fusing layers... \n",
      "YOLOv5l summary: 367 layers, 46533693 parameters, 0 gradients, 109.0 GFLOPs\n",
      "Fusing layers... \n",
      "YOLOv5x summary: 444 layers, 86705005 parameters, 0 gradients, 205.5 GFLOPs\n"
     ]
    }
   ],
   "source": [
    "device = select_device(\"0\" if torch.cuda.is_available() else \"cpu\")\n",
    "print(f\"Using device: {device}\")\n",
    "\n",
    "models  = {\n",
    "    'yolov5n': DetectMultiBackend('yolov5n.pt', device=device),\n",
    "    'yolov5s': DetectMultiBackend('yolov5s.pt', device=device),\n",
    "    'yolov5m': DetectMultiBackend('yolov5m.pt', device=device),\n",
    "    'yolov5l': DetectMultiBackend('yolov5l.pt', device=device),\n",
    "    'yolov5x': DetectMultiBackend('yolov5x.pt', device=device),\n",
    "}"
   ]
  },
  {
   "cell_type": "markdown",
   "metadata": {},
   "source": [
    "# Run Inference and Benchmark Performance"
   ]
  },
  {
   "cell_type": "code",
   "execution_count": 5,
   "metadata": {},
   "outputs": [
    {
     "name": "stderr",
     "output_type": "stream",
     "text": [
      "Unsupported operator aten::silu_ encountered 57 time(s)\n",
      "Unsupported operator aten::add encountered 10 time(s)\n",
      "Unsupported operator aten::max_pool2d encountered 3 time(s)\n",
      "Unsupported operator aten::mul encountered 22 time(s)\n",
      "Unsupported operator aten::sigmoid encountered 3 time(s)\n",
      "Unsupported operator aten::pow encountered 3 time(s)\n",
      "Unsupported operator aten::silu_ encountered 57 time(s)\n",
      "Unsupported operator aten::add encountered 10 time(s)\n",
      "Unsupported operator aten::max_pool2d encountered 3 time(s)\n",
      "Unsupported operator aten::mul encountered 22 time(s)\n",
      "Unsupported operator aten::sigmoid encountered 3 time(s)\n",
      "Unsupported operator aten::pow encountered 3 time(s)\n",
      "Unsupported operator aten::silu_ encountered 79 time(s)\n",
      "Unsupported operator aten::add encountered 17 time(s)\n",
      "Unsupported operator aten::max_pool2d encountered 3 time(s)\n",
      "Unsupported operator aten::mul encountered 22 time(s)\n",
      "Unsupported operator aten::sigmoid encountered 3 time(s)\n",
      "Unsupported operator aten::pow encountered 3 time(s)\n",
      "Unsupported operator aten::silu_ encountered 101 time(s)\n",
      "Unsupported operator aten::add encountered 24 time(s)\n",
      "Unsupported operator aten::max_pool2d encountered 3 time(s)\n",
      "Unsupported operator aten::mul encountered 22 time(s)\n",
      "Unsupported operator aten::sigmoid encountered 3 time(s)\n",
      "Unsupported operator aten::pow encountered 3 time(s)\n",
      "Unsupported operator aten::silu_ encountered 123 time(s)\n",
      "Unsupported operator aten::add encountered 31 time(s)\n",
      "Unsupported operator aten::max_pool2d encountered 3 time(s)\n",
      "Unsupported operator aten::mul encountered 22 time(s)\n",
      "Unsupported operator aten::sigmoid encountered 3 time(s)\n",
      "Unsupported operator aten::pow encountered 3 time(s)\n"
     ]
    }
   ],
   "source": [
    "transform = transforms.Compose([\n",
    "    transforms.ToTensor(),\n",
    "    transforms.Resize((640, 640))\n",
    "])\n",
    "\n",
    "\n",
    "latencies = {}\n",
    "fps_values = {}\n",
    "gflops_dict = {}\n",
    "params_dict = {}\n",
    "utilization_dict = {}\n",
    "model_size_dict = {}\n",
    "per_layer_gflops_dict = {}\n",
    "oi_dict = {}\n",
    "bound_type_dict = {}\n",
    "timing_results = []\n",
    "profile_outputs = {}\n",
    "profiler_tables = {}\n",
    "\n",
    "PEAK_GFLOPS = 410 # GFLOPS\n",
    "PEAK_BANDWIDTH = 28.1 # GB/s\n",
    "\n",
    "if device != 'cpu':  # GPU mode\n",
    "    PEAK_GFLOPS = 10940  # RTX 3060 Laptop\n",
    "    PEAK_BANDWIDTH = 336\n",
    "\n",
    "for model_name, model in models.items():\n",
    "\n",
    "    model = model.to(device).eval()\n",
    "    dummy = torch.randn(1, 3, 640, 640).to(device)\n",
    "    for _ in range(3):\n",
    "        with torch.no_grad():\n",
    "            _ = model(dummy)\n",
    "\n",
    "    def profile_model_inference(model, image_files, transform, device):\n",
    "        total_time = 0\n",
    "        with torch.profiler.profile(\n",
    "            activities=[\n",
    "                torch.profiler.ProfilerActivity.CPU,\n",
    "                torch.profiler.ProfilerActivity.CUDA\n",
    "            ] if torch.cuda.is_available() else [torch.profiler.ProfilerActivity.CPU],\n",
    "            record_shapes=True,\n",
    "            profile_memory=True,\n",
    "            with_stack=False\n",
    "        ) as prof:\n",
    "\n",
    "            for img_path in image_files:\n",
    "                img = Image.open(img_path).convert('RGB')\n",
    "                img = transform(img).unsqueeze(0).to(device)\n",
    "\n",
    "                start_time = time.time()\n",
    "                with torch.no_grad():\n",
    "                    _ = model(img)\n",
    "                end_time = time.time()\n",
    "\n",
    "                total_time += (end_time - start_time)\n",
    "\n",
    "                prof.step()  # Mark end of one iteration\n",
    "\n",
    "        return total_time, prof.key_averages().table(sort_by=\"cuda_time_total\" if torch.cuda.is_available() else \"cpu_time_total\", row_limit=10)\n",
    "\n",
    "    # cProfile for profiling\n",
    "    pr = cProfile.Profile()\n",
    "    pr.enable()\n",
    "    total_time, prof_table = profile_model_inference(model, image_files, transform, device)\n",
    "    pr.disable()\n",
    "\n",
    "    s = io.StringIO()\n",
    "    ps = pstats.Stats(pr, stream=s).strip_dirs().sort_stats('tottime')\n",
    "    ps.print_stats(15)\n",
    "\n",
    "    profile_outputs[model_name] = s.getvalue()\n",
    "\n",
    "    # pytorch profiler\n",
    "    profiler_tables[model_name] = prof_table\n",
    "\n",
    "    avg_latency = (total_time / len(image_files)) * 1000  # Convert to ms\n",
    "    avg_fps = len(image_files) / total_time  # Compute FPS\n",
    "\n",
    "    latencies[model_name] = avg_latency\n",
    "    fps_values[model_name] = avg_fps\n",
    "    timing_results.append((model_name, avg_latency, avg_fps))\n",
    "\n",
    "    # model parameters\n",
    "    info = summary(model, input_size=(1, 3, 640, 640), verbose=0)\n",
    "    total_params = info.total_params\n",
    "    params_m = total_params / 1e6\n",
    "    model_size_mb = total_params * 4 / (1024 ** 2)\n",
    "\n",
    "    params_dict[model_name] = params_m\n",
    "    model_size_dict[model_name] = model_size_mb\n",
    "\n",
    "    # FLOPs\n",
    "    input_tensor = torch.randn(1, 3, 640, 640).to(device)\n",
    "    flops = FlopCountAnalysis(model, input_tensor)\n",
    "    total_flops = flops.total()\n",
    "    gflops = total_flops / 1e9\n",
    "    gflops_dict[model_name] = gflops\n",
    "\n",
    "\n",
    "    # Utilization\n",
    "    actual_gflops_per_second = gflops / (avg_latency / 1000)\n",
    "    utilization = (actual_gflops_per_second / PEAK_GFLOPS) * 100\n",
    "    utilization_dict[model_name] = utilization\n",
    "\n",
    "    # Operational Intensity\n",
    "    input_size_bytes = 3 * 640 * 640 * 4  # RGB image, float32\n",
    "    activation_estimate = input_size_bytes * 3\n",
    "    memory_accessed = total_params * 4 + activation_estimate\n",
    "    oi = total_flops / memory_accessed\n",
    "    peak_oi = PEAK_GFLOPS / PEAK_BANDWIDTH\n",
    "\n",
    "    oi_dict[model_name] = oi\n",
    "    bound_type = \"Compute Bound\" if oi > peak_oi else \"Memory Bound\"\n",
    "    bound_type_dict[model_name] = bound_type\n",
    "\n",
    "    # Per-layer GFLOPs\n",
    "    layer_flops = flops.by_module()\n",
    "    layer_gflops = {k: v / 1e9 for k, v in layer_flops.items()}\n",
    "    per_layer_gflops_dict[model_name] = layer_gflops"
   ]
  },
  {
   "cell_type": "markdown",
   "metadata": {},
   "source": [
    "# Benchmarking Results"
   ]
  },
  {
   "cell_type": "code",
   "execution_count": 6,
   "metadata": {},
   "outputs": [
    {
     "name": "stdout",
     "output_type": "stream",
     "text": [
      "_______________________________________________\n",
      "Model                  Latency (ms)        FPS\n",
      "_______________________________________________\n",
      "yolov5n                    8.32 ms      120.17\n",
      "yolov5s                    8.96 ms      111.62\n",
      "yolov5m                   12.06 ms       82.94\n",
      "yolov5l                   13.20 ms       75.77\n",
      "yolov5x                   15.54 ms       64.37\n",
      "_______________________________________________\n"
     ]
    }
   ],
   "source": [
    "print(\"_______________________________________________\")\n",
    "print(\"Model                  Latency (ms)        FPS\")\n",
    "print(\"_______________________________________________\")\n",
    "for model_name, latency, fps in timing_results:\n",
    "    print(f\"{model_name:<16} {latency:>14.2f} ms    {fps:>8.2f}\")\n",
    "print(\"_______________________________________________\")"
   ]
  },
  {
   "cell_type": "markdown",
   "metadata": {},
   "source": [
    "# Visualization"
   ]
  },
  {
   "cell_type": "code",
   "execution_count": 7,
   "metadata": {},
   "outputs": [
    {
     "data": {
      "image/png": "[encoded data removed]",
      "text/plain": [
       "<Figure size 1000x500 with 1 Axes>"
      ]
     },
     "metadata": {},
     "output_type": "display_data"
    },
    {
     "data": {
      "image/png": "[encoded data removed]",
      "text/plain": [
       "<Figure size 1000x500 with 1 Axes>"
      ]
     },
     "metadata": {},
     "output_type": "display_data"
    }
   ],
   "source": [
    "%matplotlib inline\n",
    "\n",
    "# Plot Latency\n",
    "plt.figure(figsize=(10, 5))\n",
    "plt.bar(latencies.keys(), latencies.values(), color='blue')\n",
    "plt.xlabel('Model')\n",
    "plt.ylabel('Latency (ms)')\n",
    "plt.title('YOLOv5 Model Latency')\n",
    "plt.show()\n",
    "\n",
    "# Plot FPS\n",
    "plt.figure(figsize=(10, 5))\n",
    "plt.bar(fps_values.keys(), fps_values.values(), color='red')\n",
    "plt.xlabel('Model')\n",
    "plt.ylabel('Frames Per Second (FPS)')\n",
    "plt.title('YOLOv5 Model FPS')\n",
    "plt.show()\n"
   ]
  },
  {
   "cell_type": "markdown",
   "metadata": {},
   "source": [
    "# Accuracy Analysis"
   ]
  },
  {
   "cell_type": "code",
   "execution_count": 8,
   "metadata": {},
   "outputs": [
    {
     "name": "stdout",
     "output_type": "stream",
     "text": [
      "\u001b[34m\u001b[1mval: \u001b[0mdata=/home/dishapant/Desktop/spp/yolov5_benchmarking_optimization/yolov5/data/coco128.yaml, weights=['yolov5n.pt'], batch_size=32, imgsz=640, conf_thres=0.001, iou_thres=0.65, max_det=300, task=val, device=, workers=8, single_cls=False, augment=False, verbose=False, save_txt=False, save_hybrid=False, save_conf=False, save_json=False, project=runs/val, name=exp, exist_ok=False, half=False, dnn=False\n",
      "YOLOv5 🚀 v7.0-411-gf4d8a84c Python-3.11.11 torch-2.6.0+cu124 CUDA:0 (NVIDIA GeForce RTX 3060 Laptop GPU, 5938MiB)\n",
      "\n",
      "Fusing layers... \n",
      "YOLOv5n summary: 213 layers, 1867405 parameters, 0 gradients, 4.5 GFLOPs\n",
      "\u001b[34m\u001b[1mval: \u001b[0mScanning /home/dishapant/Desktop/spp/yolov5_benchmarking_optimization/datas\u001b[0m\n",
      "                 Class     Images  Instances          P          R      mAP50   \n",
      "                   all        128        929      0.629      0.478      0.541      0.349\n",
      "Speed: 0.4ms pre-process, 12.1ms inference, 12.1ms NMS per image at shape (32, 3, 640, 640)\n",
      "Results saved to \u001b[1mruns/val/exp62\u001b[0m\n"
     ]
    }
   ],
   "source": [
    "# For YOLOv5n\n",
    "!python val.py --weights yolov5n.pt --data coco128.yaml --img 640 --iou 0.65 --task val"
   ]
  },
  {
   "cell_type": "code",
   "execution_count": 9,
   "metadata": {},
   "outputs": [
    {
     "name": "stdout",
     "output_type": "stream",
     "text": [
      "\u001b[34m\u001b[1mval: \u001b[0mdata=/home/dishapant/Desktop/spp/yolov5_benchmarking_optimization/yolov5/data/coco128.yaml, weights=['yolov5s.pt'], batch_size=32, imgsz=640, conf_thres=0.001, iou_thres=0.65, max_det=300, task=val, device=, workers=8, single_cls=False, augment=False, verbose=False, save_txt=False, save_hybrid=False, save_conf=False, save_json=False, project=runs/val, name=exp, exist_ok=False, half=False, dnn=False\n",
      "YOLOv5 🚀 v7.0-411-gf4d8a84c Python-3.11.11 torch-2.6.0+cu124 CUDA:0 (NVIDIA GeForce RTX 3060 Laptop GPU, 5938MiB)\n",
      "\n",
      "Fusing layers... \n",
      "YOLOv5s summary: 213 layers, 7225885 parameters, 0 gradients, 16.4 GFLOPs\n",
      "\u001b[34m\u001b[1mval: \u001b[0mScanning /home/dishapant/Desktop/spp/yolov5_benchmarking_optimization/datas\u001b[0m\n",
      "                 Class     Images  Instances          P          R      mAP50   \n",
      "                   all        128        929       0.69      0.623      0.702       0.48\n",
      "Speed: 0.5ms pre-process, 12.4ms inference, 9.2ms NMS per image at shape (32, 3, 640, 640)\n",
      "Results saved to \u001b[1mruns/val/exp63\u001b[0m\n"
     ]
    }
   ],
   "source": [
    "# For YOLOv5s\n",
    "!python val.py --weights yolov5s.pt --data coco128.yaml --img 640 --iou 0.65 --task val"
   ]
  },
  {
   "cell_type": "code",
   "execution_count": 10,
   "metadata": {},
   "outputs": [
    {
     "name": "stdout",
     "output_type": "stream",
     "text": [
      "\u001b[34m\u001b[1mval: \u001b[0mdata=/home/dishapant/Desktop/spp/yolov5_benchmarking_optimization/yolov5/data/coco128.yaml, weights=['yolov5m.pt'], batch_size=32, imgsz=640, conf_thres=0.001, iou_thres=0.65, max_det=300, task=val, device=, workers=8, single_cls=False, augment=False, verbose=False, save_txt=False, save_hybrid=False, save_conf=False, save_json=False, project=runs/val, name=exp, exist_ok=False, half=False, dnn=False\n",
      "YOLOv5 🚀 v7.0-411-gf4d8a84c Python-3.11.11 torch-2.6.0+cu124 CUDA:0 (NVIDIA GeForce RTX 3060 Laptop GPU, 5938MiB)\n",
      "\n",
      "Fusing layers... \n",
      "YOLOv5m summary: 290 layers, 21172173 parameters, 0 gradients, 48.9 GFLOPs\n",
      "\u001b[34m\u001b[1mval: \u001b[0mScanning /home/dishapant/Desktop/spp/yolov5_benchmarking_optimization/datas\u001b[0m\n",
      "                 Class     Images  Instances          P          R      mAP50   \n",
      "                   all        128        929      0.736      0.694      0.773      0.553\n",
      "Speed: 0.6ms pre-process, 15.1ms inference, 9.0ms NMS per image at shape (32, 3, 640, 640)\n",
      "Results saved to \u001b[1mruns/val/exp64\u001b[0m\n"
     ]
    }
   ],
   "source": [
    "# For YOLOv5m\n",
    "!python val.py --weights yolov5m.pt --data coco128.yaml --img 640 --iou 0.65 --task val"
   ]
  },
  {
   "cell_type": "code",
   "execution_count": 11,
   "metadata": {},
   "outputs": [
    {
     "name": "stdout",
     "output_type": "stream",
     "text": [
      "\u001b[34m\u001b[1mval: \u001b[0mdata=/home/dishapant/Desktop/spp/yolov5_benchmarking_optimization/yolov5/data/coco128.yaml, weights=['yolov5l.pt'], batch_size=32, imgsz=640, conf_thres=0.001, iou_thres=0.65, max_det=300, task=val, device=, workers=8, single_cls=False, augment=False, verbose=False, save_txt=False, save_hybrid=False, save_conf=False, save_json=False, project=runs/val, name=exp, exist_ok=False, half=False, dnn=False\n",
      "YOLOv5 🚀 v7.0-411-gf4d8a84c Python-3.11.11 torch-2.6.0+cu124 CUDA:0 (NVIDIA GeForce RTX 3060 Laptop GPU, 5938MiB)\n",
      "\n",
      "Fusing layers... \n",
      "YOLOv5l summary: 367 layers, 46533693 parameters, 0 gradients, 109.0 GFLOPs\n",
      "\u001b[34m\u001b[1mval: \u001b[0mScanning /home/dishapant/Desktop/spp/yolov5_benchmarking_optimization/datas\u001b[0m\n",
      "                 Class     Images  Instances          P          R      mAP50   \n",
      "                   all        128        929      0.795      0.694      0.811      0.602\n",
      "Speed: 0.5ms pre-process, 21.5ms inference, 9.4ms NMS per image at shape (32, 3, 640, 640)\n",
      "Results saved to \u001b[1mruns/val/exp65\u001b[0m\n"
     ]
    }
   ],
   "source": [
    "# For YOLOv5l\n",
    "!python val.py --weights yolov5l.pt --data coco128.yaml --img 640 --iou 0.65 --task val"
   ]
  },
  {
   "cell_type": "code",
   "execution_count": 12,
   "metadata": {},
   "outputs": [
    {
     "name": "stdout",
     "output_type": "stream",
     "text": [
      "\u001b[34m\u001b[1mval: \u001b[0mdata=/home/dishapant/Desktop/spp/yolov5_benchmarking_optimization/yolov5/data/coco128.yaml, weights=['yolov5x.pt'], batch_size=32, imgsz=640, conf_thres=0.001, iou_thres=0.65, max_det=300, task=val, device=, workers=8, single_cls=False, augment=False, verbose=False, save_txt=False, save_hybrid=False, save_conf=False, save_json=False, project=runs/val, name=exp, exist_ok=False, half=False, dnn=False\n",
      "YOLOv5 🚀 v7.0-411-gf4d8a84c Python-3.11.11 torch-2.6.0+cu124 CUDA:0 (NVIDIA GeForce RTX 3060 Laptop GPU, 5938MiB)\n",
      "\n",
      "Fusing layers... \n",
      "YOLOv5x summary: 444 layers, 86705005 parameters, 0 gradients, 205.5 GFLOPs\n",
      "\u001b[34m\u001b[1mval: \u001b[0mScanning /home/dishapant/Desktop/spp/yolov5_benchmarking_optimization/datas\u001b[0m\n",
      "                 Class     Images  Instances          P          R      mAP50   \n",
      "                   all        128        929      0.773      0.753      0.824       0.63\n",
      "Speed: 0.5ms pre-process, 38.7ms inference, 7.0ms NMS per image at shape (32, 3, 640, 640)\n",
      "Results saved to \u001b[1mruns/val/exp66\u001b[0m\n"
     ]
    }
   ],
   "source": [
    "# For YOLOv5x\n",
    "!python val.py --weights yolov5x.pt --data coco128.yaml --img 640 --iou 0.65 --task val"
   ]
  },
  {
   "cell_type": "markdown",
   "metadata": {},
   "source": [
    "# Roofline Analysis Information"
   ]
  },
  {
   "cell_type": "code",
   "execution_count": 8,
   "metadata": {},
   "outputs": [
    {
     "name": "stdout",
     "output_type": "stream",
     "text": [
      "\n",
      "\n",
      "===========================================================================\n",
      "Model      Params (M)  Size (MB)   GFLOPs   Utilization (%)   Bound Type\n",
      "===========================================================================\n",
      "yolov5n          1.87       7.12     2.23             2.45     Compute Bound\n",
      "yolov5s          7.23      27.56     8.22             8.38     Compute Bound\n",
      "yolov5m         21.17      80.77    24.44            18.53     Compute Bound\n",
      "yolov5l         46.53     177.51    54.50            37.75     Compute Bound\n",
      "yolov5x         86.71     330.75   102.73            60.44     Compute Bound\n",
      "===========================================================================\n"
     ]
    }
   ],
   "source": [
    "print(\"\\n\")\n",
    "print(\"===========================================================================\")\n",
    "print(\"Model      Params (M)  Size (MB)   GFLOPs   Utilization (%)   Bound Type\")\n",
    "print(\"===========================================================================\")\n",
    "\n",
    "for model_name in models.keys():\n",
    "    params_m = params_dict[model_name]\n",
    "    model_size = model_size_dict[model_name]\n",
    "    gflops = gflops_dict[model_name]\n",
    "    utilization = utilization_dict[model_name]\n",
    "    bound_type = bound_type_dict[model_name]\n",
    "\n",
    "    print(f\"{model_name:<10} {params_m:>10.2f}  {model_size:>9.2f}  {gflops:>7.2f}  \"\n",
    "          f\"{utilization:>15.2f}     {bound_type}\")\n",
    "\n",
    "print(\"===========================================================================\")\n"
   ]
  },
  {
   "cell_type": "markdown",
   "metadata": {},
   "source": [
    "# Per-Layer Analysis"
   ]
  },
  {
   "cell_type": "code",
   "execution_count": 9,
   "metadata": {},
   "outputs": [],
   "source": [
    "per_layer_utilization_dict = {}\n",
    "highest_util_layers = {}\n",
    "lowest_util_layers = {}\n",
    "\n",
    "for model_name in models.keys():\n",
    "    model_util = utilization_dict[model_name]\n",
    "    model_total_gflops = gflops_dict[model_name]\n",
    "    per_layer_gflops = per_layer_gflops_dict[model_name]\n",
    "\n",
    "    # Compute per-layer utilization approx.\n",
    "    per_layer_util = {}\n",
    "    for layer, layer_gflops in per_layer_gflops.items():\n",
    "        if layer.strip() == \"\" or layer.strip() in {\"model\", \"model.model\"}:\n",
    "            continue  # Skip root / aggregate layers\n",
    "        layer_util = (layer_gflops / model_total_gflops) * model_util\n",
    "        per_layer_util[layer] = layer_util\n",
    "\n",
    "    per_layer_utilization_dict[model_name] = per_layer_util\n",
    "\n",
    "    # Sort layers\n",
    "    sorted_layers = sorted(per_layer_util.items(), key=lambda x: x[1], reverse=True)\n",
    "\n",
    "    # Save top and bottom 3 layers\n",
    "    highest_util_layers[model_name] = sorted_layers[:3]\n",
    "    lowest_util_layers[model_name] = sorted_layers[-3:]\n"
   ]
  },
  {
   "cell_type": "code",
   "execution_count": 10,
   "metadata": {},
   "outputs": [
    {
     "name": "stdout",
     "output_type": "stream",
     "text": [
      "\n",
      "===================================================================\n",
      "Per-Layer Utilization Summary\n",
      "===================================================================\n",
      "\n",
      "Model: yolov5n\n",
      "Highest Utilization Layers:\n",
      "    model.model.6                           : 0.27%\n",
      "    model.model.6.m                         : 0.22%\n",
      "    model.model.4                           : 0.20%\n",
      "Lowest Utilization Layers:\n",
      "    model.model.23.cv3.act                  : 0.00%\n",
      "    model.model.23.m.0.cv1.act              : 0.00%\n",
      "    model.model.23.m.0.cv2.act              : 0.00%\n",
      "\n",
      "Model: yolov5s\n",
      "Highest Utilization Layers:\n",
      "    model.model.6                           : 1.02%\n",
      "    model.model.6.m                         : 0.80%\n",
      "    model.model.4                           : 0.75%\n",
      "Lowest Utilization Layers:\n",
      "    model.model.23.cv3.act                  : 0.00%\n",
      "    model.model.23.m.0.cv1.act              : 0.00%\n",
      "    model.model.23.m.0.cv2.act              : 0.00%\n",
      "\n",
      "Model: yolov5m\n",
      "Highest Utilization Layers:\n",
      "    model.model.6                           : 3.04%\n",
      "    model.model.6.m                         : 2.68%\n",
      "    model.model.4                           : 2.15%\n",
      "Lowest Utilization Layers:\n",
      "    model.model.23.m.0.cv2.act              : 0.00%\n",
      "    model.model.23.m.1.cv1.act              : 0.00%\n",
      "    model.model.23.m.1.cv2.act              : 0.00%\n",
      "\n",
      "Model: yolov5l\n",
      "Highest Utilization Layers:\n",
      "    model.model.6                           : 7.12%\n",
      "    model.model.6.m                         : 6.54%\n",
      "    model.model.4                           : 4.94%\n",
      "Lowest Utilization Layers:\n",
      "    model.model.23.m.1.cv2.act              : 0.00%\n",
      "    model.model.23.m.2.cv1.act              : 0.00%\n",
      "    model.model.23.m.2.cv2.act              : 0.00%\n",
      "\n",
      "Model: yolov5x\n",
      "Highest Utilization Layers:\n",
      "    model.model.6                           : 12.34%\n",
      "    model.model.6.m                         : 11.57%\n",
      "    model.model.4                           : 8.48%\n",
      "Lowest Utilization Layers:\n",
      "    model.model.23.m.2.cv2.act              : 0.00%\n",
      "    model.model.23.m.3.cv1.act              : 0.00%\n",
      "    model.model.23.m.3.cv2.act              : 0.00%\n",
      "===================================================================\n"
     ]
    }
   ],
   "source": [
    "print(\"\\n===================================================================\")\n",
    "print(\"Per-Layer Utilization Summary\")\n",
    "print(\"===================================================================\")\n",
    "\n",
    "for model_name in models.keys():\n",
    "    print(f\"\\nModel: {model_name}\")\n",
    "\n",
    "    print(\"Highest Utilization Layers:\")\n",
    "    for layer, util in highest_util_layers[model_name]:\n",
    "        print(f\"    {layer:<40}: {util:.2f}%\")\n",
    "\n",
    "    print(\"Lowest Utilization Layers:\")\n",
    "    for layer, util in lowest_util_layers[model_name]:\n",
    "        print(f\"    {layer:<40}: {util:.2f}%\")\n",
    "print(\"===================================================================\")"
   ]
  },
  {
   "cell_type": "markdown",
   "metadata": {},
   "source": [
    "# cProfile Profiling results"
   ]
  },
  {
   "cell_type": "code",
   "execution_count": 11,
   "metadata": {},
   "outputs": [
    {
     "name": "stdout",
     "output_type": "stream",
     "text": [
      "\n",
      "=== cProfile for yolov5n ===\n",
      "         20561937 function calls (15444536 primitive calls) in 17.696 seconds\n",
      "\n",
      "   Ordered by: internal time\n",
      "   List reduced from 562 to 15 due to restriction <15>\n",
      "\n",
      "   ncalls  tottime  percall  cumtime  percall filename:lineno(function)\n",
      "        1    2.701    2.701    8.433    8.433 profiler.py:525(_parse_kineto_results)\n",
      "1271681/431731    1.651    0.000    2.756    0.000 profiler_util.py:576(device_time_total)\n",
      "        1    1.346    1.346    1.346    1.346 {built-in method torch._C._autograd._disable_profiler}\n",
      "   163843    1.113    0.000    1.143    0.000 profiler_util.py:446(__init__)\n",
      "2988734/1099544    0.851    0.000    2.761    0.000 {built-in method builtins.sum}\n",
      "    71055    0.598    0.000    0.637    0.000 profiler.py:537(_cpu_memory_usage)\n",
      "   163543    0.463    0.000    4.711    0.000 profiler_util.py:674(add)\n",
      "     6000    0.407    0.000    0.407    0.000 {built-in method torch.conv2d}\n",
      "        3    0.404    0.135    0.404    0.135 {built-in method torch._C._autograd.events}\n",
      "   150609    0.389    0.000    0.391    0.000 {built-in method torch._C._autograd.concrete_inputs}\n",
      "   163543    0.388    0.000    0.426    0.000 profiler_util.py:317(get_key)\n",
      "   863296    0.349    0.000    0.349    0.000 {built-in method torch._C._autograd.name}\n",
      "   405631    0.348    0.000    0.420    0.000 profiler_util.py:561(cpu_time_total)\n",
      "2059431/671228    0.315    0.000    1.914    0.000 profiler_util.py:583(<genexpr>)\n",
      "   443328    0.301    0.000    0.301    0.000 {built-in method torch._C._autograd.device_type}\n",
      "\n",
      "\n",
      "\n",
      "\n",
      "========================================\n",
      "\n",
      "=== cProfile for yolov5s ===\n",
      "         21033337 function calls (15778213 primitive calls) in 19.748 seconds\n",
      "\n",
      "   Ordered by: internal time\n",
      "   List reduced from 387 to 15 due to restriction <15>\n",
      "\n",
      "   ncalls  tottime  percall  cumtime  percall filename:lineno(function)\n",
      "        1    3.163    3.163   10.143   10.143 profiler.py:525(_parse_kineto_results)\n",
      "1304762/441782    1.739    0.000    2.823    0.000 profiler_util.py:576(device_time_total)\n",
      "   154602    1.575    0.000    1.578    0.000 {built-in method torch._C._autograd.shapes}\n",
      "        1    1.263    1.263    1.263    1.263 {built-in method torch._C._autograd._disable_profiler}\n",
      "3055632/1116216    0.822    0.000    2.807    0.000 {built-in method builtins.sum}\n",
      "   167827    0.773    0.000    0.804    0.000 profiler_util.py:446(__init__)\n",
      "   154602    0.567    0.000    0.569    0.000 {built-in method torch._C._autograd.concrete_inputs}\n",
      "   167527    0.459    0.000    4.835    0.000 profiler_util.py:674(add)\n",
      "     6000    0.450    0.000    0.450    0.000 {built-in method torch.conv2d}\n",
      "        3    0.438    0.146    0.438    0.146 {built-in method torch._C._autograd.events}\n",
      "   167527    0.404    0.000    0.450    0.000 profiler_util.py:317(get_key)\n",
      "   883252    0.395    0.000    0.395    0.000 {built-in method torch._C._autograd.name}\n",
      "   413782    0.377    0.000    0.448    0.000 profiler_util.py:561(cpu_time_total)\n",
      "2111742/683740    0.317    0.000    1.960    0.000 profiler_util.py:583(<genexpr>)\n",
      "1316580/335054    0.315    0.000    0.315    0.000 profiler_util.py:139(bw_parent)\n",
      "\n",
      "\n",
      "\n",
      "\n",
      "========================================\n",
      "\n",
      "=== cProfile for yolov5m ===\n",
      "         29109833 function calls (21624274 primitive calls) in 26.894 seconds\n",
      "\n",
      "   Ordered by: internal time\n",
      "   List reduced from 387 to 15 due to restriction <15>\n",
      "\n",
      "   ncalls  tottime  percall  cumtime  percall filename:lineno(function)\n",
      "        1    4.010    4.010   14.030   14.030 profiler.py:525(_parse_kineto_results)\n",
      "1837845/603854    2.409    0.000    3.927    0.000 profiler_util.py:576(device_time_total)\n",
      "        1    1.779    1.779    1.817    1.817 profiler_util.py:737(__init__)\n",
      "        1    1.752    1.752    1.752    1.752 {built-in method torch._C._autograd._disable_profiler}\n",
      "   228417    1.453    0.000    1.493    0.000 profiler_util.py:446(__init__)\n",
      "4270558/1507336    1.144    0.000    3.909    0.000 {built-in method builtins.sum}\n",
      "   228417    0.809    0.000    0.811    0.000 profiler.py:697(<lambda>)\n",
      "   424608    0.790    0.000    1.243    0.000 profiler_util.py:791(_rewrite_name)\n",
      "     8200    0.637    0.000    0.637    0.000 {built-in method torch.conv2d}\n",
      "   228117    0.625    0.000    6.651    0.000 profiler_util.py:674(add)\n",
      "        3    0.611    0.204    0.611    0.204 {built-in method torch._C._autograd.events}\n",
      "   228117    0.557    0.000    0.610    0.000 profiler_util.py:317(get_key)\n",
      "  1212450    0.520    0.000    0.520    0.000 {built-in method torch._C._autograd.name}\n",
      "   564154    0.506    0.000    0.602    0.000 profiler_util.py:561(cpu_time_total)\n",
      "   110655    0.459    0.000    0.529    0.000 profiler.py:537(_cpu_memory_usage)\n",
      "\n",
      "\n",
      "\n",
      "\n",
      "========================================\n",
      "\n",
      "=== cProfile for yolov5l ===\n",
      "         36070075 function calls (26678365 primitive calls) in 32.669 seconds\n",
      "\n",
      "   Ordered by: internal time\n",
      "   List reduced from 387 to 15 due to restriction <15>\n",
      "\n",
      "   ncalls  tottime  percall  cumtime  percall filename:lineno(function)\n",
      "        1    4.354    4.354   16.683   16.683 profiler.py:525(_parse_kineto_results)\n",
      "2296442/746395    2.986    0.000    4.865    0.000 profiler_util.py:576(device_time_total)\n",
      "   281731    2.874    0.000    2.925    0.000 profiler_util.py:446(__init__)\n",
      "        1    2.134    2.134    2.134    2.134 {built-in method torch._C._autograd._disable_profiler}\n",
      "5325808/1858648    1.405    0.000    4.843    0.000 {built-in method builtins.sum}\n",
      "    49107    0.917    0.000    0.934    0.000 profiler_util.py:508(append_kernel)\n",
      "   315645    0.805    0.000    0.806    0.000 profiler_util.py:772(_filter_name)\n",
      "        3    0.789    0.263    0.789    0.263 {built-in method torch._C._autograd.events}\n",
      "   281431    0.740    0.000    8.149    0.000 profiler_util.py:674(add)\n",
      "   262706    0.722    0.000    0.725    0.000 {built-in method torch._C._autograd.concrete_inputs}\n",
      "    10400    0.715    0.000    0.715    0.000 {built-in method torch.conv2d}\n",
      "   525412    0.682    0.000    1.244    0.000 profiler_util.py:791(_rewrite_name)\n",
      "   281431    0.660    0.000    0.728    0.000 profiler_util.py:317(get_key)\n",
      "  1491372    0.635    0.000    0.635    0.000 {built-in method torch._C._autograd.name}\n",
      "   697295    0.619    0.000    0.736    0.000 profiler_util.py:561(cpu_time_total)\n",
      "\n",
      "\n",
      "\n",
      "\n",
      "========================================\n",
      "\n",
      "=== cProfile for yolov5x ===\n",
      "         42977761 function calls (31694781 primitive calls) in 42.664 seconds\n",
      "\n",
      "   Ordered by: internal time\n",
      "   List reduced from 387 to 15 due to restriction <15>\n",
      "\n",
      "   ncalls  tottime  percall  cumtime  percall filename:lineno(function)\n",
      "        1    6.868    6.868   20.612   20.612 profiler.py:525(_parse_kineto_results)\n",
      "   333942    4.319    0.000    4.381    0.000 profiler_util.py:446(__init__)\n",
      "2750382/886528    3.647    0.000    5.939    0.000 profiler_util.py:576(device_time_total)\n",
      "        1    2.540    2.540    2.540    2.540 {built-in method torch._C._autograd._disable_profiler}\n",
      "      200    2.213    0.011    2.213    0.011 {method 'to' of 'torch._C.TensorBase' objects}\n",
      "6374532/2208336    1.716    0.000    5.925    0.000 {built-in method builtins.sum}\n",
      "   276342    1.344    0.000    1.347    0.000 profiler_util.py:115(<lambda>)\n",
      "        3    1.035    0.345    1.035    0.345 {built-in method torch._C._autograd.events}\n",
      "   158657    0.981    0.000    1.080    0.000 profiler.py:537(_cpu_memory_usage)\n",
      "   333642    0.917    0.000    9.977    0.000 profiler_util.py:674(add)\n",
      "    12600    0.853    0.000    0.853    0.000 {built-in method torch.conv2d}\n",
      "   312008    0.837    0.000    0.840    0.000 {built-in method torch._C._autograd.shapes}\n",
      "   333642    0.822    0.000    0.905    0.000 profiler_util.py:317(get_key)\n",
      "   828928    0.753    0.000    0.897    0.000 profiler_util.py:561(cpu_time_total)\n",
      "  1768991    0.750    0.000    0.750    0.000 {built-in method torch._C._autograd.name}\n",
      "\n",
      "\n",
      "\n",
      "\n",
      "========================================\n"
     ]
    }
   ],
   "source": [
    "for model_name, stats in profile_outputs.items():\n",
    "    print(f\"\\n=== cProfile for {model_name} ===\")\n",
    "    print(stats)\n",
    "    print(\"\\n========================================\")"
   ]
  },
  {
   "cell_type": "markdown",
   "metadata": {},
   "source": [
    "# Pytorch Profiler Results"
   ]
  },
  {
   "cell_type": "code",
   "execution_count": 12,
   "metadata": {},
   "outputs": [
    {
     "name": "stdout",
     "output_type": "stream",
     "text": [
      "Profiler for yolov5n:\n",
      "\n",
      "-------------------------------------------------------  ------------  ------------  ------------  ------------  ------------  ------------  ------------  ------------  ------------  ------------  ------------  ------------  ------------  ------------  \n",
      "                                                   Name    Self CPU %      Self CPU   CPU total %     CPU total  CPU time avg     Self CUDA   Self CUDA %    CUDA total  CUDA time avg       CPU Mem  Self CPU Mem      CUDA Mem  Self CUDA Mem    # of Calls  \n",
      "-------------------------------------------------------  ------------  ------------  ------------  ------------  ------------  ------------  ------------  ------------  ------------  ------------  ------------  ------------  ------------  ------------  \n",
      "                                           aten::conv2d         1.84%      12.992ms        52.13%     367.567ms      61.261us       0.000us         0.00%     172.361ms      28.727us           0 b           0 b       5.28 Gb           0 b          6000  \n",
      "                                      aten::convolution         2.85%      20.093ms        50.29%     354.575ms      59.096us       0.000us         0.00%     172.361ms      28.727us           0 b           0 b       5.28 Gb           0 b          6000  \n",
      "                                     aten::_convolution         6.01%      42.387ms        47.44%     334.483ms      55.747us       0.000us         0.00%     172.361ms      28.727us           0 b           0 b       5.28 Gb           0 b          6000  \n",
      "                                aten::cudnn_convolution        20.81%     146.739ms        29.96%     211.234ms      35.206us     136.115ms        47.83%     136.131ms      22.688us           0 b           0 b       5.28 Gb       5.28 Gb          6000  \n",
      "                                            aten::copy_         4.36%      30.769ms        11.98%      84.455ms     120.650us      47.957ms        16.85%      47.957ms      68.509us           0 b           0 b           0 b           0 b           700  \n",
      "                                               aten::to         0.11%     784.318us         9.87%      69.631ms     116.051us       0.000us         0.00%      40.390ms      67.316us     326.78 Mb           0 b     498.96 Mb           0 b           600  \n",
      "                                         aten::_to_copy         0.26%       1.826ms         9.76%      68.846ms     229.488us       0.000us         0.00%      40.390ms     134.633us     326.78 Mb           0 b     498.96 Mb           0 b           300  \n",
      "                       Memcpy HtoD (Pageable -> Device)         0.00%       0.000us         0.00%       0.000us       0.000us      40.390ms        14.19%      40.390ms     403.898us           0 b           0 b           0 b           0 b           100  \n",
      "                                             aten::add_         5.67%      39.980ms         9.63%      67.939ms      11.323us      36.230ms        12.73%      36.230ms       6.038us           0 b           0 b           0 b           0 b          6000  \n",
      "void at::native::elementwise_kernel<128, 2, at::nati...         0.00%       0.000us         0.00%       0.000us       0.000us      36.230ms        12.73%      36.230ms       6.038us           0 b           0 b           0 b           0 b          6000  \n",
      "-------------------------------------------------------  ------------  ------------  ------------  ------------  ------------  ------------  ------------  ------------  ------------  ------------  ------------  ------------  ------------  ------------  \n",
      "Self CPU time total: 705.131ms\n",
      "Self CUDA time total: 284.567ms\n",
      "\n",
      "--------------------------------------------------------------------------------\n",
      "Profiler for yolov5s:\n",
      "\n",
      "-------------------------------------------------------  ------------  ------------  ------------  ------------  ------------  ------------  ------------  ------------  ------------  ------------  ------------  ------------  ------------  ------------  \n",
      "                                                   Name    Self CPU %      Self CPU   CPU total %     CPU total  CPU time avg     Self CUDA   Self CUDA %    CUDA total  CUDA time avg       CPU Mem  Self CPU Mem      CUDA Mem  Self CUDA Mem    # of Calls  \n",
      "-------------------------------------------------------  ------------  ------------  ------------  ------------  ------------  ------------  ------------  ------------  ------------  ------------  ------------  ------------  ------------  ------------  \n",
      "                                           aten::conv2d         1.88%      14.800ms        51.80%     408.162ms      68.027us       0.000us         0.00%     350.541ms      58.423us           0 b           0 b      10.42 Gb           0 b          6000  \n",
      "                                      aten::convolution         2.80%      22.078ms        49.92%     393.362ms      65.560us       0.000us         0.00%     350.541ms      58.423us           0 b           0 b      10.42 Gb           0 b          6000  \n",
      "                                     aten::_convolution         5.85%      46.132ms        47.12%     371.284ms      61.881us       0.000us         0.00%     350.541ms      58.423us           0 b           0 b      10.42 Gb           0 b          6000  \n",
      "                                aten::cudnn_convolution        20.84%     164.210ms        30.41%     239.588ms      39.931us     290.656ms        57.92%     290.656ms      48.443us           0 b           0 b      10.42 Gb      10.42 Gb          6000  \n",
      "void at::native::elementwise_kernel<128, 2, at::nati...         0.00%       0.000us         0.00%       0.000us       0.000us      59.847ms        11.93%      59.847ms       9.974us           0 b           0 b           0 b           0 b          6000  \n",
      "                                             aten::add_         5.31%      41.860ms         9.09%      71.615ms      11.936us      59.843ms        11.93%      59.843ms       9.974us           0 b           0 b           0 b           0 b          6000  \n",
      "                                            aten::copy_         4.07%      32.067ms        11.19%      88.197ms     125.995us      47.661ms         9.50%      47.661ms      68.087us           0 b           0 b           0 b           0 b           700  \n",
      "                                            aten::silu_         3.68%      29.035ms         6.98%      55.015ms       9.652us      44.953ms         8.96%      44.953ms       7.887us           0 b           0 b           0 b           0 b          5700  \n",
      "void at::native::vectorized_elementwise_kernel<4, at...         0.00%       0.000us         0.00%       0.000us       0.000us      44.953ms         8.96%      44.953ms       7.887us           0 b           0 b           0 b           0 b          5700  \n",
      "                                               aten::to         0.11%     905.739us         9.42%      74.243ms     123.739us       0.000us         0.00%      40.374ms      67.290us     326.78 Mb           0 b     474.13 Mb           0 b           600  \n",
      "-------------------------------------------------------  ------------  ------------  ------------  ------------  ------------  ------------  ------------  ------------  ------------  ------------  ------------  ------------  ------------  ------------  \n",
      "Self CPU time total: 787.976ms\n",
      "Self CUDA time total: 501.781ms\n",
      "\n",
      "--------------------------------------------------------------------------------\n",
      "Profiler for yolov5m:\n",
      "\n",
      "-------------------------------------------------------  ------------  ------------  ------------  ------------  ------------  ------------  ------------  ------------  ------------  ------------  ------------  ------------  ------------  ------------  \n",
      "                                                   Name    Self CPU %      Self CPU   CPU total %     CPU total  CPU time avg     Self CUDA   Self CUDA %    CUDA total  CUDA time avg       CPU Mem  Self CPU Mem      CUDA Mem  Self CUDA Mem    # of Calls  \n",
      "-------------------------------------------------------  ------------  ------------  ------------  ------------  ------------  ------------  ------------  ------------  ------------  ------------  ------------  ------------  ------------  ------------  \n",
      "                                           aten::conv2d         2.09%      20.270ms        59.38%     577.073ms      70.375us       0.000us         0.00%     911.225ms     111.125us           0 b           0 b      19.44 Gb           0 b          8200  \n",
      "                                      aten::convolution         3.12%      30.291ms        57.29%     556.803ms      67.903us       0.000us         0.00%     911.225ms     111.125us           0 b           0 b      19.44 Gb           0 b          8200  \n",
      "                                     aten::_convolution         6.61%      64.256ms        54.18%     526.513ms      64.209us       0.000us         0.00%     911.225ms     111.125us           0 b           0 b      19.44 Gb           0 b          8200  \n",
      "                                aten::cudnn_convolution        24.17%     234.870ms        35.68%     346.763ms      42.288us     806.256ms        71.41%     806.771ms      98.387us           0 b           0 b      19.44 Gb      19.43 Gb          8200  \n",
      "sm86_xmma_fprop_implicit_gemm_tf32f32_tf32f32_f32_nh...         0.00%       0.000us         0.00%       0.000us       0.000us     141.416ms        12.53%     141.416ms     141.416us           0 b           0 b           0 b           0 b          1000  \n",
      "                                             aten::add_         5.94%      57.751ms         9.91%      96.272ms      11.740us     104.454ms         9.25%     104.454ms      12.738us           0 b           0 b           0 b           0 b          8200  \n",
      "void at::native::elementwise_kernel<128, 2, at::nati...         0.00%       0.000us         0.00%       0.000us       0.000us     104.454ms         9.25%     104.454ms      12.738us           0 b           0 b           0 b           0 b          8200  \n",
      "void cutlass__5x_cudnn::Kernel<cutlass_tensorop_s168...         0.00%       0.000us         0.00%       0.000us       0.000us      98.568ms         8.73%      98.568ms     140.812us           0 b           0 b           0 b           0 b           700  \n",
      "void cudnn::engines_precompiled::nchwToNhwcKernel<fl...         0.00%       0.000us         0.00%       0.000us       0.000us      95.389ms         8.45%      95.389ms      17.034us           0 b           0 b           0 b           0 b          5600  \n",
      "void cutlass::Kernel2<cutlass_80_tensorop_s1688gemm_...         0.00%       0.000us         0.00%       0.000us       0.000us      93.271ms         8.26%      93.271ms      32.162us           0 b           0 b           0 b           0 b          2900  \n",
      "-------------------------------------------------------  ------------  ------------  ------------  ------------  ------------  ------------  ------------  ------------  ------------  ------------  ------------  ------------  ------------  ------------  \n",
      "Self CPU time total: 971.847ms\n",
      "Self CUDA time total: 1.129s\n",
      "\n",
      "--------------------------------------------------------------------------------\n",
      "Profiler for yolov5l:\n",
      "\n",
      "-------------------------------------------------------  ------------  ------------  ------------  ------------  ------------  ------------  ------------  ------------  ------------  ------------  ------------  ------------  ------------  ------------  \n",
      "                                                   Name    Self CPU %      Self CPU   CPU total %     CPU total  CPU time avg     Self CUDA   Self CUDA %    CUDA total  CUDA time avg       CPU Mem  Self CPU Mem      CUDA Mem  Self CUDA Mem    # of Calls  \n",
      "-------------------------------------------------------  ------------  ------------  ------------  ------------  ------------  ------------  ------------  ------------  ------------  ------------  ------------  ------------  ------------  ------------  \n",
      "                                           aten::conv2d         1.52%      22.420ms        43.87%     647.018ms      62.213us       0.000us         0.00%        1.727s     166.070us           0 b           0 b      30.42 Gb           0 b         10400  \n",
      "                                      aten::convolution         2.29%      33.769ms        42.35%     624.598ms      60.058us       0.000us         0.00%        1.727s     166.070us           0 b           0 b      30.42 Gb           0 b         10400  \n",
      "                                     aten::_convolution         5.03%      74.158ms        40.06%     590.829ms      56.810us       0.000us         0.00%        1.727s     166.070us           0 b           0 b      30.42 Gb       7.63 Mb         10400  \n",
      "                                aten::cudnn_convolution        17.30%     255.204ms        25.78%     380.241ms      36.562us        1.551s        75.33%        1.551s     149.127us           0 b           0 b      30.42 Gb      30.42 Gb         10400  \n",
      "sm86_xmma_fprop_implicit_gemm_tf32f32_tf32f32_f32_nh...         0.00%       0.000us         0.00%       0.000us       0.000us     355.505ms        17.27%     355.505ms     222.190us           0 b           0 b           0 b           0 b          1600  \n",
      "sm86_xmma_fprop_implicit_gemm_indexed_tf32f32_tf32f3...         0.00%       0.000us         0.00%       0.000us       0.000us     270.377ms        13.13%     270.377ms     337.971us           0 b           0 b           0 b           0 b           800  \n",
      "void cudnn::engines_precompiled::nchwToNhwcKernel<fl...         0.00%       0.000us         0.00%       0.000us       0.000us     193.262ms         9.39%     193.262ms      24.777us           0 b           0 b           0 b           0 b          7800  \n",
      "sm86_xmma_fprop_implicit_gemm_tf32f32_tf32f32_f32_nh...         0.00%       0.000us         0.00%       0.000us       0.000us     183.965ms         8.94%     183.965ms     204.406us           0 b           0 b           0 b           0 b           900  \n",
      "                                             aten::add_         4.63%      68.221ms         7.74%     114.184ms      10.979us     175.640ms         8.53%     175.645ms      16.889us           0 b           0 b           0 b           0 b         10400  \n",
      "void at::native::elementwise_kernel<128, 2, at::nati...         0.00%       0.000us         0.00%       0.000us       0.000us     175.640ms         8.53%     175.640ms      16.888us           0 b           0 b           0 b           0 b         10400  \n",
      "-------------------------------------------------------  ------------  ------------  ------------  ------------  ------------  ------------  ------------  ------------  ------------  ------------  ------------  ------------  ------------  ------------  \n",
      "Self CPU time total: 1.475s\n",
      "Self CUDA time total: 2.059s\n",
      "\n",
      "--------------------------------------------------------------------------------\n",
      "Profiler for yolov5x:\n",
      "\n",
      "-------------------------------------------------------  ------------  ------------  ------------  ------------  ------------  ------------  ------------  ------------  ------------  ------------  ------------  ------------  ------------  ------------  \n",
      "                                                   Name    Self CPU %      Self CPU   CPU total %     CPU total  CPU time avg     Self CUDA   Self CUDA %    CUDA total  CUDA time avg       CPU Mem  Self CPU Mem      CUDA Mem  Self CUDA Mem    # of Calls  \n",
      "-------------------------------------------------------  ------------  ------------  ------------  ------------  ------------  ------------  ------------  ------------  ------------  ------------  ------------  ------------  ------------  ------------  \n",
      "                                           aten::conv2d         0.81%      27.231ms        22.87%     768.422ms      60.986us       0.000us         0.00%        3.511s     278.613us           0 b           0 b      43.29 Gb           0 b         12600  \n",
      "                                      aten::convolution         1.22%      40.954ms        22.06%     741.191ms      58.825us       0.000us         0.00%        3.511s     278.613us           0 b           0 b      43.29 Gb           0 b         12600  \n",
      "                                     aten::_convolution         2.63%      88.424ms        20.84%     700.237ms      55.574us       0.000us         0.00%        3.511s     278.613us           0 b           0 b      43.29 Gb       3.00 Kb         12600  \n",
      "                                aten::cudnn_convolution         9.07%     304.664ms        13.37%     449.188ms      35.650us        3.241s        81.52%        3.241s     257.262us           0 b           0 b      43.29 Gb      43.29 Gb         12600  \n",
      "sm86_xmma_fprop_implicit_gemm_tf32f32_tf32f32_f32_nh...         0.00%       0.000us         0.00%       0.000us       0.000us     815.468ms        20.51%     815.468ms     388.318us           0 b           0 b           0 b           0 b          2100  \n",
      "sm86_xmma_fprop_implicit_gemm_tf32f32_tf32f32_f32_nh...         0.00%       0.000us         0.00%       0.000us       0.000us     581.689ms        14.63%     581.689ms     484.741us           0 b           0 b           0 b           0 b          1200  \n",
      "void cudnn::engines_precompiled::nchwToNhwcKernel<fl...         0.00%       0.000us         0.00%       0.000us       0.000us     334.276ms         8.41%     334.276ms      33.428us           0 b           0 b           0 b           0 b         10000  \n",
      "void cutlass__5x_cudnn::Kernel<cutlass_tensorop_s168...         0.00%       0.000us         0.00%       0.000us       0.000us     328.423ms         8.26%     328.423ms     364.915us           0 b           0 b           0 b           0 b           900  \n",
      "                                             aten::add_         2.43%      81.735ms         4.05%     136.096ms      10.801us     268.864ms         6.76%     268.890ms      21.340us           0 b           0 b           0 b           0 b         12600  \n",
      "void at::native::elementwise_kernel<128, 2, at::nati...         0.00%       0.000us         0.00%       0.000us       0.000us     268.864ms         6.76%     268.864ms      21.338us           0 b           0 b           0 b           0 b         12600  \n",
      "-------------------------------------------------------  ------------  ------------  ------------  ------------  ------------  ------------  ------------  ------------  ------------  ------------  ------------  ------------  ------------  ------------  \n",
      "Self CPU time total: 3.359s\n",
      "Self CUDA time total: 3.976s\n",
      "\n",
      "--------------------------------------------------------------------------------\n"
     ]
    }
   ],
   "source": [
    "for model_name, prof_table in profiler_tables.items():\n",
    "    print(f\"Profiler for {model_name}:\\n\")\n",
    "    print(prof_table)\n",
    "    print(\"-\" * 80)\n",
    "\n"
   ]
  },
  {
   "cell_type": "markdown",
   "metadata": {},
   "source": [
    "# Optimizations"
   ]
  },
  {
   "cell_type": "markdown",
   "metadata": {},
   "source": [
    "## Mixed Precision"
   ]
  },
  {
   "cell_type": "code",
   "execution_count": 13,
   "metadata": {},
   "outputs": [
    {
     "name": "stdout",
     "output_type": "stream",
     "text": [
      "\n",
      "--- Running yolov5n in Mixed Precision (FP16) ---\n"
     ]
    },
    {
     "name": "stderr",
     "output_type": "stream",
     "text": [
      "Unsupported operator aten::silu_ encountered 57 time(s)\n",
      "Unsupported operator aten::add encountered 10 time(s)\n",
      "Unsupported operator aten::max_pool2d encountered 3 time(s)\n",
      "Unsupported operator aten::mul encountered 22 time(s)\n",
      "Unsupported operator aten::sigmoid encountered 3 time(s)\n",
      "Unsupported operator aten::pow encountered 3 time(s)\n"
     ]
    },
    {
     "name": "stdout",
     "output_type": "stream",
     "text": [
      "Latency (ms): 6.16\n",
      "FPS: 162.32\n",
      "GFLOPs: 2.23\n",
      "Utilization: 3.32%\n",
      "Operational Intensity: 201.18\n",
      "Bound Type: Compute Bound\n",
      "\n",
      "--- Running yolov5s in Mixed Precision (FP16) ---\n"
     ]
    },
    {
     "name": "stderr",
     "output_type": "stream",
     "text": [
      "Unsupported operator aten::silu_ encountered 57 time(s)\n",
      "Unsupported operator aten::add encountered 10 time(s)\n",
      "Unsupported operator aten::max_pool2d encountered 3 time(s)\n",
      "Unsupported operator aten::mul encountered 22 time(s)\n",
      "Unsupported operator aten::sigmoid encountered 3 time(s)\n",
      "Unsupported operator aten::pow encountered 3 time(s)\n"
     ]
    },
    {
     "name": "stdout",
     "output_type": "stream",
     "text": [
      "Latency (ms): 6.38\n",
      "FPS: 156.71\n",
      "GFLOPs: 8.22\n",
      "Utilization: 11.77%\n",
      "Operational Intensity: 376.55\n",
      "Bound Type: Compute Bound\n",
      "\n",
      "--- Running yolov5m in Mixed Precision (FP16) ---\n"
     ]
    },
    {
     "name": "stderr",
     "output_type": "stream",
     "text": [
      "Unsupported operator aten::silu_ encountered 79 time(s)\n",
      "Unsupported operator aten::add encountered 17 time(s)\n",
      "Unsupported operator aten::max_pool2d encountered 3 time(s)\n",
      "Unsupported operator aten::mul encountered 22 time(s)\n",
      "Unsupported operator aten::sigmoid encountered 3 time(s)\n",
      "Unsupported operator aten::pow encountered 3 time(s)\n"
     ]
    },
    {
     "name": "stdout",
     "output_type": "stream",
     "text": [
      "Latency (ms): 8.18\n",
      "FPS: 122.24\n",
      "GFLOPs: 24.44\n",
      "Utilization: 27.31%\n",
      "Operational Intensity: 491.54\n",
      "Bound Type: Compute Bound\n",
      "\n",
      "--- Running yolov5l in Mixed Precision (FP16) ---\n"
     ]
    },
    {
     "name": "stderr",
     "output_type": "stream",
     "text": [
      "Unsupported operator aten::silu_ encountered 101 time(s)\n",
      "Unsupported operator aten::add encountered 24 time(s)\n",
      "Unsupported operator aten::max_pool2d encountered 3 time(s)\n",
      "Unsupported operator aten::mul encountered 22 time(s)\n",
      "Unsupported operator aten::sigmoid encountered 3 time(s)\n",
      "Unsupported operator aten::pow encountered 3 time(s)\n"
     ]
    },
    {
     "name": "stdout",
     "output_type": "stream",
     "text": [
      "Latency (ms): 9.32\n",
      "FPS: 107.33\n",
      "GFLOPs: 54.50\n",
      "Utilization: 53.47%\n",
      "Operational Intensity: 542.60\n",
      "Bound Type: Compute Bound\n",
      "\n",
      "--- Running yolov5x in Mixed Precision (FP16) ---\n"
     ]
    },
    {
     "name": "stderr",
     "output_type": "stream",
     "text": [
      "Unsupported operator aten::silu_ encountered 123 time(s)\n",
      "Unsupported operator aten::add encountered 31 time(s)\n",
      "Unsupported operator aten::max_pool2d encountered 3 time(s)\n",
      "Unsupported operator aten::mul encountered 22 time(s)\n",
      "Unsupported operator aten::sigmoid encountered 3 time(s)\n",
      "Unsupported operator aten::pow encountered 3 time(s)\n"
     ]
    },
    {
     "name": "stdout",
     "output_type": "stream",
     "text": [
      "Latency (ms): 11.60\n",
      "FPS: 86.23\n",
      "GFLOPs: 102.73\n",
      "Utilization: 80.97%\n",
      "Operational Intensity: 568.24\n",
      "Bound Type: Compute Bound\n"
     ]
    }
   ],
   "source": [
    "for model_name, model in models.items():\n",
    "    print(f\"\\n--- Running {model_name} in Mixed Precision (FP16) ---\")\n",
    "\n",
    "    model = model.to(device).eval().half()  # Mixed precision\n",
    "    dummy = torch.randn(1, 3, 640, 640).half().to(device)\n",
    "\n",
    "    # Warm-up\n",
    "    for _ in range(3):\n",
    "        with torch.no_grad():\n",
    "            _ = model(dummy)\n",
    "\n",
    "    total_time = 0\n",
    "    for img_path in image_files:\n",
    "        img = Image.open(img_path).convert('RGB')\n",
    "        img = transform(img).unsqueeze(0).half().to(device)  # FP16 input\n",
    "        with torch.no_grad():\n",
    "            start = time.time()\n",
    "            _ = model(img)\n",
    "            end = time.time()\n",
    "        total_time += (end - start)\n",
    "\n",
    "    avg_latency = (total_time / len(image_files)) * 1000  # in ms\n",
    "    avg_fps = len(image_files) / total_time\n",
    "\n",
    "    # Model summary\n",
    "    info = summary(\n",
    "        model,\n",
    "        input_size=(1, 3, 640, 640),\n",
    "        dtypes=[torch.half],\n",
    "        device=device,\n",
    "        verbose=0\n",
    "    )\n",
    "\n",
    "    total_params = info.total_params\n",
    "    params_m = total_params / 1e6\n",
    "    model_size_mb = total_params * 4 / (1024 ** 2)\n",
    "\n",
    "    # FLOPs\n",
    "    input_tensor = torch.randn(1, 3, 640, 640).half().to(device)\n",
    "    flops = FlopCountAnalysis(model, input_tensor)\n",
    "    total_flops = flops.total()\n",
    "    gflops = total_flops / 1e9\n",
    "\n",
    "    # Utilization\n",
    "    actual_gflops_per_second = gflops / (avg_latency / 1000)\n",
    "    utilization = (actual_gflops_per_second / PEAK_GFLOPS) * 100\n",
    "\n",
    "    # OI\n",
    "    input_size_bytes = 3 * 640 * 640 * 2  # FP16 = 2 bytes\n",
    "    activation_estimate = input_size_bytes * 3\n",
    "    memory_accessed = total_params * 2 + activation_estimate  # FP16 weights = 2 bytes\n",
    "    oi = total_flops / memory_accessed\n",
    "    peak_oi = PEAK_GFLOPS / PEAK_BANDWIDTH\n",
    "    bound_type = \"Compute Bound\" if oi > peak_oi else \"Memory Bound\"\n",
    "\n",
    "    # Print results\n",
    "    print(f\"Latency (ms): {avg_latency:.2f}\")\n",
    "    print(f\"FPS: {avg_fps:.2f}\")\n",
    "    print(f\"GFLOPs: {gflops:.2f}\")\n",
    "    print(f\"Utilization: {utilization:.2f}%\")\n",
    "    print(f\"Operational Intensity: {oi:.2f}\")\n",
    "    print(f\"Bound Type: {bound_type}\")\n"
   ]
  }
 ],
 "metadata": {
  "kernelspec": {
   "display_name": "yolo-benchmark",
   "language": "python",
   "name": "python3"
  },
  "language_info": {
   "codemirror_mode": {
    "name": "ipython",
    "version": 3
   },
   "file_extension": ".py",
   "mimetype": "text/x-python",
   "name": "python",
   "nbconvert_exporter": "python",
   "pygments_lexer": "ipython3",
   "version": "3.11.11"
  }
 },
 "nbformat": 4,
 "nbformat_minor": 2
}
