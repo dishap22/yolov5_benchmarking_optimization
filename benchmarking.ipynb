{
 "cells": [
  {
   "cell_type": "markdown",
   "metadata": {},
   "source": [
    "# Import requirements"
   ]
  },
  {
   "cell_type": "code",
   "execution_count": 43,
   "metadata": {},
   "outputs": [],
   "source": [
    "import time\n",
    "import os\n",
    "import torch\n",
    "import torchvision.transforms as transforms\n",
    "import matplotlib.pyplot as plt\n",
    "from pathlib import Path\n",
    "from PIL import Image\n",
    "from torchinfo import summary\n",
    "from fvcore.nn import FlopCountAnalysis\n",
    "import torch.profiler\n",
    "import cProfile\n",
    "import pstats\n",
    "import io\n",
    "\n",
    "current_dir = os.path.basename(os.getcwd())\n",
    "\n",
    "if current_dir != \"yolov5\":\n",
    "    if os.path.isdir(\"yolov5\"):\n",
    "        os.chdir(\"yolov5\")\n",
    "\n",
    "from models.common import DetectMultiBackend\n",
    "from utils.torch_utils import select_device\n"
   ]
  },
  {
   "cell_type": "markdown",
   "metadata": {},
   "source": [
    "# Load COCO 128 dataset"
   ]
  },
  {
   "cell_type": "code",
   "execution_count": 44,
   "metadata": {},
   "outputs": [
    {
     "name": "stdout",
     "output_type": "stream",
     "text": [
      "Total images: 100\n"
     ]
    }
   ],
   "source": [
    "data_path  = Path(\"../datasets/coco128/images/train2017\")\n",
    "image_files = list(data_path.glob(\"*.jpg\"))[:100]\n",
    "print(f\"Total images: {len(image_files)}\")"
   ]
  },
  {
   "cell_type": "markdown",
   "metadata": {},
   "source": [
    "# Load YOLOv5 models"
   ]
  },
  {
   "cell_type": "code",
   "execution_count": 45,
   "metadata": {},
   "outputs": [
    {
     "name": "stderr",
     "output_type": "stream",
     "text": [
      "YOLOv5 🚀 v7.0-411-gf4d8a84c Python-3.11.11 torch-2.6.0+cu124 CUDA:0 (NVIDIA GeForce RTX 3060 Laptop GPU, 5938MiB)\n",
      "\n",
      "Fusing layers... \n",
      "YOLOv5n summary: 213 layers, 1867405 parameters, 0 gradients, 4.5 GFLOPs\n",
      "Fusing layers... \n"
     ]
    },
    {
     "name": "stdout",
     "output_type": "stream",
     "text": [
      "Using device: cuda:0\n"
     ]
    },
    {
     "name": "stderr",
     "output_type": "stream",
     "text": [
      "YOLOv5s summary: 213 layers, 7225885 parameters, 0 gradients, 16.4 GFLOPs\n",
      "Fusing layers... \n",
      "YOLOv5m summary: 290 layers, 21172173 parameters, 0 gradients, 48.9 GFLOPs\n",
      "Fusing layers... \n",
      "YOLOv5l summary: 367 layers, 46533693 parameters, 0 gradients, 109.0 GFLOPs\n",
      "Fusing layers... \n",
      "YOLOv5x summary: 444 layers, 86705005 parameters, 0 gradients, 205.5 GFLOPs\n"
     ]
    }
   ],
   "source": [
    "device = select_device(\"0\" if torch.cuda.is_available() else \"cpu\")\n",
    "print(f\"Using device: {device}\")\n",
    "\n",
    "models  = {\n",
    "    'yolov5n': DetectMultiBackend('yolov5n.pt', device=device),\n",
    "    'yolov5s': DetectMultiBackend('yolov5s.pt', device=device),\n",
    "    'yolov5m': DetectMultiBackend('yolov5m.pt', device=device),\n",
    "    'yolov5l': DetectMultiBackend('yolov5l.pt', device=device),\n",
    "    'yolov5x': DetectMultiBackend('yolov5x.pt', device=device),\n",
    "}"
   ]
  },
  {
   "cell_type": "markdown",
   "metadata": {},
   "source": [
    "# Run Inference and Benchmark Performance"
   ]
  },
  {
   "cell_type": "code",
   "execution_count": null,
   "metadata": {},
   "outputs": [],
   "source": [
    "transform = transforms.Compose([\n",
    "    transforms.ToTensor(),\n",
    "    transforms.Resize((640, 640))\n",
    "])\n",
    "\n",
    "\n",
    "latencies = {}\n",
    "fps_values = {}\n",
    "gflops_dict = {}\n",
    "params_dict = {}\n",
    "utilization_dict = {}\n",
    "model_size_dict = {}\n",
    "per_layer_gflops_dict = {}\n",
    "oi_dict = {}\n",
    "bound_type_dict = {}\n",
    "timing_results = []\n",
    "profile_outputs = {}\n",
    "profiler_tables = {}\n",
    "\n",
    "PEAK_GFLOPS = 410 # GFLOPS\n",
    "PEAK_BANDWIDTH = 28.1 # GB/s\n",
    "\n",
    "if device != 'cpu:sk':  # GPU mode\n",
    "    PEAK_GFLOPS = 10940  # RTX 3060 Laptop\n",
    "    PEAK_BANDWIDTH = 336\n",
    "\n",
    "for model_name, model in models.items():\n",
    "\n",
    "    model = model.to(device).eval()\n",
    "    dummy = torch.randn(1, 3, 640, 640).to(device)\n",
    "    for _ in range(3):\n",
    "        with torch.no_grad():\n",
    "            _ = model(dummy)\n",
    "\n",
    "    def profile_model_inference(model, image_files, transform, device):\n",
    "        total_time = 0\n",
    "        with torch.profiler.profile(\n",
    "            activities=[\n",
    "                torch.profiler.ProfilerActivity.CPU,\n",
    "                torch.profiler.ProfilerActivity.CUDA\n",
    "            ] if torch.cuda.is_available() else [torch.profiler.ProfilerActivity.CPU],\n",
    "            record_shapes=True,\n",
    "            profile_memory=True,\n",
    "            with_stack=False\n",
    "        ) as prof:\n",
    "\n",
    "            for img_path in image_files:\n",
    "                img = Image.open(img_path).convert('RGB')\n",
    "                img = transform(img).unsqueeze(0).to(device)\n",
    "\n",
    "                start_time = time.time()\n",
    "                with torch.no_grad():\n",
    "                    _ = model(img)\n",
    "                end_time = time.time()\n",
    "\n",
    "                total_time += (end_time - start_time)\n",
    "\n",
    "                prof.step()  # Mark end of one iteration\n",
    "\n",
    "        return total_time, prof.key_averages().table(sort_by=\"cuda_time_total\" if torch.cuda.is_available() else \"cpu_time_total\", row_limit=10)\n",
    "\n",
    "    # cProfile for profiling\n",
    "    pr = cProfile.Profile()\n",
    "    pr.enable()\n",
    "    total_time, prof_table = profile_model_inference(model, image_files, transform, device)\n",
    "    pr.disable()\n",
    "\n",
    "    s = io.StringIO()\n",
    "    ps = pstats.Stats(pr, stream=s).strip_dirs().sort_stats('tottime')\n",
    "    ps.print_stats(15)\n",
    "\n",
    "    profile_outputs[model_name] = s.getvalue()\n",
    "\n",
    "    # pytorch profiler\n",
    "    profiler_tables[model_name] = prof_table\n",
    "\n",
    "    avg_latency = (total_time / len(image_files)) * 1000  # Convert to ms\n",
    "    avg_fps = len(image_files) / total_time  # Compute FPS\n",
    "\n",
    "    latencies[model_name] = avg_latency\n",
    "    fps_values[model_name] = avg_fps\n",
    "    timing_results.append((model_name, avg_latency, avg_fps))\n",
    "\n",
    "    # model parameters\n",
    "    info = summary(model, input_size=(1, 3, 640, 640), verbose=0)\n",
    "    total_params = info.total_params\n",
    "    params_m = total_params / 1e6\n",
    "    model_size_mb = total_params * 4 / (1024 ** 2)\n",
    "\n",
    "    params_dict[model_name] = params_m\n",
    "    model_size_dict[model_name] = model_size_mb\n",
    "\n",
    "    # FLOPs\n",
    "    input_tensor = torch.randn(1, 3, 640, 640).to(device)\n",
    "    flops = FlopCountAnalysis(model, input_tensor)\n",
    "    total_flops = flops.total()\n",
    "    gflops = total_flops / 1e9\n",
    "    gflops_dict[model_name] = gflops\n",
    "\n",
    "\n",
    "    # Utilization\n",
    "    actual_gflops_per_second = gflops / (avg_latency / 1000)\n",
    "    utilization = (actual_gflops_per_second / PEAK_GFLOPS) * 100\n",
    "    utilization_dict[model_name] = utilization\n",
    "\n",
    "    # Operational Intensity\n",
    "    input_size_bytes = 3 * 640 * 640 * 4  # RGB image, float32\n",
    "    activation_estimate = input_size_bytes * 3\n",
    "    memory_accessed = total_params * 4 + activation_estimate\n",
    "    oi = total_flops / memory_accessed\n",
    "    peak_oi = PEAK_GFLOPS / PEAK_BANDWIDTH\n",
    "\n",
    "    oi_dict[model_name] = oi\n",
    "    bound_type = \"Compute Bound\" if oi > peak_oi else \"Memory Bound\"\n",
    "    bound_type_dict[model_name] = bound_type\n",
    "\n",
    "    # Per-layer GFLOPs\n",
    "    layer_flops = flops.by_module()\n",
    "    layer_gflops = {k: v / 1e9 for k, v in layer_flops.items()}\n",
    "    per_layer_gflops_dict[model_name] = layer_gflops"
   ]
  },
  {
   "cell_type": "markdown",
   "metadata": {},
   "source": [
    "# Benchmarking Results"
   ]
  },
  {
   "cell_type": "code",
   "execution_count": null,
   "metadata": {},
   "outputs": [
    {
     "name": "stdout",
     "output_type": "stream",
     "text": [
      "_______________________________________________\n",
      "Model                  Latency (ms)        FPS\n",
      "_______________________________________________\n",
      "yolov5n                    9.00 ms      111.16\n",
      "yolov5s                    8.51 ms      117.51\n",
      "yolov5m                   10.61 ms       94.27\n",
      "yolov5l                   13.32 ms       75.08\n",
      "yolov5x                   15.37 ms       65.04\n",
      "_______________________________________________\n"
     ]
    }
   ],
   "source": [
    "print(\"_______________________________________________\")\n",
    "print(\"Model                  Latency (ms)        FPS\")\n",
    "print(\"_______________________________________________\")\n",
    "for model_name, latency, fps in timing_results:\n",
    "    print(f\"{model_name:<16} {latency:>14.2f} ms    {fps:>8.2f}\")\n",
    "print(\"_______________________________________________\")"
   ]
  },
  {
   "cell_type": "markdown",
   "metadata": {},
   "source": [
    "# Visualization"
   ]
  },
  {
   "cell_type": "code",
   "execution_count": null,
   "metadata": {},
   "outputs": [
    {
     "data": {
      "image/png": "[encoded data removed]",
      "text/plain": [
       "<Figure size 1000x500 with 1 Axes>"
      ]
     },
     "metadata": {},
     "output_type": "display_data"
    },
    {
     "data": {
      "image/png": "[encoded data removed]",
      "text/plain": [
       "<Figure size 1000x500 with 1 Axes>"
      ]
     },
     "metadata": {},
     "output_type": "display_data"
    }
   ],
   "source": [
    "%matplotlib inline\n",
    "\n",
    "# Plot Latency\n",
    "plt.figure(figsize=(10, 5))\n",
    "plt.bar(latencies.keys(), latencies.values(), color='blue')\n",
    "plt.xlabel('Model')\n",
    "plt.ylabel('Latency (ms)')\n",
    "plt.title('YOLOv5 Model Latency')\n",
    "plt.show()\n",
    "\n",
    "# Plot FPS\n",
    "plt.figure(figsize=(10, 5))\n",
    "plt.bar(fps_values.keys(), fps_values.values(), color='red')\n",
    "plt.xlabel('Model')\n",
    "plt.ylabel('Frames Per Second (FPS)')\n",
    "plt.title('YOLOv5 Model FPS')\n",
    "plt.show()\n"
   ]
  },
  {
   "cell_type": "markdown",
   "metadata": {},
   "source": [
    "# Accuracy Analysis"
   ]
  },
  {
   "cell_type": "code",
   "execution_count": null,
   "metadata": {},
   "outputs": [
    {
     "name": "stdout",
     "output_type": "stream",
     "text": [
      "\u001b[34m\u001b[1mval: \u001b[0mdata=/home/dishapant/Desktop/spp/yolov5_benchmarking_optimization/yolov5/data/coco128.yaml, weights=['yolov5n.pt'], batch_size=32, imgsz=640, conf_thres=0.001, iou_thres=0.65, max_det=300, task=val, device=, workers=8, single_cls=False, augment=False, verbose=False, save_txt=False, save_hybrid=False, save_conf=False, save_json=False, project=runs/val, name=exp, exist_ok=False, half=False, dnn=False\n",
      "YOLOv5 🚀 v7.0-411-gf4d8a84c Python-3.11.11 torch-2.6.0+cu124 CUDA:0 (NVIDIA GeForce RTX 3060 Laptop GPU, 5938MiB)\n",
      "\n",
      "Fusing layers... \n",
      "YOLOv5n summary: 213 layers, 1867405 parameters, 0 gradients, 4.5 GFLOPs\n",
      "\u001b[34m\u001b[1mval: \u001b[0mScanning /home/dishapant/Desktop/spp/yolov5_benchmarking_optimization/datas\u001b[0m\n",
      "                 Class     Images  Instances          P          R      mAP50   \n",
      "                   all        128        929      0.629      0.478      0.541      0.349\n",
      "Speed: 0.3ms pre-process, 5.6ms inference, 4.4ms NMS per image at shape (32, 3, 640, 640)\n",
      "Results saved to \u001b[1mruns/val/exp47\u001b[0m\n"
     ]
    }
   ],
   "source": [
    "# For YOLOv5n\n",
    "!python val.py --weights yolov5n.pt --data coco128.yaml --img 640 --iou 0.65 --task val"
   ]
  },
  {
   "cell_type": "code",
   "execution_count": null,
   "metadata": {},
   "outputs": [
    {
     "name": "stdout",
     "output_type": "stream",
     "text": [
      "\u001b[34m\u001b[1mval: \u001b[0mdata=/home/dishapant/Desktop/spp/yolov5_benchmarking_optimization/yolov5/data/coco128.yaml, weights=['yolov5s.pt'], batch_size=32, imgsz=640, conf_thres=0.001, iou_thres=0.65, max_det=300, task=val, device=, workers=8, single_cls=False, augment=False, verbose=False, save_txt=False, save_hybrid=False, save_conf=False, save_json=False, project=runs/val, name=exp, exist_ok=False, half=False, dnn=False\n",
      "YOLOv5 🚀 v7.0-411-gf4d8a84c Python-3.11.11 torch-2.6.0+cu124 CUDA:0 (NVIDIA GeForce RTX 3060 Laptop GPU, 5938MiB)\n",
      "\n",
      "Fusing layers... \n",
      "YOLOv5s summary: 213 layers, 7225885 parameters, 0 gradients, 16.4 GFLOPs\n",
      "\u001b[34m\u001b[1mval: \u001b[0mScanning /home/dishapant/Desktop/spp/yolov5_benchmarking_optimization/datas\u001b[0m\n",
      "                 Class     Images  Instances          P          R      mAP50   \n",
      "                   all        128        929       0.69      0.623      0.702       0.48\n",
      "Speed: 0.2ms pre-process, 5.0ms inference, 3.9ms NMS per image at shape (32, 3, 640, 640)\n",
      "Results saved to \u001b[1mruns/val/exp48\u001b[0m\n"
     ]
    }
   ],
   "source": [
    "# For YOLOv5s\n",
    "!python val.py --weights yolov5s.pt --data coco128.yaml --img 640 --iou 0.65 --task val"
   ]
  },
  {
   "cell_type": "code",
   "execution_count": null,
   "metadata": {},
   "outputs": [
    {
     "name": "stdout",
     "output_type": "stream",
     "text": [
      "\u001b[34m\u001b[1mval: \u001b[0mdata=/home/dishapant/Desktop/spp/yolov5_benchmarking_optimization/yolov5/data/coco128.yaml, weights=['yolov5m.pt'], batch_size=32, imgsz=640, conf_thres=0.001, iou_thres=0.65, max_det=300, task=val, device=, workers=8, single_cls=False, augment=False, verbose=False, save_txt=False, save_hybrid=False, save_conf=False, save_json=False, project=runs/val, name=exp, exist_ok=False, half=False, dnn=False\n",
      "YOLOv5 🚀 v7.0-411-gf4d8a84c Python-3.11.11 torch-2.6.0+cu124 CUDA:0 (NVIDIA GeForce RTX 3060 Laptop GPU, 5938MiB)\n",
      "\n",
      "Fusing layers... \n",
      "YOLOv5m summary: 290 layers, 21172173 parameters, 0 gradients, 48.9 GFLOPs\n",
      "\u001b[34m\u001b[1mval: \u001b[0mScanning /home/dishapant/Desktop/spp/yolov5_benchmarking_optimization/datas\u001b[0m\n",
      "                 Class     Images  Instances          P          R      mAP50   \n",
      "                   all        128        929      0.736      0.694      0.773      0.553\n",
      "Speed: 0.3ms pre-process, 10.1ms inference, 3.8ms NMS per image at shape (32, 3, 640, 640)\n",
      "Results saved to \u001b[1mruns/val/exp49\u001b[0m\n"
     ]
    }
   ],
   "source": [
    "# For YOLOv5m\n",
    "!python val.py --weights yolov5m.pt --data coco128.yaml --img 640 --iou 0.65 --task val"
   ]
  },
  {
   "cell_type": "code",
   "execution_count": null,
   "metadata": {},
   "outputs": [
    {
     "name": "stdout",
     "output_type": "stream",
     "text": [
      "\u001b[34m\u001b[1mval: \u001b[0mdata=/home/dishapant/Desktop/spp/yolov5_benchmarking_optimization/yolov5/data/coco128.yaml, weights=['yolov5l.pt'], batch_size=32, imgsz=640, conf_thres=0.001, iou_thres=0.65, max_det=300, task=val, device=, workers=8, single_cls=False, augment=False, verbose=False, save_txt=False, save_hybrid=False, save_conf=False, save_json=False, project=runs/val, name=exp, exist_ok=False, half=False, dnn=False\n",
      "YOLOv5 🚀 v7.0-411-gf4d8a84c Python-3.11.11 torch-2.6.0+cu124 CUDA:0 (NVIDIA GeForce RTX 3060 Laptop GPU, 5938MiB)\n",
      "\n",
      "Fusing layers... \n",
      "YOLOv5l summary: 367 layers, 46533693 parameters, 0 gradients, 109.0 GFLOPs\n",
      "\u001b[34m\u001b[1mval: \u001b[0mScanning /home/dishapant/Desktop/spp/yolov5_benchmarking_optimization/datas\u001b[0m\n",
      "                 Class     Images  Instances          P          R      mAP50   \n",
      "                   all        128        929      0.795      0.694      0.811      0.602\n",
      "Speed: 0.3ms pre-process, 16.8ms inference, 3.8ms NMS per image at shape (32, 3, 640, 640)\n",
      "Results saved to \u001b[1mruns/val/exp50\u001b[0m\n"
     ]
    }
   ],
   "source": [
    "# For YOLOv5l\n",
    "!python val.py --weights yolov5l.pt --data coco128.yaml --img 640 --iou 0.65 --task val"
   ]
  },
  {
   "cell_type": "code",
   "execution_count": null,
   "metadata": {},
   "outputs": [
    {
     "name": "stdout",
     "output_type": "stream",
     "text": [
      "\u001b[34m\u001b[1mval: \u001b[0mdata=/home/dishapant/Desktop/spp/yolov5_benchmarking_optimization/yolov5/data/coco128.yaml, weights=['yolov5x.pt'], batch_size=32, imgsz=640, conf_thres=0.001, iou_thres=0.65, max_det=300, task=val, device=, workers=8, single_cls=False, augment=False, verbose=False, save_txt=False, save_hybrid=False, save_conf=False, save_json=False, project=runs/val, name=exp, exist_ok=False, half=False, dnn=False\n",
      "YOLOv5 🚀 v7.0-411-gf4d8a84c Python-3.11.11 torch-2.6.0+cu124 CUDA:0 (NVIDIA GeForce RTX 3060 Laptop GPU, 5938MiB)\n",
      "\n",
      "Fusing layers... \n",
      "YOLOv5x summary: 444 layers, 86705005 parameters, 0 gradients, 205.5 GFLOPs\n",
      "\u001b[34m\u001b[1mval: \u001b[0mScanning /home/dishapant/Desktop/spp/yolov5_benchmarking_optimization/datas\u001b[0m\n",
      "                 Class     Images  Instances          P          R      mAP50   \n",
      "                   all        128        929      0.773      0.753      0.824       0.63\n",
      "Speed: 0.2ms pre-process, 32.5ms inference, 3.4ms NMS per image at shape (32, 3, 640, 640)\n",
      "Results saved to \u001b[1mruns/val/exp51\u001b[0m\n"
     ]
    }
   ],
   "source": [
    "# For YOLOv5x\n",
    "!python val.py --weights yolov5x.pt --data coco128.yaml --img 640 --iou 0.65 --task val"
   ]
  },
  {
   "cell_type": "markdown",
   "metadata": {},
   "source": [
    "# Roofline Analysis Information"
   ]
  },
  {
   "cell_type": "code",
   "execution_count": null,
   "metadata": {},
   "outputs": [
    {
     "name": "stdout",
     "output_type": "stream",
     "text": [
      "\n",
      "\n",
      "===========================================================================\n",
      "Model      Params (M)  Size (MB)   GFLOPs   Utilization (%)   Bound Type\n",
      "===========================================================================\n",
      "yolov5n          1.87       7.12     2.23             2.27     Compute Bound\n",
      "yolov5s          7.23      27.56     8.22             8.83     Compute Bound\n",
      "yolov5m         21.17      80.77    24.44            21.06     Compute Bound\n",
      "yolov5l         46.53     177.51    54.50            37.40     Compute Bound\n",
      "yolov5x         86.71     330.75   102.73            61.08     Compute Bound\n",
      "===========================================================================\n"
     ]
    }
   ],
   "source": [
    "print(\"\\n\")\n",
    "print(\"===========================================================================\")\n",
    "print(\"Model      Params (M)  Size (MB)   GFLOPs   Utilization (%)   Bound Type\")\n",
    "print(\"===========================================================================\")\n",
    "\n",
    "for model_name in models.keys():\n",
    "    params_m = params_dict[model_name]\n",
    "    model_size = model_size_dict[model_name]\n",
    "    gflops = gflops_dict[model_name]\n",
    "    utilization = utilization_dict[model_name]\n",
    "    bound_type = bound_type_dict[model_name]\n",
    "\n",
    "    print(f\"{model_name:<10} {params_m:>10.2f}  {model_size:>9.2f}  {gflops:>7.2f}  \"\n",
    "          f\"{utilization:>15.2f}     {bound_type}\")\n",
    "\n",
    "print(\"===========================================================================\")\n"
   ]
  },
  {
   "cell_type": "markdown",
   "metadata": {},
   "source": [
    "# Per-Layer Analysis"
   ]
  },
  {
   "cell_type": "code",
   "execution_count": null,
   "metadata": {},
   "outputs": [],
   "source": [
    "per_layer_utilization_dict = {}\n",
    "highest_util_layers = {}\n",
    "lowest_util_layers = {}\n",
    "\n",
    "for model_name in models.keys():\n",
    "    model_util = utilization_dict[model_name]\n",
    "    model_total_gflops = gflops_dict[model_name]\n",
    "    per_layer_gflops = per_layer_gflops_dict[model_name]\n",
    "\n",
    "    # Compute per-layer utilization approx.\n",
    "    per_layer_util = {}\n",
    "    for layer, layer_gflops in per_layer_gflops.items():\n",
    "        if layer.strip() == \"\" or layer.strip() in {\"model\", \"model.model\"}:\n",
    "            continue  # Skip root / aggregate layers\n",
    "        layer_util = (layer_gflops / model_total_gflops) * model_util\n",
    "        per_layer_util[layer] = layer_util\n",
    "\n",
    "    per_layer_utilization_dict[model_name] = per_layer_util\n",
    "\n",
    "    # Sort layers\n",
    "    sorted_layers = sorted(per_layer_util.items(), key=lambda x: x[1], reverse=True)\n",
    "\n",
    "    # Save top and bottom 3 layers\n",
    "    highest_util_layers[model_name] = sorted_layers[:3]\n",
    "    lowest_util_layers[model_name] = sorted_layers[-3:]\n"
   ]
  },
  {
   "cell_type": "code",
   "execution_count": null,
   "metadata": {},
   "outputs": [
    {
     "name": "stdout",
     "output_type": "stream",
     "text": [
      "\n",
      "===================================================================\n",
      "Per-Layer Utilization Summary\n",
      "===================================================================\n",
      "\n",
      "Model: yolov5n\n",
      "Highest Utilization Layers:\n",
      "    model.model.6                           : 0.25%\n",
      "    model.model.6.m                         : 0.20%\n",
      "    model.model.4                           : 0.19%\n",
      "Lowest Utilization Layers:\n",
      "    model.model.23.cv3.act                  : 0.00%\n",
      "    model.model.23.m.0.cv1.act              : 0.00%\n",
      "    model.model.23.m.0.cv2.act              : 0.00%\n",
      "\n",
      "Model: yolov5s\n",
      "Highest Utilization Layers:\n",
      "    model.model.6                           : 1.07%\n",
      "    model.model.6.m                         : 0.84%\n",
      "    model.model.4                           : 0.79%\n",
      "Lowest Utilization Layers:\n",
      "    model.model.23.cv3.act                  : 0.00%\n",
      "    model.model.23.m.0.cv1.act              : 0.00%\n",
      "    model.model.23.m.0.cv2.act              : 0.00%\n",
      "\n",
      "Model: yolov5m\n",
      "Highest Utilization Layers:\n",
      "    model.model.6                           : 3.46%\n",
      "    model.model.6.m                         : 3.05%\n",
      "    model.model.4                           : 2.44%\n",
      "Lowest Utilization Layers:\n",
      "    model.model.23.m.0.cv2.act              : 0.00%\n",
      "    model.model.23.m.1.cv1.act              : 0.00%\n",
      "    model.model.23.m.1.cv2.act              : 0.00%\n",
      "\n",
      "Model: yolov5l\n",
      "Highest Utilization Layers:\n",
      "    model.model.6                           : 7.05%\n",
      "    model.model.6.m                         : 6.48%\n",
      "    model.model.4                           : 4.89%\n",
      "Lowest Utilization Layers:\n",
      "    model.model.23.m.1.cv2.act              : 0.00%\n",
      "    model.model.23.m.2.cv1.act              : 0.00%\n",
      "    model.model.23.m.2.cv2.act              : 0.00%\n",
      "\n",
      "Model: yolov5x\n",
      "Highest Utilization Layers:\n",
      "    model.model.6                           : 12.47%\n",
      "    model.model.6.m                         : 11.69%\n",
      "    model.model.4                           : 8.57%\n",
      "Lowest Utilization Layers:\n",
      "    model.model.23.m.2.cv2.act              : 0.00%\n",
      "    model.model.23.m.3.cv1.act              : 0.00%\n",
      "    model.model.23.m.3.cv2.act              : 0.00%\n",
      "===================================================================\n"
     ]
    }
   ],
   "source": [
    "print(\"\\n===================================================================\")\n",
    "print(\"Per-Layer Utilization Summary\")\n",
    "print(\"===================================================================\")\n",
    "\n",
    "for model_name in models.keys():\n",
    "    print(f\"\\nModel: {model_name}\")\n",
    "\n",
    "    print(\"Highest Utilization Layers:\")\n",
    "    for layer, util in highest_util_layers[model_name]:\n",
    "        print(f\"    {layer:<40}: {util:.2f}%\")\n",
    "\n",
    "    print(\"Lowest Utilization Layers:\")\n",
    "    for layer, util in lowest_util_layers[model_name]:\n",
    "        print(f\"    {layer:<40}: {util:.2f}%\")\n",
    "print(\"===================================================================\")"
   ]
  },
  {
   "cell_type": "markdown",
   "metadata": {},
   "source": [
    "# cProfile Profiling results"
   ]
  },
  {
   "cell_type": "code",
   "execution_count": null,
   "metadata": {},
   "outputs": [
    {
     "name": "stdout",
     "output_type": "stream",
     "text": [
      "\n",
      "=== cProfile for yolov5n ===\n",
      "20558965 function calls (15441837 primitive calls) in 20.976 seconds\n",
      "\n",
      "   Ordered by: internal time\n",
      "   List reduced from 388 to 15 due to restriction <15>\n",
      "\n",
      "   ncalls  tottime  percall  cumtime  percall filename:lineno(function)\n",
      "   163834    4.160    0.000    4.190    0.000 profiler_util.py:446(__init__)\n",
      "        1    3.071    3.071   11.727   11.727 profiler.py:525(_parse_kineto_results)\n",
      "1271618/431705    1.640    0.000    2.669    0.000 profiler_util.py:576(device_time_total)\n",
      "        1    1.309    1.309    1.309    1.309 {built-in method torch._C._autograd._disable_profiler}\n",
      "2988572/1099472    0.783    0.000    2.664    0.000 {built-in method builtins.sum}\n",
      "   163834    0.679    0.000    0.680    0.000 profiler.py:697(<lambda>)\n",
      "        3    0.516    0.172    0.516    0.172 {built-in method torch._C._autograd.events}\n",
      "   163534    0.449    0.000    4.601    0.000 profiler_util.py:674(add)\n",
      "     6000    0.446    0.000    0.446    0.000 {built-in method torch.conv2d}\n",
      "   863267    0.379    0.000    0.379    0.000 {built-in method torch._C._autograd.name}\n",
      "   163534    0.368    0.000    0.408    0.000 profiler_util.py:317(get_key)\n",
      "   405605    0.365    0.000    0.436    0.000 profiler_util.py:561(cpu_time_total)\n",
      "2059331/671184    0.299    0.000    1.860    0.000 profiler_util.py:583(<genexpr>)\n",
      "1283836/327068    0.286    0.000    0.286    0.000 profiler_util.py:139(bw_parent)\n",
      "   443312    0.273    0.000    0.273    0.000 {built-in method torch._C._autograd.device_type}\n",
      "\n",
      "========================================\n",
      "\n",
      "=== cProfile for yolov5s ===\n",
      "21034495 function calls (15779137 primitive calls) in 19.703 seconds\n",
      "\n",
      "   Ordered by: internal time\n",
      "   List reduced from 387 to 15 due to restriction <15>\n",
      "\n",
      "   ncalls  tottime  percall  cumtime  percall filename:lineno(function)\n",
      "        1    3.414    3.414   10.394   10.394 profiler.py:525(_parse_kineto_results)\n",
      "   167842    2.534    0.000    2.562    0.000 profiler_util.py:446(__init__)\n",
      "1304843/441829    1.658    0.000    2.720    0.000 profiler_util.py:576(device_time_total)\n",
      "        1    1.257    1.257    1.257    1.257 {built-in method torch._C._autograd._disable_profiler}\n",
      "3055854/1116336    0.810    0.000    2.718    0.000 {built-in method builtins.sum}\n",
      "   167842    0.771    0.000    0.773    0.000 profiler.py:697(<lambda>)\n",
      "   167542    0.460    0.000    4.683    0.000 profiler_util.py:674(add)\n",
      "     6000    0.431    0.000    0.431    0.000 {built-in method torch.conv2d}\n",
      "        3    0.383    0.128    0.383    0.128 {built-in method torch._C._autograd.events}\n",
      "   883267    0.373    0.000    0.373    0.000 {built-in method torch._C._autograd.name}\n",
      "   167542    0.367    0.000    0.410    0.000 profiler_util.py:317(get_key)\n",
      "   413829    0.367    0.000    0.441    0.000 profiler_util.py:561(cpu_time_total)\n",
      "2111857/683821    0.309    0.000    1.897    0.000 profiler_util.py:583(<genexpr>)\n",
      "1316674/335084    0.302    0.000    0.302    0.000 profiler_util.py:139(bw_parent)\n",
      "   451316    0.265    0.000    0.265    0.000 {built-in method torch._C._autograd.device_type}\n",
      "\n",
      "========================================\n",
      "\n",
      "=== cProfile for yolov5m ===\n",
      "29112101 function calls (21626157 primitive calls) in 27.272 seconds\n",
      "\n",
      "   Ordered by: internal time\n",
      "   List reduced from 387 to 15 due to restriction <15>\n",
      "\n",
      "   ncalls  tottime  percall  cumtime  percall filename:lineno(function)\n",
      "        1    5.548    5.548   14.536   14.536 profiler.py:525(_parse_kineto_results)\n",
      "1837993/603949    2.407    0.000    3.921    0.000 profiler_util.py:576(device_time_total)\n",
      "        1    1.706    1.706    1.706    1.706 {built-in method torch._C._autograd._disable_profiler}\n",
      "   424608    1.320    0.000    1.773    0.000 profiler_util.py:791(_rewrite_name)\n",
      "   212304    1.175    0.000    1.179    0.000 profiler.py:595(<listcomp>)\n",
      "4270982/1507592    1.132    0.000    3.916    0.000 {built-in method builtins.sum}\n",
      "   228449    1.037    0.000    1.039    0.000 profiler.py:697(<lambda>)\n",
      "   228149    0.622    0.000    6.634    0.000 profiler_util.py:674(add)\n",
      "     8200    0.559    0.000    0.559    0.000 {built-in method torch.conv2d}\n",
      "        3    0.548    0.183    0.548    0.183 {built-in method torch._C._autograd.events}\n",
      "  1212482    0.529    0.000    0.529    0.000 {built-in method torch._C._autograd.name}\n",
      "   228149    0.523    0.000    0.582    0.000 profiler_util.py:317(get_key)\n",
      "   564249    0.512    0.000    0.615    0.000 profiler_util.py:561(cpu_time_total)\n",
      "   228449    0.500    0.000    0.542    0.000 profiler_util.py:446(__init__)\n",
      "2992637/940155    0.443    0.000    2.772    0.000 profiler_util.py:583(<genexpr>)\n",
      "\n",
      "========================================\n",
      "\n",
      "=== cProfile for yolov5l ===\n",
      "36070405 function calls (26678772 primitive calls) in 34.325 seconds\n",
      "\n",
      "   Ordered by: internal time\n",
      "   List reduced from 387 to 15 due to restriction <15>\n",
      "\n",
      "   ncalls  tottime  percall  cumtime  percall filename:lineno(function)\n",
      "        1    4.795    4.795   17.598   17.598 profiler.py:525(_parse_kineto_results)\n",
      "   262706    3.143    0.000    3.148    0.000 profiler.py:595(<listcomp>)\n",
      "2296444/746414    3.042    0.000    5.006    0.000 profiler_util.py:576(device_time_total)\n",
      "        1    2.490    2.490    2.490    2.490 {built-in method torch._C._autograd._disable_profiler}\n",
      "   281738    1.542    0.000    1.594    0.000 profiler_util.py:446(__init__)\n",
      "5325840/1858704    1.460    0.000    5.011    0.000 {built-in method builtins.sum}\n",
      "   131854    1.281    0.000    1.364    0.000 profiler.py:537(_cpu_memory_usage)\n",
      "   281438    0.777    0.000    8.400    0.000 profiler_util.py:674(add)\n",
      "        3    0.733    0.244    0.733    0.244 {built-in method torch._C._autograd.events}\n",
      "    10400    0.718    0.000    0.718    0.000 {built-in method torch.conv2d}\n",
      "  1491379    0.674    0.000    0.674    0.000 {built-in method torch._C._autograd.name}\n",
      "   281438    0.654    0.000    0.729    0.000 profiler_util.py:317(get_key)\n",
      "   697314    0.640    0.000    0.767    0.000 profiler_util.py:561(cpu_time_total)\n",
      "3748274/1166395    0.580    0.000    3.560    0.000 profiler_util.py:583(<genexpr>)\n",
      "2281464/562876    0.527    0.000    0.527    0.000 profiler_util.py:139(bw_parent)\n",
      "\n",
      "========================================\n",
      "\n",
      "=== cProfile for yolov5x ===\n",
      "42976984 function calls (31694204 primitive calls) in 42.134 seconds\n",
      "\n",
      "   Ordered by: internal time\n",
      "   List reduced from 387 to 15 due to restriction <15>\n",
      "\n",
      "   ncalls  tottime  percall  cumtime  percall filename:lineno(function)\n",
      "        1    9.076    9.076   21.605   21.605 profiler.py:525(_parse_kineto_results)\n",
      "2750322/886499    3.505    0.000    5.722    0.000 profiler_util.py:576(device_time_total)\n",
      "   333933    3.195    0.000    3.260    0.000 profiler_util.py:446(__init__)\n",
      "        1    2.554    2.554    2.554    2.554 {built-in method torch._C._autograd._disable_profiler}\n",
      "      200    2.242    0.011    2.242    0.011 {method 'to' of 'torch._C.TensorBase' objects}\n",
      "6374376/2208264    1.636    0.000    5.721    0.000 {built-in method builtins.sum}\n",
      "   624016    1.173    0.000    1.850    0.000 profiler_util.py:791(_rewrite_name)\n",
      "        3    0.897    0.299    0.897    0.299 {built-in method torch._C._autograd.events}\n",
      "   333633    0.894    0.000    9.623    0.000 profiler_util.py:674(add)\n",
      "   158658    0.843    0.000    0.941    0.000 profiler.py:537(_cpu_memory_usage)\n",
      "    12600    0.841    0.000    0.841    0.000 {built-in method torch.conv2d}\n",
      "  1768982    0.780    0.000    0.780    0.000 {built-in method torch._C._autograd.name}\n",
      "   333633    0.753    0.000    0.835    0.000 profiler_util.py:317(get_key)\n",
      "   828899    0.743    0.000    0.887    0.000 profiler_util.py:561(cpu_time_total)\n",
      "4498945/1391470    0.665    0.000    4.079    0.000 profiler_util.py:583(<genexpr>)\n",
      "\n",
      "========================================\n"
     ]
    }
   ],
   "source": [
    "for model_name, stats in profile_outputs.items():\n",
    "    print(f\"\\n=== cProfile for {model_name} ===\")\n",
    "    print(stats)\n",
    "    print(\"\\n========================================\")"
   ]
  },
  {
   "cell_type": "markdown",
   "metadata": {},
   "source": [
    "# Pytorch Profiler Results"
   ]
  },
  {
   "cell_type": "code",
   "execution_count": null,
   "metadata": {},
   "outputs": [
    {
     "name": "stdout",
     "output_type": "stream",
     "text": [
      "Profiler for yolov5n:\n",
      "\n",
      "-------------------------------------------------------  ------------  ------------  ------------  ------------  ------------  ------------  ------------  ------------  ------------  ------------  ------------  ------------  ------------  ------------  \n",
      "                                                   Name    Self CPU %      Self CPU   CPU total %     CPU total  CPU time avg     Self CUDA   Self CUDA %    CUDA total  CUDA time avg       CPU Mem  Self CPU Mem      CUDA Mem  Self CUDA Mem    # of Calls  \n",
      "-------------------------------------------------------  ------------  ------------  ------------  ------------  ------------  ------------  ------------  ------------  ------------  ------------  ------------  ------------  ------------  ------------  \n",
      "                                           aten::conv2d         2.03%      15.147ms        53.30%     397.993ms      66.332us       0.000us         0.00%     172.159ms      28.693us           0 b           0 b       5.35 Gb           0 b          6000  \n",
      "                                      aten::convolution         3.29%      24.537ms        51.27%     382.846ms      63.808us       0.000us         0.00%     172.159ms      28.693us           0 b           0 b       5.35 Gb           0 b          6000  \n",
      "                                     aten::_convolution         6.49%      48.461ms        47.99%     358.310ms      59.718us       0.000us         0.00%     172.159ms      28.693us           0 b           0 b       5.35 Gb           0 b          6000  \n",
      "                                aten::cudnn_convolution        21.22%     158.428ms        30.10%     224.782ms      37.464us     135.872ms        47.65%     135.872ms      22.645us           0 b           0 b       5.35 Gb       5.35 Gb          6000  \n",
      "                                            aten::copy_         4.12%      30.746ms        11.71%      87.428ms     124.897us      49.022ms        17.19%      49.022ms      70.031us           0 b           0 b           0 b           0 b           700  \n",
      "                                               aten::to         0.11%     793.864us         9.84%      73.449ms     122.415us       0.000us         0.00%      41.458ms      69.097us     326.78 Mb           0 b     506.25 Mb           0 b           600  \n",
      "                                         aten::_to_copy         0.27%       2.002ms         9.73%      72.655ms     242.184us       0.000us         0.00%      41.458ms     138.194us     326.78 Mb           0 b     506.25 Mb           0 b           300  \n",
      "                       Memcpy HtoD (Pageable -> Device)         0.00%       0.000us         0.00%       0.000us       0.000us      41.458ms        14.54%      41.458ms     414.583us           0 b           0 b           0 b           0 b           100  \n",
      "                                             aten::add_         5.60%      41.850ms         9.44%      70.504ms      11.751us      36.283ms        12.72%      36.287ms       6.048us           0 b           0 b           0 b           0 b          6000  \n",
      "void at::native::elementwise_kernel<128, 2, at::nati...         0.00%       0.000us         0.00%       0.000us       0.000us      36.283ms        12.72%      36.283ms       6.047us           0 b           0 b           0 b           0 b          6000  \n",
      "-------------------------------------------------------  ------------  ------------  ------------  ------------  ------------  ------------  ------------  ------------  ------------  ------------  ------------  ------------  ------------  ------------  \n",
      "Self CPU time total: 746.706ms\n",
      "Self CUDA time total: 285.173ms\n",
      "\n",
      "--------------------------------------------------------------------------------\n",
      "Profiler for yolov5s:\n",
      "\n",
      "-------------------------------------------------------  ------------  ------------  ------------  ------------  ------------  ------------  ------------  ------------  ------------  ------------  ------------  ------------  ------------  ------------  \n",
      "                                                   Name    Self CPU %      Self CPU   CPU total %     CPU total  CPU time avg     Self CUDA   Self CUDA %    CUDA total  CUDA time avg       CPU Mem  Self CPU Mem      CUDA Mem  Self CUDA Mem    # of Calls  \n",
      "-------------------------------------------------------  ------------  ------------  ------------  ------------  ------------  ------------  ------------  ------------  ------------  ------------  ------------  ------------  ------------  ------------  \n",
      "                                           aten::conv2d         1.87%      13.516ms        53.58%     386.796ms      64.466us       0.000us         0.00%     336.690ms      56.115us           0 b           0 b      10.41 Gb           0 b          6000  \n",
      "                                      aten::convolution         3.01%      21.725ms        51.71%     373.280ms      62.213us       0.000us         0.00%     336.690ms      56.115us           0 b           0 b      10.41 Gb           0 b          6000  \n",
      "                                     aten::_convolution         6.07%      43.843ms        48.70%     351.554ms      58.592us       0.000us         0.00%     336.690ms      56.115us           0 b           0 b      10.41 Gb           0 b          6000  \n",
      "                                aten::cudnn_convolution        21.61%     156.007ms        31.34%     226.279ms      37.713us     278.251ms        57.37%     278.281ms      46.380us           0 b           0 b      10.41 Gb      10.41 Gb          6000  \n",
      "                                             aten::add_         5.60%      40.402ms         9.46%      68.279ms      11.380us      58.399ms        12.04%      58.399ms       9.733us           0 b           0 b           0 b           0 b          6000  \n",
      "void at::native::elementwise_kernel<128, 2, at::nati...         0.00%       0.000us         0.00%       0.000us       0.000us      58.399ms        12.04%      58.399ms       9.733us           0 b           0 b           0 b           0 b          6000  \n",
      "                                            aten::copy_         4.31%      31.135ms        11.79%      85.094ms     121.562us      46.769ms         9.64%      46.769ms      66.813us           0 b           0 b           0 b           0 b           700  \n",
      "                                            aten::silu_         3.79%      27.387ms         7.08%      51.088ms       8.963us      44.066ms         9.08%      44.066ms       7.731us           0 b           0 b           0 b           0 b          5700  \n",
      "void at::native::vectorized_elementwise_kernel<4, at...         0.00%       0.000us         0.00%       0.000us       0.000us      44.066ms         9.08%      44.066ms       7.731us           0 b           0 b           0 b           0 b          5700  \n",
      "                                               aten::to         0.10%     734.620us         9.92%      71.610ms     119.350us       0.000us         0.00%      39.893ms      66.488us     326.78 Mb           0 b     468.75 Mb           0 b           600  \n",
      "-------------------------------------------------------  ------------  ------------  ------------  ------------  ------------  ------------  ------------  ------------  ------------  ------------  ------------  ------------  ------------  ------------  \n",
      "Self CPU time total: 721.910ms\n",
      "Self CUDA time total: 485.046ms\n",
      "\n",
      "--------------------------------------------------------------------------------\n",
      "Profiler for yolov5m:\n",
      "\n",
      "-------------------------------------------------------  ------------  ------------  ------------  ------------  ------------  ------------  ------------  ------------  ------------  ------------  ------------  ------------  ------------  ------------  \n",
      "                                                   Name    Self CPU %      Self CPU   CPU total %     CPU total  CPU time avg     Self CUDA   Self CUDA %    CUDA total  CUDA time avg       CPU Mem  Self CPU Mem      CUDA Mem  Self CUDA Mem    # of Calls  \n",
      "-------------------------------------------------------  ------------  ------------  ------------  ------------  ------------  ------------  ------------  ------------  ------------  ------------  ------------  ------------  ------------  ------------  \n",
      "                                           aten::conv2d         1.90%      16.504ms        57.79%     501.320ms      61.137us       0.000us         0.00%     932.492ms     113.718us           0 b           0 b      19.02 Gb           0 b          8200  \n",
      "                                      aten::convolution         3.18%      27.589ms        55.89%     484.816ms      59.124us       0.000us         0.00%     932.492ms     113.718us           0 b           0 b      19.02 Gb           0 b          8200  \n",
      "                                     aten::_convolution         6.52%      56.590ms        52.71%     457.227ms      55.759us       0.000us         0.00%     932.492ms     113.718us           0 b           0 b      19.02 Gb           0 b          8200  \n",
      "                                aten::cudnn_convolution        23.07%     200.161ms        34.22%     296.869ms      36.204us     826.323ms        72.03%     826.695ms     100.816us           0 b           0 b      19.02 Gb      19.01 Gb          8200  \n",
      "sm86_xmma_fprop_implicit_gemm_tf32f32_tf32f32_f32_nh...         0.00%       0.000us         0.00%       0.000us       0.000us     145.649ms        12.70%     145.649ms     145.649us           0 b           0 b           0 b           0 b          1000  \n",
      "                                             aten::add_         6.07%      52.681ms        10.03%      87.048ms      10.616us     105.631ms         9.21%     105.637ms      12.883us           0 b           0 b           0 b           0 b          8200  \n",
      "void at::native::elementwise_kernel<128, 2, at::nati...         0.00%       0.000us         0.00%       0.000us       0.000us     105.631ms         9.21%     105.631ms      12.882us           0 b           0 b           0 b           0 b          8200  \n",
      "void cutlass__5x_cudnn::Kernel<cutlass_tensorop_s168...         0.00%       0.000us         0.00%       0.000us       0.000us     101.323ms         8.83%     101.323ms     144.747us           0 b           0 b           0 b           0 b           700  \n",
      "void cudnn::engines_precompiled::nchwToNhwcKernel<fl...         0.00%       0.000us         0.00%       0.000us       0.000us      96.038ms         8.37%      96.038ms      17.150us           0 b           0 b           0 b           0 b          5600  \n",
      "void cutlass::Kernel2<cutlass_80_tensorop_s1688gemm_...         0.00%       0.000us         0.00%       0.000us       0.000us      95.907ms         8.36%      95.907ms      33.071us           0 b           0 b           0 b           0 b          2900  \n",
      "-------------------------------------------------------  ------------  ------------  ------------  ------------  ------------  ------------  ------------  ------------  ------------  ------------  ------------  ------------  ------------  ------------  \n",
      "Self CPU time total: 867.447ms\n",
      "Self CUDA time total: 1.147s\n",
      "\n",
      "--------------------------------------------------------------------------------\n",
      "Profiler for yolov5l:\n",
      "\n",
      "-------------------------------------------------------  ------------  ------------  ------------  ------------  ------------  ------------  ------------  ------------  ------------  ------------  ------------  ------------  ------------  ------------  \n",
      "                                                   Name    Self CPU %      Self CPU   CPU total %     CPU total  CPU time avg     Self CUDA   Self CUDA %    CUDA total  CUDA time avg       CPU Mem  Self CPU Mem      CUDA Mem  Self CUDA Mem    # of Calls  \n",
      "-------------------------------------------------------  ------------  ------------  ------------  ------------  ------------  ------------  ------------  ------------  ------------  ------------  ------------  ------------  ------------  ------------  \n",
      "                                           aten::conv2d         1.42%      21.024ms        43.42%     644.531ms      61.974us       0.000us         0.00%        1.716s     165.047us           0 b           0 b      31.24 Gb           0 b         10400  \n",
      "                                      aten::convolution         2.41%      35.723ms        42.00%     623.507ms      59.953us       0.000us         0.00%        1.716s     165.047us           0 b           0 b      31.24 Gb           0 b         10400  \n",
      "                                     aten::_convolution         4.92%      73.034ms        39.60%     587.784ms      56.518us       0.000us         0.00%        1.716s     165.047us           0 b           0 b      31.24 Gb           0 b         10400  \n",
      "                                aten::cudnn_convolution        17.34%     257.451ms        25.69%     381.279ms      36.661us        1.541s        75.18%        1.541s     148.157us           0 b           0 b      31.24 Gb      31.24 Gb         10400  \n",
      "sm86_xmma_fprop_implicit_gemm_tf32f32_tf32f32_f32_nh...         0.00%       0.000us         0.00%       0.000us       0.000us     352.590ms        17.21%     352.590ms     220.369us           0 b           0 b           0 b           0 b          1600  \n",
      "sm86_xmma_fprop_implicit_gemm_indexed_tf32f32_tf32f3...         0.00%       0.000us         0.00%       0.000us       0.000us     268.428ms        13.10%     268.428ms     335.535us           0 b           0 b           0 b           0 b           800  \n",
      "void cudnn::engines_precompiled::nchwToNhwcKernel<fl...         0.00%       0.000us         0.00%       0.000us       0.000us     192.566ms         9.40%     192.566ms      24.688us           0 b           0 b           0 b           0 b          7800  \n",
      "sm86_xmma_fprop_implicit_gemm_tf32f32_tf32f32_f32_nh...         0.00%       0.000us         0.00%       0.000us       0.000us     182.645ms         8.91%     182.645ms     202.938us           0 b           0 b           0 b           0 b           900  \n",
      "                                             aten::add_         4.57%      67.868ms         7.54%     111.949ms      10.764us     175.156ms         8.55%     175.161ms      16.842us           0 b           0 b           0 b           0 b         10400  \n",
      "void at::native::elementwise_kernel<128, 2, at::nati...         0.00%       0.000us         0.00%       0.000us       0.000us     175.156ms         8.55%     175.156ms      16.842us           0 b           0 b           0 b           0 b         10400  \n",
      "-------------------------------------------------------  ------------  ------------  ------------  ------------  ------------  ------------  ------------  ------------  ------------  ------------  ------------  ------------  ------------  ------------  \n",
      "Self CPU time total: 1.484s\n",
      "Self CUDA time total: 2.049s\n",
      "\n",
      "--------------------------------------------------------------------------------\n",
      "Profiler for yolov5x:\n",
      "\n",
      "-------------------------------------------------------  ------------  ------------  ------------  ------------  ------------  ------------  ------------  ------------  ------------  ------------  ------------  ------------  ------------  ------------  \n",
      "                                                   Name    Self CPU %      Self CPU   CPU total %     CPU total  CPU time avg     Self CUDA   Self CUDA %    CUDA total  CUDA time avg       CPU Mem  Self CPU Mem      CUDA Mem  Self CUDA Mem    # of Calls  \n",
      "-------------------------------------------------------  ------------  ------------  ------------  ------------  ------------  ------------  ------------  ------------  ------------  ------------  ------------  ------------  ------------  ------------  \n",
      "                                           aten::conv2d         0.75%      25.133ms        22.39%     751.361ms      59.632us       0.000us         0.00%        3.500s     277.745us           0 b           0 b      44.63 Gb           0 b         12600  \n",
      "                                      aten::convolution         1.25%      41.989ms        21.64%     726.227ms      57.637us       0.000us         0.00%        3.500s     277.745us           0 b           0 b      44.63 Gb           0 b         12600  \n",
      "                                     aten::_convolution         2.58%      86.567ms        20.39%     684.238ms      54.305us       0.000us         0.00%        3.500s     277.745us           0 b           0 b      44.63 Gb       3.00 Kb         12600  \n",
      "                                aten::cudnn_convolution         9.02%     302.687ms        13.12%     440.233ms      34.939us        3.231s        81.48%        3.231s     256.427us           0 b           0 b      44.63 Gb      44.63 Gb         12600  \n",
      "sm86_xmma_fprop_implicit_gemm_tf32f32_tf32f32_f32_nh...         0.00%       0.000us         0.00%       0.000us       0.000us     812.611ms        20.49%     812.611ms     386.958us           0 b           0 b           0 b           0 b          2100  \n",
      "sm86_xmma_fprop_implicit_gemm_tf32f32_tf32f32_f32_nh...         0.00%       0.000us         0.00%       0.000us       0.000us     580.035ms        14.63%     580.035ms     483.362us           0 b           0 b           0 b           0 b          1200  \n",
      "void cudnn::engines_precompiled::nchwToNhwcKernel<fl...         0.00%       0.000us         0.00%       0.000us       0.000us     333.922ms         8.42%     333.922ms      33.392us           0 b           0 b           0 b           0 b         10000  \n",
      "void cutlass__5x_cudnn::Kernel<cutlass_tensorop_s168...         0.00%       0.000us         0.00%       0.000us       0.000us     327.387ms         8.26%     327.387ms     363.764us           0 b           0 b           0 b           0 b           900  \n",
      "                                             aten::add_         2.43%      81.421ms         3.93%     131.829ms      10.463us     268.438ms         6.77%     268.464ms      21.307us           0 b           0 b           0 b           0 b         12600  \n",
      "void at::native::elementwise_kernel<128, 2, at::nati...         0.00%       0.000us         0.00%       0.000us       0.000us     268.438ms         6.77%     268.438ms      21.305us           0 b           0 b           0 b           0 b         12600  \n",
      "-------------------------------------------------------  ------------  ------------  ------------  ------------  ------------  ------------  ------------  ------------  ------------  ------------  ------------  ------------  ------------  ------------  \n",
      "Self CPU time total: 3.356s\n",
      "Self CUDA time total: 3.965s\n",
      "\n",
      "--------------------------------------------------------------------------------\n"
     ]
    }
   ],
   "source": [
    "for model_name, prof_table in profiler_tables.items():\n",
    "    print(f\"Profiler for {model_name}:\\n\")\n",
    "    print(prof_table)\n",
    "    print(\"-\" * 80)\n",
    "\n"
   ]
  }
 ],
 "metadata": {
  "kernelspec": {
   "display_name": "yolo-benchmark",
   "language": "python",
   "name": "python3"
  },
  "language_info": {
   "codemirror_mode": {
    "name": "ipython",
    "version": 3
   },
   "file_extension": ".py",
   "mimetype": "text/x-python",
   "name": "python",
   "nbconvert_exporter": "python",
   "pygments_lexer": "ipython3",
   "version": "3.11.11"
  }
 },
 "nbformat": 4,
 "nbformat_minor": 2
}
