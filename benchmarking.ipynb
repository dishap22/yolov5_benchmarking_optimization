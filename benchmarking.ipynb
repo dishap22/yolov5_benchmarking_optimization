{
 "cells": [
  {
   "cell_type": "markdown",
   "metadata": {},
   "source": [
    "# Import requirements"
   ]
  },
  {
   "cell_type": "code",
   "execution_count": 1,
   "metadata": {},
   "outputs": [],
   "source": [
    "import time\n",
    "import os\n",
    "import torch\n",
    "import torchvision.transforms as transforms\n",
    "import matplotlib.pyplot as plt\n",
    "from pathlib import Path\n",
    "from PIL import Image\n",
    "from torchinfo import summary\n",
    "from fvcore.nn import FlopCountAnalysis\n",
    "import torch.profiler\n",
    "import cProfile\n",
    "import pstats\n",
    "import io\n",
    "from torch.quantization import quantize_dynamic\n",
    "import onnx\n",
    "import numpy as np\n",
    "import onnxruntime as ort\n",
    "\n",
    "current_dir = os.path.basename(os.getcwd())\n",
    "\n",
    "if current_dir != \"yolov5\":\n",
    "    if os.path.isdir(\"yolov5\"):\n",
    "        os.chdir(\"yolov5\")\n",
    "\n",
    "from models.common import DetectMultiBackend\n",
    "from utils.torch_utils import select_device\n"
   ]
  },
  {
   "cell_type": "markdown",
   "metadata": {},
   "source": [
    "# Load COCO 128 dataset"
   ]
  },
  {
   "cell_type": "code",
   "execution_count": 2,
   "metadata": {},
   "outputs": [
    {
     "name": "stdout",
     "output_type": "stream",
     "text": [
      "Total images: 100\n"
     ]
    }
   ],
   "source": [
    "data_path  = Path(\"../datasets/coco128/images/train2017\")\n",
    "image_files = list(data_path.glob(\"*.jpg\"))[:100]\n",
    "print(f\"Total images: {len(image_files)}\")"
   ]
  },
  {
   "cell_type": "markdown",
   "metadata": {},
   "source": [
    "# Load YOLOv5 models"
   ]
  },
  {
   "cell_type": "code",
   "execution_count": 3,
   "metadata": {},
   "outputs": [
    {
     "name": "stderr",
     "output_type": "stream",
     "text": [
      "YOLOv5 🚀 v7.0-411-gf4d8a84c Python-3.11.11 torch-2.6.0+cu124 CPU\n",
      "\n"
     ]
    },
    {
     "name": "stdout",
     "output_type": "stream",
     "text": [
      "Using device: cpu\n"
     ]
    },
    {
     "name": "stderr",
     "output_type": "stream",
     "text": [
      "Fusing layers... \n",
      "YOLOv5n summary: 213 layers, 1867405 parameters, 0 gradients, 4.5 GFLOPs\n",
      "Fusing layers... \n",
      "YOLOv5s summary: 213 layers, 7225885 parameters, 0 gradients, 16.4 GFLOPs\n",
      "Fusing layers... \n",
      "YOLOv5m summary: 290 layers, 21172173 parameters, 0 gradients, 48.9 GFLOPs\n",
      "Fusing layers... \n",
      "YOLOv5l summary: 367 layers, 46533693 parameters, 0 gradients, 109.0 GFLOPs\n",
      "Fusing layers... \n",
      "YOLOv5x summary: 444 layers, 86705005 parameters, 0 gradients, 205.5 GFLOPs\n"
     ]
    }
   ],
   "source": [
    "device = select_device(\"cpu\")\n",
    "print(f\"Using device: {device}\")\n",
    "\n",
    "models  = {\n",
    "    'yolov5n': DetectMultiBackend('yolov5n.pt', device=device),\n",
    "    'yolov5s': DetectMultiBackend('yolov5s.pt', device=device),\n",
    "    'yolov5m': DetectMultiBackend('yolov5m.pt', device=device),\n",
    "    'yolov5l': DetectMultiBackend('yolov5l.pt', device=device),\n",
    "    'yolov5x': DetectMultiBackend('yolov5x.pt', device=device),\n",
    "}"
   ]
  },
  {
   "cell_type": "markdown",
   "metadata": {},
   "source": [
    "# Run Inference and Benchmark Performance"
   ]
  },
  {
   "cell_type": "code",
   "execution_count": 4,
   "metadata": {},
   "outputs": [
    {
     "name": "stdout",
     "output_type": "stream",
     "text": [
      "\n",
      "--- Running yolov5n ---\n"
     ]
    },
    {
     "name": "stderr",
     "output_type": "stream",
     "text": [
      "Unsupported operator aten::silu_ encountered 57 time(s)\n",
      "Unsupported operator aten::add encountered 10 time(s)\n",
      "Unsupported operator aten::max_pool2d encountered 3 time(s)\n",
      "Unsupported operator aten::mul encountered 22 time(s)\n",
      "Unsupported operator aten::sigmoid encountered 3 time(s)\n",
      "Unsupported operator aten::pow encountered 3 time(s)\n"
     ]
    },
    {
     "name": "stdout",
     "output_type": "stream",
     "text": [
      "\n",
      "--- Running yolov5s ---\n"
     ]
    },
    {
     "name": "stderr",
     "output_type": "stream",
     "text": [
      "Unsupported operator aten::silu_ encountered 57 time(s)\n",
      "Unsupported operator aten::add encountered 10 time(s)\n",
      "Unsupported operator aten::max_pool2d encountered 3 time(s)\n",
      "Unsupported operator aten::mul encountered 22 time(s)\n",
      "Unsupported operator aten::sigmoid encountered 3 time(s)\n",
      "Unsupported operator aten::pow encountered 3 time(s)\n"
     ]
    },
    {
     "name": "stdout",
     "output_type": "stream",
     "text": [
      "\n",
      "--- Running yolov5m ---\n"
     ]
    },
    {
     "name": "stderr",
     "output_type": "stream",
     "text": [
      "Unsupported operator aten::silu_ encountered 79 time(s)\n",
      "Unsupported operator aten::add encountered 17 time(s)\n",
      "Unsupported operator aten::max_pool2d encountered 3 time(s)\n",
      "Unsupported operator aten::mul encountered 22 time(s)\n",
      "Unsupported operator aten::sigmoid encountered 3 time(s)\n",
      "Unsupported operator aten::pow encountered 3 time(s)\n"
     ]
    },
    {
     "name": "stdout",
     "output_type": "stream",
     "text": [
      "\n",
      "--- Running yolov5l ---\n"
     ]
    },
    {
     "name": "stderr",
     "output_type": "stream",
     "text": [
      "Unsupported operator aten::silu_ encountered 101 time(s)\n",
      "Unsupported operator aten::add encountered 24 time(s)\n",
      "Unsupported operator aten::max_pool2d encountered 3 time(s)\n",
      "Unsupported operator aten::mul encountered 22 time(s)\n",
      "Unsupported operator aten::sigmoid encountered 3 time(s)\n",
      "Unsupported operator aten::pow encountered 3 time(s)\n"
     ]
    },
    {
     "name": "stdout",
     "output_type": "stream",
     "text": [
      "\n",
      "--- Running yolov5x ---\n"
     ]
    },
    {
     "name": "stderr",
     "output_type": "stream",
     "text": [
      "Unsupported operator aten::silu_ encountered 123 time(s)\n",
      "Unsupported operator aten::add encountered 31 time(s)\n",
      "Unsupported operator aten::max_pool2d encountered 3 time(s)\n",
      "Unsupported operator aten::mul encountered 22 time(s)\n",
      "Unsupported operator aten::sigmoid encountered 3 time(s)\n",
      "Unsupported operator aten::pow encountered 3 time(s)\n"
     ]
    }
   ],
   "source": [
    "transform = transforms.Compose([\n",
    "    transforms.ToTensor(),\n",
    "    transforms.Resize((640, 640))\n",
    "])\n",
    "\n",
    "\n",
    "latencies = {}\n",
    "fps_values = {}\n",
    "gflops_dict = {}\n",
    "params_dict = {}\n",
    "utilization_dict = {}\n",
    "model_size_dict = {}\n",
    "per_layer_gflops_dict = {}\n",
    "oi_dict = {}\n",
    "bound_type_dict = {}\n",
    "timing_results = []\n",
    "profile_outputs = {}\n",
    "profiler_tables = {}\n",
    "\n",
    "PEAK_GFLOPS = 410 # GFLOPS\n",
    "PEAK_BANDWIDTH = 28.1 # GB/s\n",
    "\n",
    "for model_name, model in models.items():\n",
    "    print(f\"\\n--- Running {model_name} ---\")\n",
    "    model = model.to(device).eval()\n",
    "    dummy = torch.randn(1, 3, 640, 640).to(device)\n",
    "    for _ in range(3):\n",
    "        with torch.no_grad():\n",
    "            _ = model(dummy)\n",
    "\n",
    "    def profile_model_inference(model, image_files, transform, device):\n",
    "        total_time = 0\n",
    "        with torch.profiler.profile(\n",
    "            activities=[\n",
    "                torch.profiler.ProfilerActivity.CPU\n",
    "            ],\n",
    "            record_shapes=True,\n",
    "            profile_memory=True,\n",
    "            with_stack=False\n",
    "        ) as prof:\n",
    "\n",
    "            for img_path in image_files:\n",
    "                img = Image.open(img_path).convert('RGB')\n",
    "                img = transform(img).unsqueeze(0).to(device)\n",
    "\n",
    "                start_time = time.time()\n",
    "                with torch.no_grad():\n",
    "                    _ = model(img)\n",
    "                end_time = time.time()\n",
    "\n",
    "                total_time += (end_time - start_time)\n",
    "\n",
    "                prof.step()  # Mark end of one iteration\n",
    "\n",
    "        return total_time, prof.key_averages().table(sort_by=\"cpu_time_total\", row_limit=10)\n",
    "\n",
    "    # cProfile for profiling\n",
    "    pr = cProfile.Profile()\n",
    "    pr.enable()\n",
    "    total_time, prof_table = profile_model_inference(model, image_files, transform, device)\n",
    "    pr.disable()\n",
    "\n",
    "    s = io.StringIO()\n",
    "    ps = pstats.Stats(pr, stream=s).strip_dirs().sort_stats('tottime')\n",
    "    ps.print_stats(15)\n",
    "\n",
    "    profile_outputs[model_name] = s.getvalue()\n",
    "\n",
    "    # pytorch profiler\n",
    "    profiler_tables[model_name] = prof_table\n",
    "\n",
    "    avg_latency = (total_time / len(image_files)) * 1000  # Convert to ms\n",
    "    avg_fps = len(image_files) / total_time  # Compute FPS\n",
    "\n",
    "    latencies[model_name] = avg_latency\n",
    "    fps_values[model_name] = avg_fps\n",
    "    timing_results.append((model_name, avg_latency, avg_fps))\n",
    "\n",
    "    # model parameters\n",
    "    info = summary(model, input_size=(1, 3, 640, 640), verbose=0)\n",
    "    total_params = info.total_params\n",
    "    params_m = total_params / 1e6\n",
    "    model_size_mb = total_params * 4 / (1024 ** 2)\n",
    "\n",
    "    params_dict[model_name] = params_m\n",
    "    model_size_dict[model_name] = model_size_mb\n",
    "\n",
    "    # FLOPs\n",
    "    input_tensor = torch.randn(1, 3, 640, 640).to(device)\n",
    "    flops = FlopCountAnalysis(model, input_tensor)\n",
    "    total_flops = flops.total()\n",
    "    gflops = total_flops / 1e9\n",
    "    gflops_dict[model_name] = gflops\n",
    "\n",
    "\n",
    "    # Utilization\n",
    "    actual_gflops_per_second = gflops / (avg_latency / 1000)\n",
    "    utilization = (actual_gflops_per_second / PEAK_GFLOPS) * 100\n",
    "    utilization_dict[model_name] = utilization\n",
    "\n",
    "    # Operational Intensity\n",
    "    input_size_bytes = 3 * 640 * 640 * 4  # RGB image, float32\n",
    "    activation_estimate = input_size_bytes * 3\n",
    "    memory_accessed = total_params * 4 + activation_estimate\n",
    "    oi = total_flops / memory_accessed\n",
    "    peak_oi = PEAK_GFLOPS / PEAK_BANDWIDTH\n",
    "\n",
    "    oi_dict[model_name] = oi\n",
    "    bound_type = \"Compute Bound\" if oi > peak_oi else \"Memory Bound\"\n",
    "    bound_type_dict[model_name] = bound_type\n",
    "\n",
    "    # Per-layer GFLOPs\n",
    "    layer_flops = flops.by_module()\n",
    "    layer_gflops = {k: v / 1e9 for k, v in layer_flops.items()}\n",
    "    per_layer_gflops_dict[model_name] = layer_gflops"
   ]
  },
  {
   "cell_type": "markdown",
   "metadata": {},
   "source": [
    "# Benchmarking Results"
   ]
  },
  {
   "cell_type": "code",
   "execution_count": 5,
   "metadata": {},
   "outputs": [
    {
     "name": "stdout",
     "output_type": "stream",
     "text": [
      "_______________________________________________\n",
      "Model                  Latency (ms)        FPS\n",
      "_______________________________________________\n",
      "yolov5n                   31.21 ms       32.04\n",
      "yolov5s                   59.64 ms       16.77\n",
      "yolov5m                  125.90 ms        7.94\n",
      "yolov5l                  243.12 ms        4.11\n",
      "yolov5x                  429.80 ms        2.33\n",
      "_______________________________________________\n"
     ]
    }
   ],
   "source": [
    "print(\"_______________________________________________\")\n",
    "print(\"Model                  Latency (ms)        FPS\")\n",
    "print(\"_______________________________________________\")\n",
    "for model_name, latency, fps in timing_results:\n",
    "    print(f\"{model_name:<16} {latency:>14.2f} ms    {fps:>8.2f}\")\n",
    "print(\"_______________________________________________\")"
   ]
  },
  {
   "cell_type": "markdown",
   "metadata": {},
   "source": [
    "# Visualization"
   ]
  },
  {
   "cell_type": "code",
   "execution_count": 6,
   "metadata": {},
   "outputs": [
    {
     "data": {
      "image/png": "[encoded data removed]",
      "text/plain": [
       "<Figure size 1000x500 with 1 Axes>"
      ]
     },
     "metadata": {},
     "output_type": "display_data"
    },
    {
     "data": {
      "image/png": "[encoded data removed]",
      "text/plain": [
       "<Figure size 1000x500 with 1 Axes>"
      ]
     },
     "metadata": {},
     "output_type": "display_data"
    }
   ],
   "source": [
    "%matplotlib inline\n",
    "\n",
    "# Plot Latency\n",
    "plt.figure(figsize=(10, 5))\n",
    "plt.bar(latencies.keys(), latencies.values(), color='blue')\n",
    "plt.xlabel('Model')\n",
    "plt.ylabel('Latency (ms)')\n",
    "plt.title('YOLOv5 Model Latency')\n",
    "plt.show()\n",
    "\n",
    "# Plot FPS\n",
    "plt.figure(figsize=(10, 5))\n",
    "plt.bar(fps_values.keys(), fps_values.values(), color='red')\n",
    "plt.xlabel('Model')\n",
    "plt.ylabel('Frames Per Second (FPS)')\n",
    "plt.title('YOLOv5 Model FPS')\n",
    "plt.show()\n"
   ]
  },
  {
   "cell_type": "markdown",
   "metadata": {},
   "source": [
    "# Accuracy Analysis"
   ]
  },
  {
   "cell_type": "code",
   "execution_count": 7,
   "metadata": {},
   "outputs": [
    {
     "name": "stdout",
     "output_type": "stream",
     "text": [
      "\u001b[34m\u001b[1mval: \u001b[0mdata=/home/dishapant/Desktop/spp/yolov5_benchmarking_optimization/yolov5/data/coco128.yaml, weights=['yolov5n.pt'], batch_size=32, imgsz=640, conf_thres=0.001, iou_thres=0.65, max_det=300, task=val, device=, workers=8, single_cls=False, augment=False, verbose=False, save_txt=False, save_hybrid=False, save_conf=False, save_json=False, project=runs/val, name=exp, exist_ok=False, half=False, dnn=False\n",
      "YOLOv5 🚀 v7.0-411-gf4d8a84c Python-3.11.11 torch-2.6.0+cu124 CPU\n",
      "\n",
      "Fusing layers... \n",
      "YOLOv5n summary: 213 layers, 1867405 parameters, 0 gradients, 4.5 GFLOPs\n",
      "\u001b[34m\u001b[1mval: \u001b[0mScanning /home/dishapant/Desktop/spp/yolov5_benchmarking_optimization/datas\u001b[0m\n",
      "                 Class     Images  Instances          P          R      mAP50   \n",
      "                   all        128        929      0.629      0.478      0.541       0.35\n",
      "Speed: 0.9ms pre-process, 38.1ms inference, 4.3ms NMS per image at shape (32, 3, 640, 640)\n",
      "Results saved to \u001b[1mruns/val/exp77\u001b[0m\n"
     ]
    }
   ],
   "source": [
    "# For YOLOv5n\n",
    "!python val.py --weights yolov5n.pt --data coco128.yaml --img 640 --iou 0.65 --task val"
   ]
  },
  {
   "cell_type": "code",
   "execution_count": 8,
   "metadata": {},
   "outputs": [
    {
     "name": "stdout",
     "output_type": "stream",
     "text": [
      "\u001b[34m\u001b[1mval: \u001b[0mdata=/home/dishapant/Desktop/spp/yolov5_benchmarking_optimization/yolov5/data/coco128.yaml, weights=['yolov5s.pt'], batch_size=32, imgsz=640, conf_thres=0.001, iou_thres=0.65, max_det=300, task=val, device=, workers=8, single_cls=False, augment=False, verbose=False, save_txt=False, save_hybrid=False, save_conf=False, save_json=False, project=runs/val, name=exp, exist_ok=False, half=False, dnn=False\n",
      "YOLOv5 🚀 v7.0-411-gf4d8a84c Python-3.11.11 torch-2.6.0+cu124 CPU\n",
      "\n",
      "Fusing layers... \n",
      "YOLOv5s summary: 213 layers, 7225885 parameters, 0 gradients, 16.4 GFLOPs\n",
      "\u001b[34m\u001b[1mval: \u001b[0mScanning /home/dishapant/Desktop/spp/yolov5_benchmarking_optimization/datas\u001b[0m\n",
      "                 Class     Images  Instances          P          R      mAP50   \n",
      "                   all        128        929      0.691      0.623      0.706       0.48\n",
      "Speed: 0.8ms pre-process, 74.9ms inference, 2.2ms NMS per image at shape (32, 3, 640, 640)\n",
      "Results saved to \u001b[1mruns/val/exp78\u001b[0m\n"
     ]
    }
   ],
   "source": [
    "# For YOLOv5s\n",
    "!python val.py --weights yolov5s.pt --data coco128.yaml --img 640 --iou 0.65 --task val"
   ]
  },
  {
   "cell_type": "code",
   "execution_count": 9,
   "metadata": {},
   "outputs": [
    {
     "name": "stdout",
     "output_type": "stream",
     "text": [
      "\u001b[34m\u001b[1mval: \u001b[0mdata=/home/dishapant/Desktop/spp/yolov5_benchmarking_optimization/yolov5/data/coco128.yaml, weights=['yolov5m.pt'], batch_size=32, imgsz=640, conf_thres=0.001, iou_thres=0.65, max_det=300, task=val, device=, workers=8, single_cls=False, augment=False, verbose=False, save_txt=False, save_hybrid=False, save_conf=False, save_json=False, project=runs/val, name=exp, exist_ok=False, half=False, dnn=False\n",
      "YOLOv5 🚀 v7.0-411-gf4d8a84c Python-3.11.11 torch-2.6.0+cu124 CPU\n",
      "\n",
      "Fusing layers... \n",
      "YOLOv5m summary: 290 layers, 21172173 parameters, 0 gradients, 48.9 GFLOPs\n",
      "\u001b[34m\u001b[1mval: \u001b[0mScanning /home/dishapant/Desktop/spp/yolov5_benchmarking_optimization/datas\u001b[0m\n",
      "                 Class     Images  Instances          P          R      mAP50   \n",
      "                   all        128        929      0.735      0.694      0.773      0.553\n",
      "Speed: 0.8ms pre-process, 156.7ms inference, 1.9ms NMS per image at shape (32, 3, 640, 640)\n",
      "Results saved to \u001b[1mruns/val/exp79\u001b[0m\n"
     ]
    }
   ],
   "source": [
    "# For YOLOv5m\n",
    "!python val.py --weights yolov5m.pt --data coco128.yaml --img 640 --iou 0.65 --task val"
   ]
  },
  {
   "cell_type": "code",
   "execution_count": 10,
   "metadata": {},
   "outputs": [
    {
     "name": "stdout",
     "output_type": "stream",
     "text": [
      "\u001b[34m\u001b[1mval: \u001b[0mdata=/home/dishapant/Desktop/spp/yolov5_benchmarking_optimization/yolov5/data/coco128.yaml, weights=['yolov5l.pt'], batch_size=32, imgsz=640, conf_thres=0.001, iou_thres=0.65, max_det=300, task=val, device=, workers=8, single_cls=False, augment=False, verbose=False, save_txt=False, save_hybrid=False, save_conf=False, save_json=False, project=runs/val, name=exp, exist_ok=False, half=False, dnn=False\n",
      "YOLOv5 🚀 v7.0-411-gf4d8a84c Python-3.11.11 torch-2.6.0+cu124 CPU\n",
      "\n",
      "Fusing layers... \n",
      "YOLOv5l summary: 367 layers, 46533693 parameters, 0 gradients, 109.0 GFLOPs\n",
      "\u001b[34m\u001b[1mval: \u001b[0mScanning /home/dishapant/Desktop/spp/yolov5_benchmarking_optimization/datas\u001b[0m\n",
      "                 Class     Images  Instances          P          R      mAP50   \n",
      "                   all        128        929      0.795      0.694      0.811      0.602\n",
      "Speed: 0.9ms pre-process, 294.4ms inference, 2.0ms NMS per image at shape (32, 3, 640, 640)\n",
      "Results saved to \u001b[1mruns/val/exp80\u001b[0m\n"
     ]
    }
   ],
   "source": [
    "# For YOLOv5l\n",
    "!python val.py --weights yolov5l.pt --data coco128.yaml --img 640 --iou 0.65 --task val"
   ]
  },
  {
   "cell_type": "code",
   "execution_count": 11,
   "metadata": {},
   "outputs": [
    {
     "name": "stdout",
     "output_type": "stream",
     "text": [
      "\u001b[34m\u001b[1mval: \u001b[0mdata=/home/dishapant/Desktop/spp/yolov5_benchmarking_optimization/yolov5/data/coco128.yaml, weights=['yolov5x.pt'], batch_size=32, imgsz=640, conf_thres=0.001, iou_thres=0.65, max_det=300, task=val, device=, workers=8, single_cls=False, augment=False, verbose=False, save_txt=False, save_hybrid=False, save_conf=False, save_json=False, project=runs/val, name=exp, exist_ok=False, half=False, dnn=False\n",
      "YOLOv5 🚀 v7.0-411-gf4d8a84c Python-3.11.11 torch-2.6.0+cu124 CPU\n",
      "\n",
      "Fusing layers... \n",
      "YOLOv5x summary: 444 layers, 86705005 parameters, 0 gradients, 205.5 GFLOPs\n",
      "\u001b[34m\u001b[1mval: \u001b[0mScanning /home/dishapant/Desktop/spp/yolov5_benchmarking_optimization/datas\u001b[0m\n",
      "                 Class     Images  Instances          P          R      mAP50   \n",
      "                   all        128        929      0.773      0.753      0.824       0.63\n",
      "Speed: 1.0ms pre-process, 515.2ms inference, 1.7ms NMS per image at shape (32, 3, 640, 640)\n",
      "Results saved to \u001b[1mruns/val/exp81\u001b[0m\n"
     ]
    }
   ],
   "source": [
    "# For YOLOv5x\n",
    "!python val.py --weights yolov5x.pt --data coco128.yaml --img 640 --iou 0.65 --task val"
   ]
  },
  {
   "cell_type": "markdown",
   "metadata": {},
   "source": [
    "# Roofline Analysis Information"
   ]
  },
  {
   "cell_type": "code",
   "execution_count": 12,
   "metadata": {},
   "outputs": [
    {
     "name": "stdout",
     "output_type": "stream",
     "text": [
      "\n",
      "\n",
      "===========================================================================\n",
      "Model      Params (M)  Size (MB)   GFLOPs   Utilization (%)   Bound Type\n",
      "===========================================================================\n",
      "yolov5n          1.87       7.12     2.23            17.47     Compute Bound\n",
      "yolov5s          7.23      27.56     8.22            33.61     Compute Bound\n",
      "yolov5m         21.17      80.77    24.44            47.34     Compute Bound\n",
      "yolov5l         46.53     177.51    54.50            54.68     Compute Bound\n",
      "yolov5x         86.71     330.75   102.73            58.30     Compute Bound\n",
      "===========================================================================\n"
     ]
    }
   ],
   "source": [
    "print(\"\\n\")\n",
    "print(\"===========================================================================\")\n",
    "print(\"Model      Params (M)  Size (MB)   GFLOPs   Utilization (%)   Bound Type\")\n",
    "print(\"===========================================================================\")\n",
    "\n",
    "for model_name in models.keys():\n",
    "    params_m = params_dict[model_name]\n",
    "    model_size = model_size_dict[model_name]\n",
    "    gflops = gflops_dict[model_name]\n",
    "    utilization = utilization_dict[model_name]\n",
    "    bound_type = bound_type_dict[model_name]\n",
    "\n",
    "    print(f\"{model_name:<10} {params_m:>10.2f}  {model_size:>9.2f}  {gflops:>7.2f}  \"\n",
    "          f\"{utilization:>15.2f}     {bound_type}\")\n",
    "\n",
    "print(\"===========================================================================\")\n"
   ]
  },
  {
   "cell_type": "markdown",
   "metadata": {},
   "source": [
    "# Per-Layer Analysis"
   ]
  },
  {
   "cell_type": "code",
   "execution_count": 13,
   "metadata": {},
   "outputs": [],
   "source": [
    "per_layer_utilization_dict = {}\n",
    "highest_util_layers = {}\n",
    "lowest_util_layers = {}\n",
    "\n",
    "for model_name in models.keys():\n",
    "    model_util = utilization_dict[model_name]\n",
    "    model_total_gflops = gflops_dict[model_name]\n",
    "    per_layer_gflops = per_layer_gflops_dict[model_name]\n",
    "\n",
    "    # Compute per-layer utilization approx.\n",
    "    per_layer_util = {}\n",
    "    for layer, layer_gflops in per_layer_gflops.items():\n",
    "        if layer.strip() == \"\" or layer.strip() in {\"model\", \"model.model\"}:\n",
    "            continue  # Skip root / aggregate layers\n",
    "        layer_util = (layer_gflops / model_total_gflops) * model_util\n",
    "        per_layer_util[layer] = layer_util\n",
    "\n",
    "    per_layer_utilization_dict[model_name] = per_layer_util\n",
    "\n",
    "    # Sort layers\n",
    "    sorted_layers = sorted(per_layer_util.items(), key=lambda x: x[1], reverse=True)\n",
    "\n",
    "    # Save top and bottom 3 layers\n",
    "    highest_util_layers[model_name] = sorted_layers[:3]\n",
    "    lowest_util_layers[model_name] = sorted_layers[-3:]\n"
   ]
  },
  {
   "cell_type": "code",
   "execution_count": 14,
   "metadata": {},
   "outputs": [
    {
     "name": "stdout",
     "output_type": "stream",
     "text": [
      "\n",
      "===================================================================\n",
      "Per-Layer Utilization Summary\n",
      "===================================================================\n",
      "\n",
      "Model: yolov5n\n",
      "Highest Utilization Layers:\n",
      "    model.model.6                           : 1.95%\n",
      "    model.model.6.m                         : 1.54%\n",
      "    model.model.4                           : 1.43%\n",
      "Lowest Utilization Layers:\n",
      "    model.model.23.cv3.act                  : 0.00%\n",
      "    model.model.23.m.0.cv1.act              : 0.00%\n",
      "    model.model.23.m.0.cv2.act              : 0.00%\n",
      "\n",
      "Model: yolov5s\n",
      "Highest Utilization Layers:\n",
      "    model.model.6                           : 4.07%\n",
      "    model.model.6.m                         : 3.22%\n",
      "    model.model.4                           : 3.00%\n",
      "Lowest Utilization Layers:\n",
      "    model.model.23.cv3.act                  : 0.00%\n",
      "    model.model.23.m.0.cv1.act              : 0.00%\n",
      "    model.model.23.m.0.cv2.act              : 0.00%\n",
      "\n",
      "Model: yolov5m\n",
      "Highest Utilization Layers:\n",
      "    model.model.6                           : 7.77%\n",
      "    model.model.6.m                         : 6.86%\n",
      "    model.model.4                           : 5.48%\n",
      "Lowest Utilization Layers:\n",
      "    model.model.23.m.0.cv2.act              : 0.00%\n",
      "    model.model.23.m.1.cv1.act              : 0.00%\n",
      "    model.model.23.m.1.cv2.act              : 0.00%\n",
      "\n",
      "Model: yolov5l\n",
      "Highest Utilization Layers:\n",
      "    model.model.6                           : 10.31%\n",
      "    model.model.6.m                         : 9.47%\n",
      "    model.model.4                           : 7.15%\n",
      "Lowest Utilization Layers:\n",
      "    model.model.23.m.1.cv2.act              : 0.00%\n",
      "    model.model.23.m.2.cv1.act              : 0.00%\n",
      "    model.model.23.m.2.cv2.act              : 0.00%\n",
      "\n",
      "Model: yolov5x\n",
      "Highest Utilization Layers:\n",
      "    model.model.6                           : 11.90%\n",
      "    model.model.6.m                         : 11.16%\n",
      "    model.model.4                           : 8.18%\n",
      "Lowest Utilization Layers:\n",
      "    model.model.23.m.2.cv2.act              : 0.00%\n",
      "    model.model.23.m.3.cv1.act              : 0.00%\n",
      "    model.model.23.m.3.cv2.act              : 0.00%\n",
      "===================================================================\n"
     ]
    }
   ],
   "source": [
    "print(\"\\n===================================================================\")\n",
    "print(\"Per-Layer Utilization Summary\")\n",
    "print(\"===================================================================\")\n",
    "\n",
    "for model_name in models.keys():\n",
    "    print(f\"\\nModel: {model_name}\")\n",
    "\n",
    "    print(\"Highest Utilization Layers:\")\n",
    "    for layer, util in highest_util_layers[model_name]:\n",
    "        print(f\"    {layer:<40}: {util:.2f}%\")\n",
    "\n",
    "    print(\"Lowest Utilization Layers:\")\n",
    "    for layer, util in lowest_util_layers[model_name]:\n",
    "        print(f\"    {layer:<40}: {util:.2f}%\")\n",
    "print(\"===================================================================\")"
   ]
  },
  {
   "cell_type": "markdown",
   "metadata": {},
   "source": [
    "# cProfile Profiling results"
   ]
  },
  {
   "cell_type": "code",
   "execution_count": 15,
   "metadata": {},
   "outputs": [
    {
     "name": "stdout",
     "output_type": "stream",
     "text": [
      "\n",
      "=== cProfile for yolov5n ===\n",
      "         9472617 function calls (8915165 primitive calls) in 12.865 seconds\n",
      "\n",
      "   Ordered by: internal time\n",
      "   List reduced from 528 to 15 due to restriction <15>\n",
      "\n",
      "   ncalls  tottime  percall  cumtime  percall filename:lineno(function)\n",
      "     6000    1.974    0.000    1.974    0.000 {built-in method torch.conv2d}\n",
      "        1    1.240    1.240    1.240    1.240 {built-in method torch._C._autograd._disable_profiler}\n",
      "        1    1.223    1.223    6.101    6.101 profiler.py:525(_parse_kineto_results)\n",
      "    92800    0.598    0.000    0.616    0.000 profiler_util.py:446(__init__)\n",
      "    79696    0.581    0.000    0.582    0.000 profiler.py:595(<listcomp>)\n",
      "        3    0.435    0.145    0.435    0.145 {built-in method torch._C._autograd.events}\n",
      "    79696    0.424    0.000    0.426    0.000 {built-in method torch._C._autograd.shapes}\n",
      "   207454    0.341    0.000    0.413    0.000 profiler.py:545(_device_memory_usage)\n",
      "     1700    0.271    0.000    0.271    0.000 {built-in method torch.cat}\n",
      "        1    0.270    0.270    0.336    0.336 profiler.py:529(<listcomp>)\n",
      "   574300    0.268    0.000    0.268    0.000 {built-in method torch._C._autograd.device_type}\n",
      "   608201    0.245    0.000    0.245    0.000 {built-in method torch._C._autograd.name}\n",
      "    79696    0.225    0.000    0.227    0.000 {built-in method torch._C._autograd.concrete_inputs}\n",
      "     5700    0.224    0.000    0.224    0.000 {built-in method torch._C._nn.silu_}\n",
      "    92500    0.223    0.000    0.946    0.000 profiler_util.py:674(add)\n",
      "\n",
      "\n",
      "\n",
      "\n",
      "========================================\n",
      "\n",
      "=== cProfile for yolov5s ===\n",
      "         9470408 function calls (8913010 primitive calls) in 17.299 seconds\n",
      "\n",
      "   Ordered by: internal time\n",
      "   List reduced from 352 to 15 due to restriction <15>\n",
      "\n",
      "   ncalls  tottime  percall  cumtime  percall filename:lineno(function)\n",
      "     6000    4.397    0.001    4.397    0.001 {built-in method torch.conv2d}\n",
      "        1    1.950    1.950    7.543    7.543 profiler.py:525(_parse_kineto_results)\n",
      "   207453    1.736    0.000    1.904    0.000 profiler.py:537(_cpu_memory_usage)\n",
      "        1    1.236    1.236    1.236    1.236 {built-in method torch._C._autograd._disable_profiler}\n",
      "    92797    0.831    0.000    0.848    0.000 profiler_util.py:446(__init__)\n",
      "        3    0.427    0.142    0.427    0.142 {built-in method torch._C._autograd.events}\n",
      "   207453    0.389    0.000    0.481    0.000 profiler.py:545(_device_memory_usage)\n",
      "     5700    0.335    0.000    0.335    0.000 {built-in method torch._C._nn.silu_}\n",
      "     1700    0.332    0.000    0.332    0.000 {built-in method torch.cat}\n",
      "   574298    0.319    0.000    0.319    0.000 {built-in method torch._C._autograd.device_type}\n",
      "   608198    0.261    0.000    0.261    0.000 {built-in method torch._C._autograd.name}\n",
      "   244796    0.243    0.000    0.285    0.000 profiler_util.py:561(cpu_time_total)\n",
      "      300    0.234    0.001    0.234    0.001 {built-in method torch.max_pool2d}\n",
      "    92497    0.224    0.000    0.993    0.000 profiler_util.py:674(add)\n",
      "    92497    0.196    0.000    0.224    0.000 profiler_util.py:317(get_key)\n",
      "\n",
      "\n",
      "\n",
      "\n",
      "========================================\n",
      "\n",
      "=== cProfile for yolov5m ===\n",
      "         11995946 function calls (11279556 primitive calls) in 27.075 seconds\n",
      "\n",
      "   Ordered by: internal time\n",
      "   List reduced from 352 to 15 due to restriction <15>\n",
      "\n",
      "   ncalls  tottime  percall  cumtime  percall filename:lineno(function)\n",
      "     8200   10.305    0.001   10.305    0.001 {built-in method torch.conv2d}\n",
      "        1    2.141    2.141    9.282    9.282 profiler.py:525(_parse_kineto_results)\n",
      "        1    1.538    1.538    1.538    1.538 {built-in method torch._C._autograd._disable_profiler}\n",
      "        1    1.464    1.464    1.491    1.491 profiler_util.py:742(<listcomp>)\n",
      "   100196    0.826    0.000    0.829    0.000 {built-in method torch._C._autograd.concrete_inputs}\n",
      "   116195    0.604    0.000    0.605    0.000 profiler_util.py:115(<lambda>)\n",
      "     7900    0.593    0.000    0.593    0.000 {built-in method torch._C._nn.silu_}\n",
      "        3    0.556    0.185    0.556    0.185 {built-in method torch._C._autograd.events}\n",
      "   274853    0.508    0.000    0.626    0.000 profiler.py:545(_device_memory_usage)\n",
      "     1700    0.443    0.000    0.443    0.000 {built-in method torch.cat}\n",
      "   750098    0.401    0.000    0.401    0.000 {built-in method torch._C._autograd.device_type}\n",
      "   100196    0.399    0.000    0.400    0.000 profiler.py:595(<listcomp>)\n",
      "      300    0.343    0.001    0.343    0.001 {built-in method torch.max_pool2d}\n",
      "   770596    0.331    0.000    0.331    0.000 {built-in method torch._C._autograd.name}\n",
      "   274853    0.317    0.000    0.535    0.000 profiler.py:537(_cpu_memory_usage)\n",
      "\n",
      "\n",
      "\n",
      "\n",
      "========================================\n",
      "\n",
      "=== cProfile for yolov5l ===\n",
      "         14521818 function calls (13646412 primitive calls) in 40.934 seconds\n",
      "\n",
      "   Ordered by: internal time\n",
      "   List reduced from 352 to 15 due to restriction <15>\n",
      "\n",
      "   ncalls  tottime  percall  cumtime  percall filename:lineno(function)\n",
      "    10400   20.951    0.002   20.951    0.002 {built-in method torch.conv2d}\n",
      "        1    5.706    5.706   11.024   11.024 profiler.py:525(_parse_kineto_results)\n",
      "        1    1.862    1.862    1.862    1.862 {built-in method torch._C._autograd._disable_profiler}\n",
      "    10100    0.988    0.000    0.988    0.000 {built-in method torch._C._nn.silu_}\n",
      "   342255    0.632    0.000    0.780    0.000 profiler.py:545(_device_memory_usage)\n",
      "        3    0.617    0.206    0.617    0.206 {built-in method torch._C._autograd.events}\n",
      "     1700    0.567    0.000    0.567    0.000 {built-in method torch.cat}\n",
      "   925902    0.498    0.000    0.498    0.000 {built-in method torch._C._autograd.device_type}\n",
      "      300    0.456    0.002    0.456    0.002 {built-in method torch.max_pool2d}\n",
      "   933000    0.399    0.000    0.399    0.000 {built-in method torch._C._autograd.name}\n",
      "   342255    0.390    0.000    0.661    0.000 profiler.py:537(_cpu_memory_usage)\n",
      "   369202    0.368    0.000    0.434    0.000 profiler_util.py:561(cpu_time_total)\n",
      "   139299    0.344    0.000    1.511    0.000 profiler_util.py:674(add)\n",
      "     3300    0.311    0.000   12.723    0.004 common.py:177(forward)\n",
      "   139299    0.303    0.000    0.344    0.000 profiler_util.py:317(get_key)\n",
      "\n",
      "\n",
      "\n",
      "\n",
      "========================================\n",
      "\n",
      "=== cProfile for yolov5x ===\n",
      "         17047036 function calls (16012662 primitive calls) in 63.691 seconds\n",
      "\n",
      "   Ordered by: internal time\n",
      "   List reduced from 352 to 15 due to restriction <15>\n",
      "\n",
      "   ncalls  tottime  percall  cumtime  percall filename:lineno(function)\n",
      "    12600   38.302    0.003   38.302    0.003 {built-in method torch.conv2d}\n",
      "        1    2.962    2.962   13.364   13.364 profiler.py:525(_parse_kineto_results)\n",
      "        1    2.257    2.257    2.257    2.257 {built-in method torch._C._autograd._disable_profiler}\n",
      "        1    2.116    2.116    2.197    2.197 profiler_util.py:737(__init__)\n",
      "    12300    1.483    0.000    1.483    0.000 {built-in method torch._C._nn.silu_}\n",
      "   162991    1.001    0.000    1.029    0.000 profiler_util.py:446(__init__)\n",
      "   162991    0.849    0.000    0.850    0.000 profiler_util.py:115(<lambda>)\n",
      "   409652    0.757    0.000    0.935    0.000 profiler.py:545(_device_memory_usage)\n",
      "        3    0.733    0.244    0.733    0.244 {built-in method torch._C._autograd.events}\n",
      "     1700    0.707    0.000    0.707    0.000 {built-in method torch.cat}\n",
      "     4400    0.616    0.000   26.525    0.006 common.py:177(forward)\n",
      "  1101696    0.594    0.000    0.594    0.000 {built-in method torch._C._autograd.device_type}\n",
      "      300    0.568    0.002    0.568    0.002 {built-in method torch.max_pool2d}\n",
      "   141196    0.563    0.000    0.565    0.000 profiler.py:595(<listcomp>)\n",
      "   141196    0.548    0.000    0.551    0.000 {built-in method torch._C._autograd.shapes}\n",
      "\n",
      "\n",
      "\n",
      "\n",
      "========================================\n"
     ]
    }
   ],
   "source": [
    "for model_name, stats in profile_outputs.items():\n",
    "    print(f\"\\n=== cProfile for {model_name} ===\")\n",
    "    print(stats)\n",
    "    print(\"\\n========================================\")"
   ]
  },
  {
   "cell_type": "markdown",
   "metadata": {},
   "source": [
    "# Pytorch Profiler Results"
   ]
  },
  {
   "cell_type": "code",
   "execution_count": 16,
   "metadata": {},
   "outputs": [
    {
     "name": "stdout",
     "output_type": "stream",
     "text": [
      "Profiler for yolov5n:\n",
      "\n",
      "---------------------------------  ------------  ------------  ------------  ------------  ------------  ------------  ------------  ------------  \n",
      "                             Name    Self CPU %      Self CPU   CPU total %     CPU total  CPU time avg       CPU Mem  Self CPU Mem    # of Calls  \n",
      "---------------------------------  ------------  ------------  ------------  ------------  ------------  ------------  ------------  ------------  \n",
      "                     aten::conv2d         0.78%      21.756ms        69.05%        1.923s     320.533us       5.20 Gb           0 b          6000  \n",
      "                aten::convolution         1.02%      28.429ms        68.26%        1.901s     316.907us       5.20 Gb           0 b          6000  \n",
      "               aten::_convolution         1.32%      36.872ms        67.24%        1.873s     312.169us       5.20 Gb           0 b          6000  \n",
      "         aten::mkldnn_convolution        64.30%        1.791s        65.92%        1.836s     306.024us       5.20 Gb           0 b          6000  \n",
      "                        aten::cat         8.40%     233.982ms         9.17%     255.284ms     150.167us       3.16 Gb       3.16 Gb          1700  \n",
      "                      aten::silu_         7.49%     208.716ms         7.49%     208.716ms      36.617us           0 b           0 b          5700  \n",
      "                 aten::max_pool2d         0.04%       1.165ms         4.23%     117.827ms     392.757us      60.55 Mb    -113.28 Mb           300  \n",
      "    aten::max_pool2d_with_indices         4.19%     116.662ms         4.19%     116.662ms     388.872us     175.78 Mb     175.78 Mb           300  \n",
      "                      aten::copy_         3.23%      89.838ms         3.23%      89.838ms      59.892us           0 b           0 b          1500  \n",
      "                 aten::contiguous         0.07%       2.026ms         2.78%      77.372ms     128.953us     996.46 Mb           0 b           600  \n",
      "---------------------------------  ------------  ------------  ------------  ------------  ------------  ------------  ------------  ------------  \n",
      "Self CPU time total: 2.785s\n",
      "\n",
      "--------------------------------------------------------------------------------\n",
      "Profiler for yolov5s:\n",
      "\n",
      "---------------------------------  ------------  ------------  ------------  ------------  ------------  ------------  ------------  ------------  \n",
      "                             Name    Self CPU %      Self CPU   CPU total %     CPU total  CPU time avg       CPU Mem  Self CPU Mem    # of Calls  \n",
      "---------------------------------  ------------  ------------  ------------  ------------  ------------  ------------  ------------  ------------  \n",
      "                     aten::conv2d         0.56%      30.769ms        78.74%        4.325s     720.762us       9.61 Gb           0 b          6000  \n",
      "                aten::convolution         0.70%      38.184ms        78.18%        4.294s     715.634us       9.61 Gb           0 b          6000  \n",
      "               aten::_convolution         0.88%      48.366ms        77.48%        4.256s     709.270us       9.61 Gb           0 b          6000  \n",
      "         aten::mkldnn_convolution        75.26%        4.133s        76.60%        4.207s     701.208us       9.61 Gb           0 b          6000  \n",
      "                        aten::cat         5.24%     287.540ms         5.69%     312.651ms     183.912us       4.72 Gb       4.72 Gb          1700  \n",
      "                      aten::silu_         5.68%     312.137ms         5.68%     312.137ms      54.761us           0 b           0 b          5700  \n",
      "                 aten::max_pool2d         0.03%       1.416ms         4.21%     231.228ms     770.760us     117.97 Mb    -232.81 Mb           300  \n",
      "    aten::max_pool2d_with_indices         4.18%     229.812ms         4.18%     229.812ms     766.041us     351.56 Mb     351.56 Mb           300  \n",
      "                      aten::copy_         1.99%     109.560ms         1.99%     109.560ms      73.040us           0 b           0 b          1500  \n",
      "                 aten::contiguous         0.03%       1.592ms         1.48%      81.107ms     135.179us       1.07 Gb           0 b           600  \n",
      "---------------------------------  ------------  ------------  ------------  ------------  ------------  ------------  ------------  ------------  \n",
      "Self CPU time total: 5.492s\n",
      "\n",
      "--------------------------------------------------------------------------------\n",
      "Profiler for yolov5m:\n",
      "\n",
      "---------------------------------  ------------  ------------  ------------  ------------  ------------  ------------  ------------  ------------  \n",
      "                             Name    Self CPU %      Self CPU   CPU total %     CPU total  CPU time avg       CPU Mem  Self CPU Mem    # of Calls  \n",
      "---------------------------------  ------------  ------------  ------------  ------------  ------------  ------------  ------------  ------------  \n",
      "                     aten::conv2d         0.40%      47.990ms        85.70%       10.195s       1.243ms      17.68 Gb           0 b          8200  \n",
      "                aten::convolution         0.48%      56.711ms        85.30%       10.147s       1.237ms      17.68 Gb           0 b          8200  \n",
      "               aten::_convolution         0.58%      69.066ms        84.82%       10.090s       1.230ms      17.68 Gb           0 b          8200  \n",
      "         aten::mkldnn_convolution        83.27%        9.906s        84.24%       10.021s       1.222ms      17.68 Gb           0 b          8200  \n",
      "                      aten::silu_         4.69%     557.735ms         4.69%     557.735ms      70.599us           0 b           0 b          7900  \n",
      "                        aten::cat         3.31%     394.127ms         3.54%     420.552ms     247.384us       6.29 Gb       6.29 Gb          1700  \n",
      "                 aten::max_pool2d         0.01%       1.513ms         2.86%     340.073ms       1.134ms     175.78 Mb    -351.56 Mb           300  \n",
      "    aten::max_pool2d_with_indices         2.85%     338.560ms         2.85%     338.560ms       1.129ms     527.34 Mb     527.34 Mb           300  \n",
      "                      aten::copy_         0.93%     110.112ms         0.93%     110.112ms      73.408us           0 b           0 b          1500  \n",
      "                        aten::add         0.81%      96.814ms         0.81%      96.814ms      56.949us       2.65 Gb       2.65 Gb          1700  \n",
      "---------------------------------  ------------  ------------  ------------  ------------  ------------  ------------  ------------  ------------  \n",
      "Self CPU time total: 11.896s\n",
      "\n",
      "--------------------------------------------------------------------------------\n",
      "Profiler for yolov5l:\n",
      "\n",
      "---------------------------------  ------------  ------------  ------------  ------------  ------------  ------------  ------------  ------------  \n",
      "                             Name    Self CPU %      Self CPU   CPU total %     CPU total  CPU time avg       CPU Mem  Self CPU Mem    # of Calls  \n",
      "---------------------------------  ------------  ------------  ------------  ------------  ------------  ------------  ------------  ------------  \n",
      "                     aten::conv2d         0.29%      68.006ms        89.13%       20.784s       1.998ms      28.19 Gb           0 b         10400  \n",
      "                aten::convolution         0.36%      82.966ms        88.83%       20.716s       1.992ms      28.19 Gb           0 b         10400  \n",
      "               aten::_convolution         0.42%      98.222ms        88.48%       20.633s       1.984ms      28.19 Gb           0 b         10400  \n",
      "         aten::mkldnn_convolution        87.23%       20.343s        88.06%       20.535s       1.975ms      28.19 Gb           0 b         10400  \n",
      "                      aten::silu_         4.01%     934.629ms         4.01%     934.629ms      92.538us           0 b           0 b         10100  \n",
      "                        aten::cat         2.21%     514.412ms         2.33%     542.304ms     319.002us       7.85 Gb       7.85 Gb          1700  \n",
      "                 aten::max_pool2d         0.01%       1.774ms         1.94%     452.797ms       1.509ms     234.38 Mb    -468.75 Mb           300  \n",
      "    aten::max_pool2d_with_indices         1.93%     451.023ms         1.93%     451.023ms       1.503ms     703.12 Mb     703.12 Mb           300  \n",
      "                        aten::add         1.09%     255.093ms         1.09%     255.093ms     106.289us       5.28 Gb       5.28 Gb          2400  \n",
      "                      aten::copy_         0.63%     146.040ms         0.63%     146.040ms      97.360us           0 b           0 b          1500  \n",
      "---------------------------------  ------------  ------------  ------------  ------------  ------------  ------------  ------------  ------------  \n",
      "Self CPU time total: 23.320s\n",
      "\n",
      "--------------------------------------------------------------------------------\n",
      "Profiler for yolov5x:\n",
      "\n",
      "---------------------------------  ------------  ------------  ------------  ------------  ------------  ------------  ------------  ------------  \n",
      "                             Name    Self CPU %      Self CPU   CPU total %     CPU total  CPU time avg       CPU Mem  Self CPU Mem    # of Calls  \n",
      "---------------------------------  ------------  ------------  ------------  ------------  ------------  ------------  ------------  ------------  \n",
      "                     aten::conv2d         0.27%     113.750ms        91.45%       38.062s       3.021ms      41.14 Gb           0 b         12600  \n",
      "                aten::convolution         0.29%     121.178ms        91.18%       37.948s       3.012ms      41.14 Gb           0 b         12600  \n",
      "               aten::_convolution         0.33%     135.526ms        90.89%       37.827s       3.002ms      41.14 Gb           0 b         12600  \n",
      "         aten::mkldnn_convolution        89.65%       37.312s        90.56%       37.691s       2.991ms      41.14 Gb           0 b         12600  \n",
      "                      aten::silu_         3.38%        1.408s         3.38%        1.408s     114.478us           0 b           0 b         12300  \n",
      "                        aten::cat         1.56%     650.724ms         1.63%     679.852ms     399.913us       9.42 Gb       9.42 Gb          1700  \n",
      "                 aten::max_pool2d         0.01%       2.085ms         1.36%     564.146ms       1.880ms     292.97 Mb    -585.94 Mb           300  \n",
      "    aten::max_pool2d_with_indices         1.35%     562.061ms         1.35%     562.061ms       1.874ms     878.91 Mb     878.91 Mb           300  \n",
      "                        aten::add         1.26%     525.184ms         1.26%     525.184ms     169.414us       8.79 Gb       8.79 Gb          3100  \n",
      "                      aten::empty         0.71%     295.738ms         0.71%     295.738ms      11.047us      42.53 Gb      42.53 Gb         26772  \n",
      "---------------------------------  ------------  ------------  ------------  ------------  ------------  ------------  ------------  ------------  \n",
      "Self CPU time total: 41.620s\n",
      "\n",
      "--------------------------------------------------------------------------------\n"
     ]
    }
   ],
   "source": [
    "for model_name, prof_table in profiler_tables.items():\n",
    "    print(f\"Profiler for {model_name}:\\n\")\n",
    "    print(prof_table)\n",
    "    print(\"-\" * 80)\n",
    "\n"
   ]
  },
  {
   "cell_type": "markdown",
   "metadata": {},
   "source": [
    "# Optimizations"
   ]
  },
  {
   "cell_type": "markdown",
   "metadata": {},
   "source": [
    "## Mixed Precision"
   ]
  },
  {
   "cell_type": "code",
   "execution_count": 17,
   "metadata": {},
   "outputs": [
    {
     "name": "stdout",
     "output_type": "stream",
     "text": [
      "\n",
      "--- Optimizing yolov5n with Quantization + ONNX + Batching ---\n"
     ]
    },
    {
     "name": "stderr",
     "output_type": "stream",
     "text": [
      "/home/dishapant/Desktop/spp/yolov5_benchmarking_optimization/yolov5/models/common.py:700: TracerWarning: Converting a tensor to a Python boolean might cause the trace to be incorrect. We can't record the data flow of Python values, so this value will be treated as a constant in the future. This means that the trace might not generalize to other inputs!\n",
      "  y = self.model(im, augment=augment, visualize=visualize) if augment or visualize else self.model(im)\n",
      "/home/dishapant/Desktop/spp/yolov5_benchmarking_optimization/yolov5/models/yolo.py:101: TracerWarning: Converting a tensor to a Python boolean might cause the trace to be incorrect. We can't record the data flow of Python values, so this value will be treated as a constant in the future. This means that the trace might not generalize to other inputs!\n",
      "  if self.dynamic or self.grid[i].shape[2:4] != x[i].shape[2:4]:\n",
      "Unsupported operator aten::silu_ encountered 57 time(s)\n",
      "Unsupported operator aten::add encountered 10 time(s)\n",
      "Unsupported operator aten::max_pool2d encountered 3 time(s)\n",
      "Unsupported operator aten::mul encountered 22 time(s)\n",
      "Unsupported operator aten::sigmoid encountered 3 time(s)\n",
      "Unsupported operator aten::pow encountered 3 time(s)\n",
      "/home/dishapant/Desktop/spp/yolov5_benchmarking_optimization/yolov5/models/common.py:700: TracerWarning: Converting a tensor to a Python boolean might cause the trace to be incorrect. We can't record the data flow of Python values, so this value will be treated as a constant in the future. This means that the trace might not generalize to other inputs!\n",
      "  y = self.model(im, augment=augment, visualize=visualize) if augment or visualize else self.model(im)\n",
      "/home/dishapant/Desktop/spp/yolov5_benchmarking_optimization/yolov5/models/yolo.py:101: TracerWarning: Converting a tensor to a Python boolean might cause the trace to be incorrect. We can't record the data flow of Python values, so this value will be treated as a constant in the future. This means that the trace might not generalize to other inputs!\n",
      "  if self.dynamic or self.grid[i].shape[2:4] != x[i].shape[2:4]:\n"
     ]
    },
    {
     "name": "stdout",
     "output_type": "stream",
     "text": [
      "\n",
      "--- Optimizing yolov5s with Quantization + ONNX + Batching ---\n"
     ]
    },
    {
     "name": "stderr",
     "output_type": "stream",
     "text": [
      "Unsupported operator aten::silu_ encountered 57 time(s)\n",
      "Unsupported operator aten::add encountered 10 time(s)\n",
      "Unsupported operator aten::max_pool2d encountered 3 time(s)\n",
      "Unsupported operator aten::mul encountered 22 time(s)\n",
      "Unsupported operator aten::sigmoid encountered 3 time(s)\n",
      "Unsupported operator aten::pow encountered 3 time(s)\n",
      "/home/dishapant/Desktop/spp/yolov5_benchmarking_optimization/yolov5/models/common.py:700: TracerWarning: Converting a tensor to a Python boolean might cause the trace to be incorrect. We can't record the data flow of Python values, so this value will be treated as a constant in the future. This means that the trace might not generalize to other inputs!\n",
      "  y = self.model(im, augment=augment, visualize=visualize) if augment or visualize else self.model(im)\n"
     ]
    },
    {
     "name": "stdout",
     "output_type": "stream",
     "text": [
      "\n",
      "--- Optimizing yolov5m with Quantization + ONNX + Batching ---\n"
     ]
    },
    {
     "name": "stderr",
     "output_type": "stream",
     "text": [
      "/home/dishapant/Desktop/spp/yolov5_benchmarking_optimization/yolov5/models/yolo.py:101: TracerWarning: Converting a tensor to a Python boolean might cause the trace to be incorrect. We can't record the data flow of Python values, so this value will be treated as a constant in the future. This means that the trace might not generalize to other inputs!\n",
      "  if self.dynamic or self.grid[i].shape[2:4] != x[i].shape[2:4]:\n",
      "Unsupported operator aten::silu_ encountered 79 time(s)\n",
      "Unsupported operator aten::add encountered 17 time(s)\n",
      "Unsupported operator aten::max_pool2d encountered 3 time(s)\n",
      "Unsupported operator aten::mul encountered 22 time(s)\n",
      "Unsupported operator aten::sigmoid encountered 3 time(s)\n",
      "Unsupported operator aten::pow encountered 3 time(s)\n",
      "/home/dishapant/Desktop/spp/yolov5_benchmarking_optimization/yolov5/models/common.py:700: TracerWarning: Converting a tensor to a Python boolean might cause the trace to be incorrect. We can't record the data flow of Python values, so this value will be treated as a constant in the future. This means that the trace might not generalize to other inputs!\n",
      "  y = self.model(im, augment=augment, visualize=visualize) if augment or visualize else self.model(im)\n"
     ]
    },
    {
     "name": "stdout",
     "output_type": "stream",
     "text": [
      "\n",
      "--- Optimizing yolov5l with Quantization + ONNX + Batching ---\n"
     ]
    },
    {
     "name": "stderr",
     "output_type": "stream",
     "text": [
      "/home/dishapant/Desktop/spp/yolov5_benchmarking_optimization/yolov5/models/yolo.py:101: TracerWarning: Converting a tensor to a Python boolean might cause the trace to be incorrect. We can't record the data flow of Python values, so this value will be treated as a constant in the future. This means that the trace might not generalize to other inputs!\n",
      "  if self.dynamic or self.grid[i].shape[2:4] != x[i].shape[2:4]:\n",
      "Unsupported operator aten::silu_ encountered 101 time(s)\n",
      "Unsupported operator aten::add encountered 24 time(s)\n",
      "Unsupported operator aten::max_pool2d encountered 3 time(s)\n",
      "Unsupported operator aten::mul encountered 22 time(s)\n",
      "Unsupported operator aten::sigmoid encountered 3 time(s)\n",
      "Unsupported operator aten::pow encountered 3 time(s)\n",
      "/home/dishapant/Desktop/spp/yolov5_benchmarking_optimization/yolov5/models/common.py:700: TracerWarning: Converting a tensor to a Python boolean might cause the trace to be incorrect. We can't record the data flow of Python values, so this value will be treated as a constant in the future. This means that the trace might not generalize to other inputs!\n",
      "  y = self.model(im, augment=augment, visualize=visualize) if augment or visualize else self.model(im)\n"
     ]
    },
    {
     "name": "stdout",
     "output_type": "stream",
     "text": [
      "\n",
      "--- Optimizing yolov5x with Quantization + ONNX + Batching ---\n"
     ]
    },
    {
     "name": "stderr",
     "output_type": "stream",
     "text": [
      "/home/dishapant/Desktop/spp/yolov5_benchmarking_optimization/yolov5/models/yolo.py:101: TracerWarning: Converting a tensor to a Python boolean might cause the trace to be incorrect. We can't record the data flow of Python values, so this value will be treated as a constant in the future. This means that the trace might not generalize to other inputs!\n",
      "  if self.dynamic or self.grid[i].shape[2:4] != x[i].shape[2:4]:\n",
      "Unsupported operator aten::silu_ encountered 123 time(s)\n",
      "Unsupported operator aten::add encountered 31 time(s)\n",
      "Unsupported operator aten::max_pool2d encountered 3 time(s)\n",
      "Unsupported operator aten::mul encountered 22 time(s)\n",
      "Unsupported operator aten::sigmoid encountered 3 time(s)\n",
      "Unsupported operator aten::pow encountered 3 time(s)\n"
     ]
    }
   ],
   "source": [
    "results = {}\n",
    "batch_size = 4\n",
    "\n",
    "for model_name, model in models.items():\n",
    "    print(f\"\\n--- Optimizing {model_name} with Quantization + ONNX + Batching ---\")\n",
    "\n",
    "    # 1. Quantize model (Dynamic INT8)\n",
    "    quantized_model = quantize_dynamic(model.to(device).eval(), {torch.nn.Linear}, dtype=torch.qint8)\n",
    "\n",
    "    # 2. Export to ONNX\n",
    "    dummy = torch.randn(1, 3, 640, 640).to(device)\n",
    "    onnx_path = f\"{model_name}_quant.onnx\"\n",
    "    torch.onnx.export(\n",
    "        quantized_model,\n",
    "        dummy,\n",
    "        onnx_path,\n",
    "        input_names=[\"input\"],\n",
    "        output_names=[\"output\"],\n",
    "        opset_version=12,\n",
    "        dynamic_axes={\"input\": {0: \"batch_size\"}, \"output\": {0: \"batch_size\"}},\n",
    "        verbose=False\n",
    "    )\n",
    "\n",
    "    # 3. Inference with ONNX Runtime\n",
    "    ort_session = ort.InferenceSession(onnx_path, providers=[\"CPUExecutionProvider\"])\n",
    "\n",
    "    # Load and batch images\n",
    "    images = []\n",
    "    for img_path in image_files:\n",
    "        img = Image.open(img_path).convert('RGB')\n",
    "        tensor = transform(img).numpy()\n",
    "        images.append(tensor)\n",
    "    all_batches = [images[i:i+batch_size] for i in range(0, len(images), batch_size)]\n",
    "\n",
    "    total_time = 0\n",
    "    for batch in all_batches:\n",
    "        input_batch = np.stack(batch, axis=0).astype(np.float32)  # ONNX uses FP32 input\n",
    "        start = time.time()\n",
    "        _ = ort_session.run(None, {\"input\": input_batch})\n",
    "        end = time.time()\n",
    "        total_time += (end - start)\n",
    "\n",
    "    total_images = len(images)\n",
    "    avg_latency = (total_time / total_images) * 1000\n",
    "    avg_fps = total_images / total_time\n",
    "\n",
    "    # Model summary\n",
    "    info = summary(\n",
    "        model,\n",
    "        input_size=(1, 3, 640, 640),\n",
    "        dtypes=[torch.float],\n",
    "        device=device,\n",
    "        verbose=0\n",
    "    )\n",
    "    total_params = info.total_params\n",
    "    params_m = total_params / 1e6\n",
    "    model_size_mb = total_params * 4 / (1024 ** 2)\n",
    "\n",
    "    # FLOPs\n",
    "    input_tensor = torch.randn(1, 3, 640, 640).to(device)\n",
    "    flops = FlopCountAnalysis(model, input_tensor)\n",
    "    total_flops = flops.total()\n",
    "    gflops = total_flops / 1e9\n",
    "\n",
    "    # Utilization\n",
    "    actual_gflops_per_second = gflops / (avg_latency / 1000)\n",
    "    utilization = (actual_gflops_per_second / PEAK_GFLOPS) * 100\n",
    "\n",
    "    # OI (Operational Intensity)\n",
    "    input_size_bytes = 3 * 640 * 640 * 4  # FP32 = 4 bytes\n",
    "    activation_estimate = input_size_bytes * 3\n",
    "    memory_accessed = total_params * 4 + activation_estimate  # INT8 model, but input is FP32\n",
    "    oi = total_flops / memory_accessed\n",
    "    peak_oi = PEAK_GFLOPS / PEAK_BANDWIDTH\n",
    "    bound_type = \"Compute Bound\" if oi > peak_oi else \"Memory Bound\"\n",
    "\n",
    "    results[model_name] = {\n",
    "        \"Latency (ms)\": avg_latency,\n",
    "        \"FPS\": avg_fps,\n",
    "        \"Params (M)\": params_m,\n",
    "        \"Model Size (MB)\": model_size_mb,\n",
    "        \"GFLOPs\": gflops,\n",
    "        \"Utilization (%)\": utilization,\n",
    "        \"Operational Intensity\": oi,\n",
    "        \"Bound Type\": bound_type,\n",
    "    }"
   ]
  },
  {
   "cell_type": "code",
   "execution_count": 18,
   "metadata": {},
   "outputs": [
    {
     "name": "stdout",
     "output_type": "stream",
     "text": [
      "====================================================================================================\n",
      "Model        Latency (ms)        FPS   Params (M)    Size (MB)     GFLOPs    Utilization (%)     Bound Type\n",
      "====================================================================================================\n",
      "yolov5n             20.32      49.22         1.87         7.12       2.23              26.83  Compute Bound\n",
      "yolov5s             68.20      14.66         7.23        27.56       8.22              29.39  Compute Bound\n",
      "yolov5m            130.23       7.68        21.17        80.77      24.44              45.77  Compute Bound\n",
      "yolov5l            254.88       3.92        46.53       177.51      54.50              52.15  Compute Bound\n",
      "yolov5x            449.10       2.23        86.71       330.75     102.73              55.79  Compute Bound\n",
      "====================================================================================================\n"
     ]
    }
   ],
   "source": [
    "print(\"=\" * 100)\n",
    "print(f\"{'Model':<10} {'Latency (ms)':>14} {'FPS':>10} {'Params (M)':>12} {'Size (MB)':>12} {'GFLOPs':>10} {'Utilization (%)':>18} {'Bound Type':>14}\")\n",
    "print(\"=\" * 100)\n",
    "\n",
    "for model_name, stats in results.items():\n",
    "    print(f\"{model_name:<10} \"\n",
    "          f\"{stats['Latency (ms)']:>14.2f} \"\n",
    "          f\"{stats['FPS']:>10.2f} \"\n",
    "          f\"{stats['Params (M)']:>12.2f} \"\n",
    "          f\"{stats['Model Size (MB)']:>12.2f} \"\n",
    "          f\"{stats['GFLOPs']:>10.2f} \"\n",
    "          f\"{stats['Utilization (%)']:>18.2f} \"\n",
    "          f\"{stats['Bound Type']:>14}\")\n",
    "\n",
    "print(\"=\" * 100)\n"
   ]
  }
 ],
 "metadata": {
  "kernelspec": {
   "display_name": "yolo-benchmark",
   "language": "python",
   "name": "python3"
  },
  "language_info": {
   "codemirror_mode": {
    "name": "ipython",
    "version": 3
   },
   "file_extension": ".py",
   "mimetype": "text/x-python",
   "name": "python",
   "nbconvert_exporter": "python",
   "pygments_lexer": "ipython3",
   "version": "3.11.11"
  }
 },
 "nbformat": 4,
 "nbformat_minor": 2
}
