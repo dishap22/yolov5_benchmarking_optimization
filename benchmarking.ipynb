{
 "cells": [
  {
   "cell_type": "markdown",
   "metadata": {},
   "source": [
    "# Import requirements"
   ]
  },
  {
   "cell_type": "code",
   "execution_count": 47,
   "metadata": {},
   "outputs": [],
   "source": [
    "import time\n",
    "import os\n",
    "import torch\n",
    "import torchvision.transforms as transforms\n",
    "import matplotlib.pyplot as plt\n",
    "from pathlib import Path\n",
    "from PIL import Image\n",
    "from torchinfo import summary\n",
    "from fvcore.nn import FlopCountAnalysis\n",
    "import torch.profiler\n",
    "import cProfile\n",
    "import pstats\n",
    "import io\n",
    "\n",
    "current_dir = os.path.basename(os.getcwd())\n",
    "\n",
    "if current_dir != \"yolov5\":\n",
    "    if os.path.isdir(\"yolov5\"):\n",
    "        os.chdir(\"yolov5\")\n",
    "\n",
    "from models.common import DetectMultiBackend\n",
    "from utils.torch_utils import select_device\n"
   ]
  },
  {
   "cell_type": "markdown",
   "metadata": {},
   "source": [
    "# Load COCO 128 dataset"
   ]
  },
  {
   "cell_type": "code",
   "execution_count": 48,
   "metadata": {},
   "outputs": [
    {
     "name": "stdout",
     "output_type": "stream",
     "text": [
      "Total images: 100\n"
     ]
    }
   ],
   "source": [
    "data_path  = Path(\"../datasets/coco128/images/train2017\")\n",
    "image_files = list(data_path.glob(\"*.jpg\"))[:100]\n",
    "print(f\"Total images: {len(image_files)}\")"
   ]
  },
  {
   "cell_type": "markdown",
   "metadata": {},
   "source": [
    "# Load YOLOv5 models"
   ]
  },
  {
   "cell_type": "code",
   "execution_count": 49,
   "metadata": {},
   "outputs": [
    {
     "name": "stderr",
     "output_type": "stream",
     "text": [
      "YOLOv5 🚀 v7.0-411-gf4d8a84c Python-3.11.11 torch-2.6.0+cu124 CUDA:0 (NVIDIA GeForce RTX 3060 Laptop GPU, 5938MiB)\n",
      "\n",
      "Fusing layers... \n",
      "YOLOv5n summary: 213 layers, 1867405 parameters, 0 gradients, 4.5 GFLOPs\n"
     ]
    },
    {
     "name": "stdout",
     "output_type": "stream",
     "text": [
      "Using device: cuda:0\n"
     ]
    },
    {
     "name": "stderr",
     "output_type": "stream",
     "text": [
      "Fusing layers... \n",
      "YOLOv5s summary: 213 layers, 7225885 parameters, 0 gradients, 16.4 GFLOPs\n",
      "Fusing layers... \n",
      "YOLOv5m summary: 290 layers, 21172173 parameters, 0 gradients, 48.9 GFLOPs\n",
      "Fusing layers... \n",
      "YOLOv5l summary: 367 layers, 46533693 parameters, 0 gradients, 109.0 GFLOPs\n",
      "Fusing layers... \n",
      "YOLOv5x summary: 444 layers, 86705005 parameters, 0 gradients, 205.5 GFLOPs\n"
     ]
    }
   ],
   "source": [
    "device = select_device(\"0\" if torch.cuda.is_available() else \"cpu\")\n",
    "print(f\"Using device: {device}\")\n",
    "\n",
    "models  = {\n",
    "    'yolov5n': DetectMultiBackend('yolov5n.pt', device=device),\n",
    "    'yolov5s': DetectMultiBackend('yolov5s.pt', device=device),\n",
    "    'yolov5m': DetectMultiBackend('yolov5m.pt', device=device),\n",
    "    'yolov5l': DetectMultiBackend('yolov5l.pt', device=device),\n",
    "    'yolov5x': DetectMultiBackend('yolov5x.pt', device=device),\n",
    "}"
   ]
  },
  {
   "cell_type": "markdown",
   "metadata": {},
   "source": [
    "# Run Inference and Benchmark Performance"
   ]
  },
  {
   "cell_type": "code",
   "execution_count": 50,
   "metadata": {},
   "outputs": [
    {
     "name": "stderr",
     "output_type": "stream",
     "text": [
      "Exception ignored When destroying _lsprof profiler:\n",
      "Traceback (most recent call last):\n",
      "  File \"/tmp/ipykernel_17907/2263274551.py\", line 64, in <module>\n",
      "RuntimeError: Cannot install a profile function while another profile function is being installed\n",
      "Unsupported operator aten::silu_ encountered 57 time(s)\n",
      "Unsupported operator aten::add encountered 10 time(s)\n",
      "Unsupported operator aten::max_pool2d encountered 3 time(s)\n",
      "Unsupported operator aten::mul encountered 22 time(s)\n",
      "Unsupported operator aten::sigmoid encountered 3 time(s)\n",
      "Unsupported operator aten::pow encountered 3 time(s)\n",
      "Unsupported operator aten::silu_ encountered 57 time(s)\n",
      "Unsupported operator aten::add encountered 10 time(s)\n",
      "Unsupported operator aten::max_pool2d encountered 3 time(s)\n",
      "Unsupported operator aten::mul encountered 22 time(s)\n",
      "Unsupported operator aten::sigmoid encountered 3 time(s)\n",
      "Unsupported operator aten::pow encountered 3 time(s)\n",
      "Unsupported operator aten::silu_ encountered 79 time(s)\n",
      "Unsupported operator aten::add encountered 17 time(s)\n",
      "Unsupported operator aten::max_pool2d encountered 3 time(s)\n",
      "Unsupported operator aten::mul encountered 22 time(s)\n",
      "Unsupported operator aten::sigmoid encountered 3 time(s)\n",
      "Unsupported operator aten::pow encountered 3 time(s)\n",
      "Unsupported operator aten::silu_ encountered 101 time(s)\n",
      "Unsupported operator aten::add encountered 24 time(s)\n",
      "Unsupported operator aten::max_pool2d encountered 3 time(s)\n",
      "Unsupported operator aten::mul encountered 22 time(s)\n",
      "Unsupported operator aten::sigmoid encountered 3 time(s)\n",
      "Unsupported operator aten::pow encountered 3 time(s)\n",
      "Unsupported operator aten::silu_ encountered 123 time(s)\n",
      "Unsupported operator aten::add encountered 31 time(s)\n",
      "Unsupported operator aten::max_pool2d encountered 3 time(s)\n",
      "Unsupported operator aten::mul encountered 22 time(s)\n",
      "Unsupported operator aten::sigmoid encountered 3 time(s)\n",
      "Unsupported operator aten::pow encountered 3 time(s)\n"
     ]
    }
   ],
   "source": [
    "transform = transforms.Compose([\n",
    "    transforms.ToTensor(),\n",
    "    transforms.Resize((640, 640))\n",
    "])\n",
    "\n",
    "\n",
    "latencies = {}\n",
    "fps_values = {}\n",
    "gflops_dict = {}\n",
    "params_dict = {}\n",
    "utilization_dict = {}\n",
    "model_size_dict = {}\n",
    "per_layer_gflops_dict = {}\n",
    "oi_dict = {}\n",
    "bound_type_dict = {}\n",
    "timing_results = []\n",
    "profile_outputs = {}\n",
    "profiler_tables = {}\n",
    "\n",
    "PEAK_GFLOPS = 410 # GFLOPS\n",
    "PEAK_BANDWIDTH = 28.1 # GB/s\n",
    "\n",
    "if device != 'cpu:sk':  # GPU mode\n",
    "    PEAK_GFLOPS = 10940  # RTX 3060 Laptop\n",
    "    PEAK_BANDWIDTH = 336\n",
    "\n",
    "for model_name, model in models.items():\n",
    "\n",
    "    model = model.to(device).eval()\n",
    "    dummy = torch.randn(1, 3, 640, 640).to(device)\n",
    "    for _ in range(3):\n",
    "        with torch.no_grad():\n",
    "            _ = model(dummy)\n",
    "\n",
    "    def profile_model_inference(model, image_files, transform, device):\n",
    "        total_time = 0\n",
    "        with torch.profiler.profile(\n",
    "            activities=[\n",
    "                torch.profiler.ProfilerActivity.CPU,\n",
    "                torch.profiler.ProfilerActivity.CUDA\n",
    "            ] if torch.cuda.is_available() else [torch.profiler.ProfilerActivity.CPU],\n",
    "            record_shapes=True,\n",
    "            profile_memory=True,\n",
    "            with_stack=False\n",
    "        ) as prof:\n",
    "\n",
    "            for img_path in image_files:\n",
    "                img = Image.open(img_path).convert('RGB')\n",
    "                img = transform(img).unsqueeze(0).to(device)\n",
    "\n",
    "                start_time = time.time()\n",
    "                with torch.no_grad():\n",
    "                    _ = model(img)\n",
    "                end_time = time.time()\n",
    "\n",
    "                total_time += (end_time - start_time)\n",
    "\n",
    "                prof.step()  # Mark end of one iteration\n",
    "\n",
    "        return total_time, prof.key_averages().table(sort_by=\"cuda_time_total\" if torch.cuda.is_available() else \"cpu_time_total\", row_limit=10)\n",
    "\n",
    "    # cProfile for profiling\n",
    "    pr = cProfile.Profile()\n",
    "    pr.enable()\n",
    "    total_time, prof_table = profile_model_inference(model, image_files, transform, device)\n",
    "    pr.disable()\n",
    "\n",
    "    s = io.StringIO()\n",
    "    ps = pstats.Stats(pr, stream=s).strip_dirs().sort_stats('tottime')\n",
    "    ps.print_stats(15)\n",
    "\n",
    "    profile_outputs[model_name] = s.getvalue()\n",
    "\n",
    "    # pytorch profiler\n",
    "    profiler_tables[model_name] = prof_table\n",
    "\n",
    "    avg_latency = (total_time / len(image_files)) * 1000  # Convert to ms\n",
    "    avg_fps = len(image_files) / total_time  # Compute FPS\n",
    "\n",
    "    latencies[model_name] = avg_latency\n",
    "    fps_values[model_name] = avg_fps\n",
    "    timing_results.append((model_name, avg_latency, avg_fps))\n",
    "\n",
    "    # model parameters\n",
    "    info = summary(model, input_size=(1, 3, 640, 640), verbose=0)\n",
    "    total_params = info.total_params\n",
    "    params_m = total_params / 1e6\n",
    "    model_size_mb = total_params * 4 / (1024 ** 2)\n",
    "\n",
    "    params_dict[model_name] = params_m\n",
    "    model_size_dict[model_name] = model_size_mb\n",
    "\n",
    "    # FLOPs\n",
    "    input_tensor = torch.randn(1, 3, 640, 640).to(device)\n",
    "    flops = FlopCountAnalysis(model, input_tensor)\n",
    "    total_flops = flops.total()\n",
    "    gflops = total_flops / 1e9\n",
    "    gflops_dict[model_name] = gflops\n",
    "\n",
    "\n",
    "    # Utilization\n",
    "    actual_gflops_per_second = gflops / (avg_latency / 1000)\n",
    "    utilization = (actual_gflops_per_second / PEAK_GFLOPS) * 100\n",
    "    utilization_dict[model_name] = utilization\n",
    "\n",
    "    # Operational Intensity\n",
    "    input_size_bytes = 3 * 640 * 640 * 4  # RGB image, float32\n",
    "    activation_estimate = input_size_bytes * 3\n",
    "    memory_accessed = total_params * 4 + activation_estimate\n",
    "    oi = total_flops / memory_accessed\n",
    "    peak_oi = PEAK_GFLOPS / PEAK_BANDWIDTH\n",
    "\n",
    "    oi_dict[model_name] = oi\n",
    "    bound_type = \"Compute Bound\" if oi > peak_oi else \"Memory Bound\"\n",
    "    bound_type_dict[model_name] = bound_type\n",
    "\n",
    "    # Per-layer GFLOPs\n",
    "    layer_flops = flops.by_module()\n",
    "    layer_gflops = {k: v / 1e9 for k, v in layer_flops.items()}\n",
    "    per_layer_gflops_dict[model_name] = layer_gflops"
   ]
  },
  {
   "cell_type": "markdown",
   "metadata": {},
   "source": [
    "# Benchmarking Results"
   ]
  },
  {
   "cell_type": "code",
   "execution_count": 51,
   "metadata": {},
   "outputs": [
    {
     "name": "stdout",
     "output_type": "stream",
     "text": [
      "_______________________________________________\n",
      "Model                  Latency (ms)        FPS\n",
      "_______________________________________________\n",
      "yolov5n                    8.50 ms      117.64\n",
      "yolov5s                    8.86 ms      112.81\n",
      "yolov5m                   11.00 ms       90.90\n",
      "yolov5l                   13.63 ms       73.36\n",
      "yolov5x                   16.02 ms       62.42\n",
      "_______________________________________________\n"
     ]
    }
   ],
   "source": [
    "print(\"_______________________________________________\")\n",
    "print(\"Model                  Latency (ms)        FPS\")\n",
    "print(\"_______________________________________________\")\n",
    "for model_name, latency, fps in timing_results:\n",
    "    print(f\"{model_name:<16} {latency:>14.2f} ms    {fps:>8.2f}\")\n",
    "print(\"_______________________________________________\")"
   ]
  },
  {
   "cell_type": "markdown",
   "metadata": {},
   "source": [
    "# Visualization"
   ]
  },
  {
   "cell_type": "code",
   "execution_count": 52,
   "metadata": {},
   "outputs": [
    {
     "data": {
      "image/png": "[encoded data removed]",
      "text/plain": [
       "<Figure size 1000x500 with 1 Axes>"
      ]
     },
     "metadata": {},
     "output_type": "display_data"
    },
    {
     "data": {
      "image/png": "[encoded data removed]",
      "text/plain": [
       "<Figure size 1000x500 with 1 Axes>"
      ]
     },
     "metadata": {},
     "output_type": "display_data"
    }
   ],
   "source": [
    "%matplotlib inline\n",
    "\n",
    "# Plot Latency\n",
    "plt.figure(figsize=(10, 5))\n",
    "plt.bar(latencies.keys(), latencies.values(), color='blue')\n",
    "plt.xlabel('Model')\n",
    "plt.ylabel('Latency (ms)')\n",
    "plt.title('YOLOv5 Model Latency')\n",
    "plt.show()\n",
    "\n",
    "# Plot FPS\n",
    "plt.figure(figsize=(10, 5))\n",
    "plt.bar(fps_values.keys(), fps_values.values(), color='red')\n",
    "plt.xlabel('Model')\n",
    "plt.ylabel('Frames Per Second (FPS)')\n",
    "plt.title('YOLOv5 Model FPS')\n",
    "plt.show()\n"
   ]
  },
  {
   "cell_type": "markdown",
   "metadata": {},
   "source": [
    "# Accuracy Analysis"
   ]
  },
  {
   "cell_type": "code",
   "execution_count": 53,
   "metadata": {},
   "outputs": [
    {
     "name": "stdout",
     "output_type": "stream",
     "text": [
      "\u001b[34m\u001b[1mval: \u001b[0mdata=/home/dishapant/Desktop/spp/yolov5_benchmarking_optimization/yolov5/data/coco128.yaml, weights=['yolov5n.pt'], batch_size=32, imgsz=640, conf_thres=0.001, iou_thres=0.65, max_det=300, task=val, device=, workers=8, single_cls=False, augment=False, verbose=False, save_txt=False, save_hybrid=False, save_conf=False, save_json=False, project=runs/val, name=exp, exist_ok=False, half=False, dnn=False\n",
      "YOLOv5 🚀 v7.0-411-gf4d8a84c Python-3.11.11 torch-2.6.0+cu124 CUDA:0 (NVIDIA GeForce RTX 3060 Laptop GPU, 5938MiB)\n",
      "\n",
      "Fusing layers... \n",
      "YOLOv5n summary: 213 layers, 1867405 parameters, 0 gradients, 4.5 GFLOPs\n",
      "\u001b[34m\u001b[1mval: \u001b[0mScanning /home/dishapant/Desktop/spp/yolov5_benchmarking_optimization/datas\u001b[0m\n",
      "                 Class     Images  Instances          P          R      mAP50   \n",
      "                   all        128        929      0.629      0.478      0.541      0.349\n",
      "Speed: 0.3ms pre-process, 5.2ms inference, 4.2ms NMS per image at shape (32, 3, 640, 640)\n",
      "Results saved to \u001b[1mruns/val/exp52\u001b[0m\n"
     ]
    }
   ],
   "source": [
    "# For YOLOv5n\n",
    "!python val.py --weights yolov5n.pt --data coco128.yaml --img 640 --iou 0.65 --task val"
   ]
  },
  {
   "cell_type": "code",
   "execution_count": 54,
   "metadata": {},
   "outputs": [
    {
     "name": "stdout",
     "output_type": "stream",
     "text": [
      "\u001b[34m\u001b[1mval: \u001b[0mdata=/home/dishapant/Desktop/spp/yolov5_benchmarking_optimization/yolov5/data/coco128.yaml, weights=['yolov5s.pt'], batch_size=32, imgsz=640, conf_thres=0.001, iou_thres=0.65, max_det=300, task=val, device=, workers=8, single_cls=False, augment=False, verbose=False, save_txt=False, save_hybrid=False, save_conf=False, save_json=False, project=runs/val, name=exp, exist_ok=False, half=False, dnn=False\n",
      "YOLOv5 🚀 v7.0-411-gf4d8a84c Python-3.11.11 torch-2.6.0+cu124 CUDA:0 (NVIDIA GeForce RTX 3060 Laptop GPU, 5938MiB)\n",
      "\n",
      "Fusing layers... \n",
      "YOLOv5s summary: 213 layers, 7225885 parameters, 0 gradients, 16.4 GFLOPs\n",
      "\u001b[34m\u001b[1mval: \u001b[0mScanning /home/dishapant/Desktop/spp/yolov5_benchmarking_optimization/datas\u001b[0m\n",
      "                 Class     Images  Instances          P          R      mAP50   \n",
      "                   all        128        929       0.69      0.623      0.702       0.48\n",
      "Speed: 0.4ms pre-process, 5.0ms inference, 3.8ms NMS per image at shape (32, 3, 640, 640)\n",
      "Results saved to \u001b[1mruns/val/exp53\u001b[0m\n"
     ]
    }
   ],
   "source": [
    "# For YOLOv5s\n",
    "!python val.py --weights yolov5s.pt --data coco128.yaml --img 640 --iou 0.65 --task val"
   ]
  },
  {
   "cell_type": "code",
   "execution_count": 55,
   "metadata": {},
   "outputs": [
    {
     "name": "stdout",
     "output_type": "stream",
     "text": [
      "\u001b[34m\u001b[1mval: \u001b[0mdata=/home/dishapant/Desktop/spp/yolov5_benchmarking_optimization/yolov5/data/coco128.yaml, weights=['yolov5m.pt'], batch_size=32, imgsz=640, conf_thres=0.001, iou_thres=0.65, max_det=300, task=val, device=, workers=8, single_cls=False, augment=False, verbose=False, save_txt=False, save_hybrid=False, save_conf=False, save_json=False, project=runs/val, name=exp, exist_ok=False, half=False, dnn=False\n",
      "YOLOv5 🚀 v7.0-411-gf4d8a84c Python-3.11.11 torch-2.6.0+cu124 CUDA:0 (NVIDIA GeForce RTX 3060 Laptop GPU, 5938MiB)\n",
      "\n",
      "Fusing layers... \n",
      "YOLOv5m summary: 290 layers, 21172173 parameters, 0 gradients, 48.9 GFLOPs\n",
      "\u001b[34m\u001b[1mval: \u001b[0mScanning /home/dishapant/Desktop/spp/yolov5_benchmarking_optimization/datas\u001b[0m\n",
      "                 Class     Images  Instances          P          R      mAP50   \n",
      "                   all        128        929      0.736      0.694      0.773      0.553\n",
      "Speed: 0.3ms pre-process, 10.1ms inference, 4.1ms NMS per image at shape (32, 3, 640, 640)\n",
      "Results saved to \u001b[1mruns/val/exp54\u001b[0m\n"
     ]
    }
   ],
   "source": [
    "# For YOLOv5m\n",
    "!python val.py --weights yolov5m.pt --data coco128.yaml --img 640 --iou 0.65 --task val"
   ]
  },
  {
   "cell_type": "code",
   "execution_count": 56,
   "metadata": {},
   "outputs": [
    {
     "name": "stdout",
     "output_type": "stream",
     "text": [
      "\u001b[34m\u001b[1mval: \u001b[0mdata=/home/dishapant/Desktop/spp/yolov5_benchmarking_optimization/yolov5/data/coco128.yaml, weights=['yolov5l.pt'], batch_size=32, imgsz=640, conf_thres=0.001, iou_thres=0.65, max_det=300, task=val, device=, workers=8, single_cls=False, augment=False, verbose=False, save_txt=False, save_hybrid=False, save_conf=False, save_json=False, project=runs/val, name=exp, exist_ok=False, half=False, dnn=False\n",
      "YOLOv5 🚀 v7.0-411-gf4d8a84c Python-3.11.11 torch-2.6.0+cu124 CUDA:0 (NVIDIA GeForce RTX 3060 Laptop GPU, 5938MiB)\n",
      "\n",
      "Fusing layers... \n",
      "YOLOv5l summary: 367 layers, 46533693 parameters, 0 gradients, 109.0 GFLOPs\n",
      "\u001b[34m\u001b[1mval: \u001b[0mScanning /home/dishapant/Desktop/spp/yolov5_benchmarking_optimization/datas\u001b[0m\n",
      "                 Class     Images  Instances          P          R      mAP50   \n",
      "                   all        128        929      0.795      0.694      0.811      0.602\n",
      "Speed: 0.2ms pre-process, 17.1ms inference, 3.3ms NMS per image at shape (32, 3, 640, 640)\n",
      "Results saved to \u001b[1mruns/val/exp55\u001b[0m\n"
     ]
    }
   ],
   "source": [
    "# For YOLOv5l\n",
    "!python val.py --weights yolov5l.pt --data coco128.yaml --img 640 --iou 0.65 --task val"
   ]
  },
  {
   "cell_type": "code",
   "execution_count": 57,
   "metadata": {},
   "outputs": [
    {
     "name": "stdout",
     "output_type": "stream",
     "text": [
      "\u001b[34m\u001b[1mval: \u001b[0mdata=/home/dishapant/Desktop/spp/yolov5_benchmarking_optimization/yolov5/data/coco128.yaml, weights=['yolov5x.pt'], batch_size=32, imgsz=640, conf_thres=0.001, iou_thres=0.65, max_det=300, task=val, device=, workers=8, single_cls=False, augment=False, verbose=False, save_txt=False, save_hybrid=False, save_conf=False, save_json=False, project=runs/val, name=exp, exist_ok=False, half=False, dnn=False\n",
      "YOLOv5 🚀 v7.0-411-gf4d8a84c Python-3.11.11 torch-2.6.0+cu124 CUDA:0 (NVIDIA GeForce RTX 3060 Laptop GPU, 5938MiB)\n",
      "\n",
      "Fusing layers... \n",
      "YOLOv5x summary: 444 layers, 86705005 parameters, 0 gradients, 205.5 GFLOPs\n",
      "\u001b[34m\u001b[1mval: \u001b[0mScanning /home/dishapant/Desktop/spp/yolov5_benchmarking_optimization/datas\u001b[0m\n",
      "                 Class     Images  Instances          P          R      mAP50   \n",
      "Traceback (most recent call last):\n",
      "  File \"/home/dishapant/Desktop/spp/yolov5_benchmarking_optimization/yolov5/val.py\", line 604, in <module>\n",
      "    main(opt)\n",
      "  File \"/home/dishapant/Desktop/spp/yolov5_benchmarking_optimization/yolov5/val.py\", line 575, in main\n",
      "    run(**vars(opt))\n",
      "  File \"/home/dishapant/miniconda3/envs/yolo-benchmark/lib/python3.11/site-packages/torch/utils/_contextlib.py\", line 116, in decorate_context\n",
      "    return func(*args, **kwargs)\n",
      "           ^^^^^^^^^^^^^^^^^^^^^\n",
      "  File \"/home/dishapant/Desktop/spp/yolov5_benchmarking_optimization/yolov5/val.py\", line 341, in run\n",
      "    preds, train_out = model(im) if compute_loss else (model(im, augment=augment), None)\n",
      "                                                       ^^^^^^^^^^^^^^^^^^^^^^^^^^\n",
      "  File \"/home/dishapant/miniconda3/envs/yolo-benchmark/lib/python3.11/site-packages/torch/nn/modules/module.py\", line 1739, in _wrapped_call_impl\n",
      "    return self._call_impl(*args, **kwargs)\n",
      "           ^^^^^^^^^^^^^^^^^^^^^^^^^^^^^^^^\n",
      "  File \"/home/dishapant/miniconda3/envs/yolo-benchmark/lib/python3.11/site-packages/torch/nn/modules/module.py\", line 1750, in _call_impl\n",
      "    return forward_call(*args, **kwargs)\n",
      "           ^^^^^^^^^^^^^^^^^^^^^^^^^^^^^\n",
      "  File \"/home/dishapant/Desktop/spp/yolov5_benchmarking_optimization/yolov5/models/common.py\", line 700, in forward\n",
      "    y = self.model(im, augment=augment, visualize=visualize) if augment or visualize else self.model(im)\n",
      "                                                                                          ^^^^^^^^^^^^^^\n",
      "  File \"/home/dishapant/miniconda3/envs/yolo-benchmark/lib/python3.11/site-packages/torch/nn/modules/module.py\", line 1739, in _wrapped_call_impl\n",
      "    return self._call_impl(*args, **kwargs)\n",
      "           ^^^^^^^^^^^^^^^^^^^^^^^^^^^^^^^^\n",
      "  File \"/home/dishapant/miniconda3/envs/yolo-benchmark/lib/python3.11/site-packages/torch/nn/modules/module.py\", line 1750, in _call_impl\n",
      "    return forward_call(*args, **kwargs)\n",
      "           ^^^^^^^^^^^^^^^^^^^^^^^^^^^^^\n",
      "  File \"/home/dishapant/Desktop/spp/yolov5_benchmarking_optimization/yolov5/models/yolo.py\", line 270, in forward\n",
      "    return self._forward_once(x, profile, visualize)  # single-scale inference, train\n",
      "           ^^^^^^^^^^^^^^^^^^^^^^^^^^^^^^^^^^^^^^^^^\n",
      "  File \"/home/dishapant/Desktop/spp/yolov5_benchmarking_optimization/yolov5/models/yolo.py\", line 169, in _forward_once\n",
      "    x = m(x)  # run\n",
      "        ^^^^\n",
      "  File \"/home/dishapant/miniconda3/envs/yolo-benchmark/lib/python3.11/site-packages/torch/nn/modules/module.py\", line 1739, in _wrapped_call_impl\n",
      "    return self._call_impl(*args, **kwargs)\n",
      "           ^^^^^^^^^^^^^^^^^^^^^^^^^^^^^^^^\n",
      "  File \"/home/dishapant/miniconda3/envs/yolo-benchmark/lib/python3.11/site-packages/torch/nn/modules/module.py\", line 1750, in _call_impl\n",
      "    return forward_call(*args, **kwargs)\n",
      "           ^^^^^^^^^^^^^^^^^^^^^^^^^^^^^\n",
      "  File \"/home/dishapant/Desktop/spp/yolov5_benchmarking_optimization/yolov5/models/common.py\", line 247, in forward\n",
      "    return self.cv3(torch.cat((self.m(self.cv1(x)), self.cv2(x)), 1))\n",
      "           ^^^^^^^^^^^^^^^^^^^^^^^^^^^^^^^^^^^^^^^^^^^^^^^^^^^^^^^^^^\n",
      "  File \"/home/dishapant/miniconda3/envs/yolo-benchmark/lib/python3.11/site-packages/torch/nn/modules/module.py\", line 1739, in _wrapped_call_impl\n",
      "    return self._call_impl(*args, **kwargs)\n",
      "           ^^^^^^^^^^^^^^^^^^^^^^^^^^^^^^^^\n",
      "  File \"/home/dishapant/miniconda3/envs/yolo-benchmark/lib/python3.11/site-packages/torch/nn/modules/module.py\", line 1750, in _call_impl\n",
      "    return forward_call(*args, **kwargs)\n",
      "           ^^^^^^^^^^^^^^^^^^^^^^^^^^^^^\n",
      "  File \"/home/dishapant/Desktop/spp/yolov5_benchmarking_optimization/yolov5/models/common.py\", line 91, in forward_fuse\n",
      "    return self.act(self.conv(x))\n",
      "                    ^^^^^^^^^^^^\n",
      "  File \"/home/dishapant/miniconda3/envs/yolo-benchmark/lib/python3.11/site-packages/torch/nn/modules/module.py\", line 1739, in _wrapped_call_impl\n",
      "    return self._call_impl(*args, **kwargs)\n",
      "           ^^^^^^^^^^^^^^^^^^^^^^^^^^^^^^^^\n",
      "  File \"/home/dishapant/miniconda3/envs/yolo-benchmark/lib/python3.11/site-packages/torch/nn/modules/module.py\", line 1750, in _call_impl\n",
      "    return forward_call(*args, **kwargs)\n",
      "           ^^^^^^^^^^^^^^^^^^^^^^^^^^^^^\n",
      "  File \"/home/dishapant/miniconda3/envs/yolo-benchmark/lib/python3.11/site-packages/torch/nn/modules/conv.py\", line 554, in forward\n",
      "    return self._conv_forward(input, self.weight, self.bias)\n",
      "           ^^^^^^^^^^^^^^^^^^^^^^^^^^^^^^^^^^^^^^^^^^^^^^^^^\n",
      "  File \"/home/dishapant/miniconda3/envs/yolo-benchmark/lib/python3.11/site-packages/torch/nn/modules/conv.py\", line 549, in _conv_forward\n",
      "    return F.conv2d(\n",
      "           ^^^^^^^^^\n",
      "torch.OutOfMemoryError: CUDA out of memory. Tried to allocate 552.00 MiB. GPU 0 has a total capacity of 5.80 GiB of which 289.62 MiB is free. Process 17907 has 2.48 GiB memory in use. Including non-PyTorch memory, this process has 3.02 GiB memory in use. Of the allocated memory 2.03 GiB is allocated by PyTorch, and 876.26 MiB is reserved by PyTorch but unallocated. If reserved but unallocated memory is large try setting PYTORCH_CUDA_ALLOC_CONF=expandable_segments:True to avoid fragmentation.  See documentation for Memory Management  (https://pytorch.org/docs/stable/notes/cuda.html#environment-variables)\n"
     ]
    }
   ],
   "source": [
    "# For YOLOv5x\n",
    "!python val.py --weights yolov5x.pt --data coco128.yaml --img 640 --iou 0.65 --task val"
   ]
  },
  {
   "cell_type": "markdown",
   "metadata": {},
   "source": [
    "# Roofline Analysis Information"
   ]
  },
  {
   "cell_type": "code",
   "execution_count": 58,
   "metadata": {},
   "outputs": [
    {
     "name": "stdout",
     "output_type": "stream",
     "text": [
      "\n",
      "\n",
      "===========================================================================\n",
      "Model      Params (M)  Size (MB)   GFLOPs   Utilization (%)   Bound Type\n",
      "===========================================================================\n",
      "yolov5n          1.87       7.12     2.23             2.40     Compute Bound\n",
      "yolov5s          7.23      27.56     8.22             8.47     Compute Bound\n",
      "yolov5m         21.17      80.77    24.44            20.31     Compute Bound\n",
      "yolov5l         46.53     177.51    54.50            36.55     Compute Bound\n",
      "yolov5x         86.71     330.75   102.73            58.62     Compute Bound\n",
      "===========================================================================\n"
     ]
    }
   ],
   "source": [
    "print(\"\\n\")\n",
    "print(\"===========================================================================\")\n",
    "print(\"Model      Params (M)  Size (MB)   GFLOPs   Utilization (%)   Bound Type\")\n",
    "print(\"===========================================================================\")\n",
    "\n",
    "for model_name in models.keys():\n",
    "    params_m = params_dict[model_name]\n",
    "    model_size = model_size_dict[model_name]\n",
    "    gflops = gflops_dict[model_name]\n",
    "    utilization = utilization_dict[model_name]\n",
    "    bound_type = bound_type_dict[model_name]\n",
    "\n",
    "    print(f\"{model_name:<10} {params_m:>10.2f}  {model_size:>9.2f}  {gflops:>7.2f}  \"\n",
    "          f\"{utilization:>15.2f}     {bound_type}\")\n",
    "\n",
    "print(\"===========================================================================\")\n"
   ]
  },
  {
   "cell_type": "markdown",
   "metadata": {},
   "source": [
    "# Per-Layer Analysis"
   ]
  },
  {
   "cell_type": "code",
   "execution_count": 59,
   "metadata": {},
   "outputs": [],
   "source": [
    "per_layer_utilization_dict = {}\n",
    "highest_util_layers = {}\n",
    "lowest_util_layers = {}\n",
    "\n",
    "for model_name in models.keys():\n",
    "    model_util = utilization_dict[model_name]\n",
    "    model_total_gflops = gflops_dict[model_name]\n",
    "    per_layer_gflops = per_layer_gflops_dict[model_name]\n",
    "\n",
    "    # Compute per-layer utilization approx.\n",
    "    per_layer_util = {}\n",
    "    for layer, layer_gflops in per_layer_gflops.items():\n",
    "        if layer.strip() == \"\" or layer.strip() in {\"model\", \"model.model\"}:\n",
    "            continue  # Skip root / aggregate layers\n",
    "        layer_util = (layer_gflops / model_total_gflops) * model_util\n",
    "        per_layer_util[layer] = layer_util\n",
    "\n",
    "    per_layer_utilization_dict[model_name] = per_layer_util\n",
    "\n",
    "    # Sort layers\n",
    "    sorted_layers = sorted(per_layer_util.items(), key=lambda x: x[1], reverse=True)\n",
    "\n",
    "    # Save top and bottom 3 layers\n",
    "    highest_util_layers[model_name] = sorted_layers[:3]\n",
    "    lowest_util_layers[model_name] = sorted_layers[-3:]\n"
   ]
  },
  {
   "cell_type": "code",
   "execution_count": 60,
   "metadata": {},
   "outputs": [
    {
     "name": "stdout",
     "output_type": "stream",
     "text": [
      "\n",
      "===================================================================\n",
      "Per-Layer Utilization Summary\n",
      "===================================================================\n",
      "\n",
      "Model: yolov5n\n",
      "Highest Utilization Layers:\n",
      "    model.model.6                           : 0.27%\n",
      "    model.model.6.m                         : 0.21%\n",
      "    model.model.4                           : 0.20%\n",
      "Lowest Utilization Layers:\n",
      "    model.model.23.cv3.act                  : 0.00%\n",
      "    model.model.23.m.0.cv1.act              : 0.00%\n",
      "    model.model.23.m.0.cv2.act              : 0.00%\n",
      "\n",
      "Model: yolov5s\n",
      "Highest Utilization Layers:\n",
      "    model.model.6                           : 1.03%\n",
      "    model.model.6.m                         : 0.81%\n",
      "    model.model.4                           : 0.76%\n",
      "Lowest Utilization Layers:\n",
      "    model.model.23.cv3.act                  : 0.00%\n",
      "    model.model.23.m.0.cv1.act              : 0.00%\n",
      "    model.model.23.m.0.cv2.act              : 0.00%\n",
      "\n",
      "Model: yolov5m\n",
      "Highest Utilization Layers:\n",
      "    model.model.6                           : 3.33%\n",
      "    model.model.6.m                         : 2.94%\n",
      "    model.model.4                           : 2.35%\n",
      "Lowest Utilization Layers:\n",
      "    model.model.23.m.0.cv2.act              : 0.00%\n",
      "    model.model.23.m.1.cv1.act              : 0.00%\n",
      "    model.model.23.m.1.cv2.act              : 0.00%\n",
      "\n",
      "Model: yolov5l\n",
      "Highest Utilization Layers:\n",
      "    model.model.6                           : 6.89%\n",
      "    model.model.6.m                         : 6.33%\n",
      "    model.model.4                           : 4.78%\n",
      "Lowest Utilization Layers:\n",
      "    model.model.23.m.1.cv2.act              : 0.00%\n",
      "    model.model.23.m.2.cv1.act              : 0.00%\n",
      "    model.model.23.m.2.cv2.act              : 0.00%\n",
      "\n",
      "Model: yolov5x\n",
      "Highest Utilization Layers:\n",
      "    model.model.6                           : 11.97%\n",
      "    model.model.6.m                         : 11.22%\n",
      "    model.model.4                           : 8.23%\n",
      "Lowest Utilization Layers:\n",
      "    model.model.23.m.2.cv2.act              : 0.00%\n",
      "    model.model.23.m.3.cv1.act              : 0.00%\n",
      "    model.model.23.m.3.cv2.act              : 0.00%\n",
      "===================================================================\n"
     ]
    }
   ],
   "source": [
    "print(\"\\n===================================================================\")\n",
    "print(\"Per-Layer Utilization Summary\")\n",
    "print(\"===================================================================\")\n",
    "\n",
    "for model_name in models.keys():\n",
    "    print(f\"\\nModel: {model_name}\")\n",
    "\n",
    "    print(\"Highest Utilization Layers:\")\n",
    "    for layer, util in highest_util_layers[model_name]:\n",
    "        print(f\"    {layer:<40}: {util:.2f}%\")\n",
    "\n",
    "    print(\"Lowest Utilization Layers:\")\n",
    "    for layer, util in lowest_util_layers[model_name]:\n",
    "        print(f\"    {layer:<40}: {util:.2f}%\")\n",
    "print(\"===================================================================\")"
   ]
  },
  {
   "cell_type": "markdown",
   "metadata": {},
   "source": [
    "# cProfile Profiling results"
   ]
  },
  {
   "cell_type": "code",
   "execution_count": 61,
   "metadata": {},
   "outputs": [
    {
     "name": "stdout",
     "output_type": "stream",
     "text": [
      "\n",
      "=== cProfile for yolov5n ===\n",
      "         20558907 function calls (15441915 primitive calls) in 18.472 seconds\n",
      "\n",
      "   Ordered by: internal time\n",
      "   List reduced from 388 to 15 due to restriction <15>\n",
      "\n",
      "   ncalls  tottime  percall  cumtime  percall filename:lineno(function)\n",
      "        1    3.443    3.443    9.105    9.105 profiler.py:525(_parse_kineto_results)\n",
      "1271600/431713    1.694    0.000    2.753    0.000 profiler_util.py:576(device_time_total)\n",
      "        1    1.261    1.261    1.261    1.261 {built-in method torch._C._autograd._disable_profiler}\n",
      "   163837    0.930    0.000    0.932    0.000 profiler.py:697(<lambda>)\n",
      "2988548/1099496    0.804    0.000    2.746    0.000 {built-in method builtins.sum}\n",
      "   163837    0.795    0.000    0.822    0.000 profiler_util.py:446(__init__)\n",
      "   150602    0.475    0.000    0.477    0.000 {built-in method torch._C._autograd.shapes}\n",
      "   163537    0.464    0.000    4.741    0.000 profiler_util.py:674(add)\n",
      "     6000    0.429    0.000    0.429    0.000 {built-in method torch.conv2d}\n",
      "   163537    0.384    0.000    0.427    0.000 profiler_util.py:317(get_key)\n",
      "   405613    0.376    0.000    0.449    0.000 profiler_util.py:561(cpu_time_total)\n",
      "   863262    0.366    0.000    0.366    0.000 {built-in method torch._C._autograd.name}\n",
      "        3    0.361    0.120    0.361    0.120 {built-in method torch._C._autograd.events}\n",
      "2059287/671192    0.308    0.000    1.915    0.000 profiler_util.py:583(<genexpr>)\n",
      "1283832/327074    0.292    0.000    0.292    0.000 profiler_util.py:139(bw_parent)\n",
      "\n",
      "\n",
      "\n",
      "\n",
      "========================================\n",
      "\n",
      "=== cProfile for yolov5s ===\n",
      "         21033239 function calls (15778119 primitive calls) in 20.597 seconds\n",
      "\n",
      "   Ordered by: internal time\n",
      "   List reduced from 387 to 15 due to restriction <15>\n",
      "\n",
      "   ncalls  tottime  percall  cumtime  percall filename:lineno(function)\n",
      "        1    6.048    6.048   11.010   11.010 profiler.py:525(_parse_kineto_results)\n",
      "1304758/441778    1.695    0.000    2.767    0.000 profiler_util.py:576(device_time_total)\n",
      "        1    1.368    1.368    1.368    1.368 {built-in method torch._C._autograd._disable_profiler}\n",
      "   167825    1.072    0.000    1.104    0.000 profiler_util.py:446(__init__)\n",
      "3055616/1116200    0.811    0.000    2.764    0.000 {built-in method builtins.sum}\n",
      "   167525    0.457    0.000    4.741    0.000 profiler_util.py:674(add)\n",
      "     6000    0.449    0.000    0.449    0.000 {built-in method torch.conv2d}\n",
      "        3    0.411    0.137    0.411    0.137 {built-in method torch._C._autograd.events}\n",
      "   167525    0.380    0.000    0.426    0.000 profiler_util.py:317(get_key)\n",
      "   883250    0.380    0.000    0.380    0.000 {built-in method torch._C._autograd.name}\n",
      "   413778    0.373    0.000    0.446    0.000 profiler_util.py:561(cpu_time_total)\n",
      "2111738/683736    0.315    0.000    1.929    0.000 profiler_util.py:583(<genexpr>)\n",
      "1316572/335050    0.303    0.000    0.303    0.000 profiler_util.py:139(bw_parent)\n",
      "   451314    0.277    0.000    0.277    0.000 {built-in method torch._C._autograd.device_type}\n",
      "        1    0.238    0.238    1.126    1.126 profiler_util.py:68(_populate_cpu_children)\n",
      "\n",
      "\n",
      "\n",
      "\n",
      "========================================\n",
      "\n",
      "=== cProfile for yolov5m ===\n",
      "         29111387 function calls (21625588 primitive calls) in 29.212 seconds\n",
      "\n",
      "   Ordered by: internal time\n",
      "   List reduced from 387 to 15 due to restriction <15>\n",
      "\n",
      "   ncalls  tottime  percall  cumtime  percall filename:lineno(function)\n",
      "        1    3.492    3.492   15.563   15.563 profiler.py:525(_parse_kineto_results)\n",
      "1837943/603920    2.599    0.000    4.260    0.000 profiler_util.py:576(device_time_total)\n",
      "   212304    2.191    0.000    2.195    0.000 profiler.py:595(<listcomp>)\n",
      "   228439    1.863    0.000    1.910    0.000 profiler_util.py:446(__init__)\n",
      "        1    1.812    1.812    1.812    1.812 {built-in method torch._C._autograd._disable_profiler}\n",
      "   110656    1.297    0.000    1.371    0.000 profiler.py:537(_cpu_memory_usage)\n",
      "4270842/1507512    1.234    0.000    4.245    0.000 {built-in method builtins.sum}\n",
      "   424608    0.884    0.000    1.394    0.000 profiler_util.py:791(_rewrite_name)\n",
      "   212304    0.801    0.000    0.804    0.000 {built-in method torch._C._autograd.shapes}\n",
      "   228139    0.685    0.000    7.223    0.000 profiler_util.py:674(add)\n",
      "     8200    0.585    0.000    0.585    0.000 {built-in method torch.conv2d}\n",
      "   228139    0.578    0.000    0.641    0.000 profiler_util.py:317(get_key)\n",
      "   564220    0.562    0.000    0.669    0.000 profiler_util.py:561(cpu_time_total)\n",
      "        3    0.552    0.184    0.552    0.184 {built-in method torch._C._autograd.events}\n",
      "  1212472    0.549    0.000    0.549    0.000 {built-in method torch._C._autograd.name}\n",
      "\n",
      "\n",
      "\n",
      "\n",
      "========================================\n",
      "\n",
      "=== cProfile for yolov5l ===\n",
      "         36071018 function calls (26679355 primitive calls) in 34.886 seconds\n",
      "\n",
      "   Ordered by: internal time\n",
      "   List reduced from 387 to 15 due to restriction <15>\n",
      "\n",
      "   ncalls  tottime  percall  cumtime  percall filename:lineno(function)\n",
      "        1    8.473    8.473   18.548   18.548 profiler.py:525(_parse_kineto_results)\n",
      "2296475/746445    3.001    0.000    4.920    0.000 profiler_util.py:576(device_time_total)\n",
      "        1    2.270    2.270    2.270    2.270 {built-in method torch._C._autograd._disable_profiler}\n",
      "5325946/1858792    1.431    0.000    4.925    0.000 {built-in method builtins.sum}\n",
      "   281749    1.406    0.000    1.409    0.000 profiler.py:697(<lambda>)\n",
      "   281749    1.180    0.000    1.234    0.000 profiler_util.py:446(__init__)\n",
      "   262706    0.973    0.000    0.976    0.000 {built-in method torch._C._autograd.concrete_inputs}\n",
      "   281449    0.774    0.000    8.268    0.000 profiler_util.py:674(add)\n",
      "    10400    0.744    0.000    0.744    0.000 {built-in method torch.conv2d}\n",
      "        3    0.728    0.243    0.728    0.243 {built-in method torch._C._autograd.events}\n",
      "  1491390    0.675    0.000    0.675    0.000 {built-in method torch._C._autograd.name}\n",
      "   697345    0.638    0.000    0.761    0.000 profiler_util.py:561(cpu_time_total)\n",
      "   281449    0.636    0.000    0.713    0.000 profiler_util.py:317(get_key)\n",
      "3748305/1166442    0.567    0.000    3.489    0.000 profiler_util.py:583(<genexpr>)\n",
      "2281514/562898    0.525    0.000    0.525    0.000 profiler_util.py:139(bw_parent)\n",
      "\n",
      "\n",
      "\n",
      "\n",
      "========================================\n",
      "\n",
      "=== cProfile for yolov5x ===\n",
      "         42978055 function calls (31695034 primitive calls) in 41.592 seconds\n",
      "\n",
      "   Ordered by: internal time\n",
      "   List reduced from 387 to 15 due to restriction <15>\n",
      "\n",
      "   ncalls  tottime  percall  cumtime  percall filename:lineno(function)\n",
      "        1    7.191    7.191   20.698   20.698 profiler.py:525(_parse_kineto_results)\n",
      "2750401/886542    3.546    0.000    5.799    0.000 profiler_util.py:576(device_time_total)\n",
      "   312008    3.350    0.000    3.354    0.000 profiler.py:595(<listcomp>)\n",
      "        1    2.735    2.735    2.735    2.735 {built-in method torch._C._autograd._disable_profiler}\n",
      "      200    2.150    0.011    2.150    0.011 {method 'to' of 'torch._C.TensorBase' objects}\n",
      "6374590/2208376    1.669    0.000    5.793    0.000 {built-in method builtins.sum}\n",
      "   333947    1.374    0.000    1.432    0.000 profiler_util.py:446(__init__)\n",
      "   158655    1.345    0.000    1.442    0.000 profiler.py:537(_cpu_memory_usage)\n",
      "        3    0.905    0.302    0.905    0.302 {built-in method torch._C._autograd.events}\n",
      "   333647    0.902    0.000    9.729    0.000 profiler_util.py:674(add)\n",
      "    12600    0.884    0.000    0.884    0.000 {built-in method torch.conv2d}\n",
      "  1768996    0.772    0.000    0.772    0.000 {built-in method torch._C._autograd.name}\n",
      "   333647    0.750    0.000    0.837    0.000 profiler_util.py:317(get_key)\n",
      "   828942    0.748    0.000    0.894    0.000 profiler_util.py:561(cpu_time_total)\n",
      "4499060/1391544    0.672    0.000    4.120    0.000 profiler_util.py:583(<genexpr>)\n",
      "\n",
      "\n",
      "\n",
      "\n",
      "========================================\n"
     ]
    }
   ],
   "source": [
    "for model_name, stats in profile_outputs.items():\n",
    "    print(f\"\\n=== cProfile for {model_name} ===\")\n",
    "    print(stats)\n",
    "    print(\"\\n========================================\")"
   ]
  },
  {
   "cell_type": "markdown",
   "metadata": {},
   "source": [
    "# Pytorch Profiler Results"
   ]
  },
  {
   "cell_type": "code",
   "execution_count": 62,
   "metadata": {},
   "outputs": [
    {
     "name": "stdout",
     "output_type": "stream",
     "text": [
      "Profiler for yolov5n:\n",
      "\n",
      "-------------------------------------------------------  ------------  ------------  ------------  ------------  ------------  ------------  ------------  ------------  ------------  ------------  ------------  ------------  ------------  ------------  \n",
      "                                                   Name    Self CPU %      Self CPU   CPU total %     CPU total  CPU time avg     Self CUDA   Self CUDA %    CUDA total  CUDA time avg       CPU Mem  Self CPU Mem      CUDA Mem  Self CUDA Mem    # of Calls  \n",
      "-------------------------------------------------------  ------------  ------------  ------------  ------------  ------------  ------------  ------------  ------------  ------------  ------------  ------------  ------------  ------------  ------------  \n",
      "                                           aten::conv2d         2.05%      14.608ms        53.94%     384.438ms      64.073us       0.000us         0.00%     172.307ms      28.718us           0 b           0 b       5.42 Gb           0 b          6000  \n",
      "                                      aten::convolution         3.21%      22.892ms        51.89%     369.830ms      61.638us       0.000us         0.00%     172.307ms      28.718us           0 b           0 b       5.42 Gb           0 b          6000  \n",
      "                                     aten::_convolution         6.47%      46.147ms        48.68%     346.938ms      57.823us       0.000us         0.00%     172.307ms      28.718us           0 b           0 b       5.42 Gb           0 b          6000  \n",
      "                                aten::cudnn_convolution        21.71%     154.711ms        30.70%     218.805ms      36.468us     136.015ms        47.53%     136.015ms      22.669us           0 b           0 b       5.42 Gb       5.42 Gb          6000  \n",
      "                                            aten::copy_         3.69%      26.335ms        11.60%      82.695ms     118.136us      49.738ms        17.38%      49.738ms      71.055us           0 b           0 b           0 b           0 b           700  \n",
      "                                               aten::to         0.13%     911.648us        10.39%      74.027ms     123.379us       0.000us         0.00%      42.233ms      70.389us     326.78 Mb           0 b     500.00 Mb           0 b           600  \n",
      "                                         aten::_to_copy         0.29%       2.047ms        10.26%      73.116ms     243.719us       0.000us         0.00%      42.233ms     140.777us     326.78 Mb           0 b     500.00 Mb           0 b           300  \n",
      "                       Memcpy HtoD (Pageable -> Device)         0.00%       0.000us         0.00%       0.000us       0.000us      42.233ms        14.76%      42.233ms     422.332us           0 b           0 b           0 b           0 b           100  \n",
      "                                             aten::add_         5.70%      40.629ms         9.56%      68.166ms      11.361us      36.288ms        12.68%      36.292ms       6.049us           0 b           0 b           0 b           0 b          6000  \n",
      "void at::native::elementwise_kernel<128, 2, at::nati...         0.00%       0.000us         0.00%       0.000us       0.000us      36.288ms        12.68%      36.288ms       6.048us           0 b           0 b           0 b           0 b          6000  \n",
      "-------------------------------------------------------  ------------  ------------  ------------  ------------  ------------  ------------  ------------  ------------  ------------  ------------  ------------  ------------  ------------  ------------  \n",
      "Self CPU time total: 712.726ms\n",
      "Self CUDA time total: 286.159ms\n",
      "\n",
      "--------------------------------------------------------------------------------\n",
      "Profiler for yolov5s:\n",
      "\n",
      "-------------------------------------------------------  ------------  ------------  ------------  ------------  ------------  ------------  ------------  ------------  ------------  ------------  ------------  ------------  ------------  ------------  \n",
      "                                                   Name    Self CPU %      Self CPU   CPU total %     CPU total  CPU time avg     Self CUDA   Self CUDA %    CUDA total  CUDA time avg       CPU Mem  Self CPU Mem      CUDA Mem  Self CUDA Mem    # of Calls  \n",
      "-------------------------------------------------------  ------------  ------------  ------------  ------------  ------------  ------------  ------------  ------------  ------------  ------------  ------------  ------------  ------------  ------------  \n",
      "                                           aten::conv2d         1.82%      13.599ms        54.08%     403.090ms      67.182us       0.000us         0.00%     334.019ms      55.670us           0 b           0 b      10.48 Gb           0 b          6000  \n",
      "                                      aten::convolution         3.01%      22.446ms        52.26%     389.491ms      64.915us       0.000us         0.00%     334.019ms      55.670us           0 b           0 b      10.48 Gb           0 b          6000  \n",
      "                                     aten::_convolution         6.15%      45.865ms        49.25%     367.045ms      61.174us       0.000us         0.00%     334.019ms      55.670us           0 b           0 b      10.48 Gb           0 b          6000  \n",
      "                                aten::cudnn_convolution        22.04%     164.272ms        31.90%     237.770ms      39.628us     275.681ms        56.83%     275.710ms      45.952us           0 b           0 b      10.48 Gb      10.48 Gb          6000  \n",
      "void at::native::elementwise_kernel<128, 2, at::nati...         0.00%       0.000us         0.00%       0.000us       0.000us      58.331ms        12.02%      58.331ms       9.722us           0 b           0 b           0 b           0 b          6000  \n",
      "                                             aten::add_         5.52%      41.152ms         9.36%      69.782ms      11.630us      58.309ms        12.02%      58.309ms       9.718us           0 b           0 b           0 b           0 b          6000  \n",
      "                                            aten::copy_         4.06%      30.275ms        11.83%      88.182ms     125.974us      49.542ms        10.21%      49.542ms      70.774us           0 b           0 b           0 b           0 b           700  \n",
      "                                            aten::silu_         3.77%      28.087ms         7.01%      52.247ms       9.166us      44.170ms         9.11%      44.170ms       7.749us           0 b           0 b           0 b           0 b          5700  \n",
      "void at::native::vectorized_elementwise_kernel<4, at...         0.00%       0.000us         0.00%       0.000us       0.000us      44.170ms         9.11%      44.170ms       7.749us           0 b           0 b           0 b           0 b          5700  \n",
      "                                               aten::to         0.10%     782.444us        10.04%      74.798ms     124.664us       0.000us         0.00%      42.695ms      71.158us     326.78 Mb           0 b     506.25 Mb           0 b           600  \n",
      "-------------------------------------------------------  ------------  ------------  ------------  ------------  ------------  ------------  ------------  ------------  ------------  ------------  ------------  ------------  ------------  ------------  \n",
      "Self CPU time total: 745.311ms\n",
      "Self CUDA time total: 485.101ms\n",
      "\n",
      "--------------------------------------------------------------------------------\n",
      "Profiler for yolov5m:\n",
      "\n",
      "-------------------------------------------------------  ------------  ------------  ------------  ------------  ------------  ------------  ------------  ------------  ------------  ------------  ------------  ------------  ------------  ------------  \n",
      "                                                   Name    Self CPU %      Self CPU   CPU total %     CPU total  CPU time avg     Self CUDA   Self CUDA %    CUDA total  CUDA time avg       CPU Mem  Self CPU Mem      CUDA Mem  Self CUDA Mem    # of Calls  \n",
      "-------------------------------------------------------  ------------  ------------  ------------  ------------  ------------  ------------  ------------  ------------  ------------  ------------  ------------  ------------  ------------  ------------  \n",
      "                                           aten::conv2d         1.99%      17.809ms        58.77%     526.076ms      64.156us       0.000us         0.00%     920.632ms     112.272us           0 b           0 b      18.74 Gb           0 b          8200  \n",
      "                                      aten::convolution         3.27%      29.264ms        56.79%     508.267ms      61.984us       0.000us         0.00%     920.632ms     112.272us           0 b           0 b      18.74 Gb           0 b          8200  \n",
      "                                     aten::_convolution         6.65%      59.499ms        53.52%     479.004ms      58.415us       0.000us         0.00%     920.632ms     112.272us           0 b           0 b      18.74 Gb           0 b          8200  \n",
      "                                aten::cudnn_convolution        23.38%     209.247ms        34.75%     311.015ms      37.929us     815.386ms        71.85%     815.587ms      99.462us           0 b           0 b      18.74 Gb      18.74 Gb          8200  \n",
      "sm86_xmma_fprop_implicit_gemm_tf32f32_tf32f32_f32_nh...         0.00%       0.000us         0.00%       0.000us       0.000us     143.327ms        12.63%     143.327ms     143.327us           0 b           0 b           0 b           0 b          1000  \n",
      "                                             aten::add_         6.13%      54.866ms        10.13%      90.687ms      11.059us     104.888ms         9.24%     104.894ms      12.792us           0 b           0 b           0 b           0 b          8200  \n",
      "void at::native::elementwise_kernel<128, 2, at::nati...         0.00%       0.000us         0.00%       0.000us       0.000us     104.888ms         9.24%     104.888ms      12.791us           0 b           0 b           0 b           0 b          8200  \n",
      "void cutlass__5x_cudnn::Kernel<cutlass_tensorop_s168...         0.00%       0.000us         0.00%       0.000us       0.000us      99.754ms         8.79%      99.754ms     142.505us           0 b           0 b           0 b           0 b           700  \n",
      "void cudnn::engines_precompiled::nchwToNhwcKernel<fl...         0.00%       0.000us         0.00%       0.000us       0.000us      95.697ms         8.43%      95.697ms      17.089us           0 b           0 b           0 b           0 b          5600  \n",
      "void cutlass::Kernel2<cutlass_80_tensorop_s1688gemm_...         0.00%       0.000us         0.00%       0.000us       0.000us      94.424ms         8.32%      94.424ms      32.560us           0 b           0 b           0 b           0 b          2900  \n",
      "-------------------------------------------------------  ------------  ------------  ------------  ------------  ------------  ------------  ------------  ------------  ------------  ------------  ------------  ------------  ------------  ------------  \n",
      "Self CPU time total: 895.068ms\n",
      "Self CUDA time total: 1.135s\n",
      "\n",
      "--------------------------------------------------------------------------------\n",
      "Profiler for yolov5l:\n",
      "\n",
      "-------------------------------------------------------  ------------  ------------  ------------  ------------  ------------  ------------  ------------  ------------  ------------  ------------  ------------  ------------  ------------  ------------  \n",
      "                                                   Name    Self CPU %      Self CPU   CPU total %     CPU total  CPU time avg     Self CUDA   Self CUDA %    CUDA total  CUDA time avg       CPU Mem  Self CPU Mem      CUDA Mem  Self CUDA Mem    # of Calls  \n",
      "-------------------------------------------------------  ------------  ------------  ------------  ------------  ------------  ------------  ------------  ------------  ------------  ------------  ------------  ------------  ------------  ------------  \n",
      "                                           aten::conv2d         1.44%      21.431ms        44.79%     666.204ms      64.058us       0.000us         0.00%        1.717s     165.099us           0 b           0 b      30.90 Gb           0 b         10400  \n",
      "                                      aten::convolution         2.47%      36.729ms        43.35%     644.773ms      61.997us       0.000us         0.00%        1.717s     165.099us           0 b           0 b      30.90 Gb           0 b         10400  \n",
      "                                     aten::_convolution         5.10%      75.868ms        40.88%     608.044ms      58.466us       0.000us         0.00%        1.717s     165.099us           0 b           0 b      30.90 Gb       3.97 Mb         10400  \n",
      "                                aten::cudnn_convolution        17.77%     264.248ms        26.40%     392.697ms      37.759us        1.541s        75.16%        1.541s     148.202us           0 b           0 b      30.90 Gb      30.90 Gb         10400  \n",
      "sm86_xmma_fprop_implicit_gemm_tf32f32_tf32f32_f32_nh...         0.00%       0.000us         0.00%       0.000us       0.000us     352.786ms        17.20%     352.786ms     220.491us           0 b           0 b           0 b           0 b          1600  \n",
      "sm86_xmma_fprop_implicit_gemm_indexed_tf32f32_tf32f3...         0.00%       0.000us         0.00%       0.000us       0.000us     268.412ms        13.09%     268.412ms     335.514us           0 b           0 b           0 b           0 b           800  \n",
      "void cudnn::engines_precompiled::nchwToNhwcKernel<fl...         0.00%       0.000us         0.00%       0.000us       0.000us     193.073ms         9.42%     193.073ms      24.753us           0 b           0 b           0 b           0 b          7800  \n",
      "sm86_xmma_fprop_implicit_gemm_tf32f32_tf32f32_f32_nh...         0.00%       0.000us         0.00%       0.000us       0.000us     182.781ms         8.91%     182.781ms     203.090us           0 b           0 b           0 b           0 b           900  \n",
      "void at::native::elementwise_kernel<128, 2, at::nati...         0.00%       0.000us         0.00%       0.000us       0.000us     175.485ms         8.56%     175.485ms      16.874us           0 b           0 b           0 b           0 b         10400  \n",
      "                                             aten::add_         4.81%      71.479ms         7.88%     117.125ms      11.262us     175.425ms         8.55%     175.425ms      16.868us           0 b           0 b           0 b           0 b         10400  \n",
      "-------------------------------------------------------  ------------  ------------  ------------  ------------  ------------  ------------  ------------  ------------  ------------  ------------  ------------  ------------  ------------  ------------  \n",
      "Self CPU time total: 1.487s\n",
      "Self CUDA time total: 2.051s\n",
      "\n",
      "--------------------------------------------------------------------------------\n",
      "Profiler for yolov5x:\n",
      "\n",
      "-------------------------------------------------------  ------------  ------------  ------------  ------------  ------------  ------------  ------------  ------------  ------------  ------------  ------------  ------------  ------------  ------------  \n",
      "                                                   Name    Self CPU %      Self CPU   CPU total %     CPU total  CPU time avg     Self CUDA   Self CUDA %    CUDA total  CUDA time avg       CPU Mem  Self CPU Mem      CUDA Mem  Self CUDA Mem    # of Calls  \n",
      "-------------------------------------------------------  ------------  ------------  ------------  ------------  ------------  ------------  ------------  ------------  ------------  ------------  ------------  ------------  ------------  ------------  \n",
      "                                           aten::conv2d         0.79%      26.376ms        23.67%     787.593ms      62.507us       0.000us         0.00%        3.496s     277.440us           0 b           0 b      44.60 Gb           0 b         12600  \n",
      "                                      aten::convolution         1.36%      45.151ms        22.88%     761.217ms      60.414us       0.000us         0.00%        3.496s     277.440us           0 b           0 b      44.60 Gb           0 b         12600  \n",
      "                                     aten::_convolution         2.74%      91.253ms        21.52%     716.067ms      56.831us       0.000us         0.00%        3.496s     277.440us           0 b           0 b      44.60 Gb           0 b         12600  \n",
      "                                aten::cudnn_convolution         9.48%     315.534ms        13.83%     460.099ms      36.516us        3.226s        81.44%        3.227s     256.111us           0 b           0 b      44.60 Gb      44.60 Gb         12600  \n",
      "sm86_xmma_fprop_implicit_gemm_tf32f32_tf32f32_f32_nh...         0.00%       0.000us         0.00%       0.000us       0.000us     811.162ms        20.48%     811.162ms     386.268us           0 b           0 b           0 b           0 b          2100  \n",
      "sm86_xmma_fprop_implicit_gemm_tf32f32_tf32f32_f32_nh...         0.00%       0.000us         0.00%       0.000us       0.000us     579.105ms        14.62%     579.105ms     482.587us           0 b           0 b           0 b           0 b          1200  \n",
      "void cudnn::engines_precompiled::nchwToNhwcKernel<fl...         0.00%       0.000us         0.00%       0.000us       0.000us     333.797ms         8.43%     333.797ms      33.380us           0 b           0 b           0 b           0 b         10000  \n",
      "void cutlass__5x_cudnn::Kernel<cutlass_tensorop_s168...         0.00%       0.000us         0.00%       0.000us       0.000us     326.745ms         8.25%     326.745ms     363.050us           0 b           0 b           0 b           0 b           900  \n",
      "                                             aten::add_         2.55%      84.714ms         4.14%     137.620ms      10.922us     268.331ms         6.77%     268.331ms      21.296us           0 b           0 b           0 b           0 b         12600  \n",
      "void at::native::elementwise_kernel<128, 2, at::nati...         0.00%       0.000us         0.00%       0.000us       0.000us     268.331ms         6.77%     268.331ms      21.296us           0 b           0 b           0 b           0 b         12600  \n",
      "-------------------------------------------------------  ------------  ------------  ------------  ------------  ------------  ------------  ------------  ------------  ------------  ------------  ------------  ------------  ------------  ------------  \n",
      "Self CPU time total: 3.328s\n",
      "Self CUDA time total: 3.962s\n",
      "\n",
      "--------------------------------------------------------------------------------\n"
     ]
    }
   ],
   "source": [
    "for model_name, prof_table in profiler_tables.items():\n",
    "    print(f\"Profiler for {model_name}:\\n\")\n",
    "    print(prof_table)\n",
    "    print(\"-\" * 80)\n",
    "\n"
   ]
  }
 ],
 "metadata": {
  "kernelspec": {
   "display_name": "yolo-benchmark",
   "language": "python",
   "name": "python3"
  },
  "language_info": {
   "codemirror_mode": {
    "name": "ipython",
    "version": 3
   },
   "file_extension": ".py",
   "mimetype": "text/x-python",
   "name": "python",
   "nbconvert_exporter": "python",
   "pygments_lexer": "ipython3",
   "version": "3.11.11"
  }
 },
 "nbformat": 4,
 "nbformat_minor": 2
}
